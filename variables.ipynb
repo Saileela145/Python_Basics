{
 "cells": [
  {
   "cell_type": "code",
   "execution_count": 3,
   "id": "02d9abf5-aeed-4711-902e-a48d75059cf0",
   "metadata": {},
   "outputs": [],
   "source": [
    "x=100"
   ]
  },
  {
   "cell_type": "code",
   "execution_count": 4,
   "id": "c52df001-da72-4da6-91fa-d4dab1393a58",
   "metadata": {},
   "outputs": [
    {
     "data": {
      "text/plain": [
       "int"
      ]
     },
     "execution_count": 4,
     "metadata": {},
     "output_type": "execute_result"
    }
   ],
   "source": [
    "type(x)"
   ]
  },
  {
   "cell_type": "code",
   "execution_count": 5,
   "id": "0afd5c54-3588-456c-a008-d5afbd06d448",
   "metadata": {},
   "outputs": [
    {
     "data": {
      "text/plain": [
       "int"
      ]
     },
     "execution_count": 5,
     "metadata": {},
     "output_type": "execute_result"
    }
   ],
   "source": [
    "x=15*20\n",
    "type(x)"
   ]
  },
  {
   "cell_type": "code",
   "execution_count": 6,
   "id": "fea9953a-2880-4ce1-8322-e3410e0f9bb2",
   "metadata": {},
   "outputs": [
    {
     "name": "stdout",
     "output_type": "stream",
     "text": [
      "300\n"
     ]
    }
   ],
   "source": [
    "print(x)"
   ]
  },
  {
   "cell_type": "code",
   "execution_count": 7,
   "id": "1563f635-c0db-4c0e-bb27-85e3623dc73f",
   "metadata": {},
   "outputs": [],
   "source": [
    "x=3.14"
   ]
  },
  {
   "cell_type": "code",
   "execution_count": 8,
   "id": "04b7c1dd-e0e7-4b7f-9636-dbbd0dfc2142",
   "metadata": {},
   "outputs": [
    {
     "name": "stdout",
     "output_type": "stream",
     "text": [
      "3.14\n"
     ]
    }
   ],
   "source": [
    "print(x)"
   ]
  },
  {
   "cell_type": "code",
   "execution_count": 9,
   "id": "3cba482d-1a7b-4657-a233-ee6c3c5cfb14",
   "metadata": {},
   "outputs": [
    {
     "data": {
      "text/plain": [
       "float"
      ]
     },
     "execution_count": 9,
     "metadata": {},
     "output_type": "execute_result"
    }
   ],
   "source": [
    "type(x)"
   ]
  },
  {
   "cell_type": "code",
   "execution_count": 10,
   "id": "e1124960-0bbf-4889-810c-2c4ca57c016e",
   "metadata": {},
   "outputs": [],
   "source": [
    "x=\"simplilearn\""
   ]
  },
  {
   "cell_type": "code",
   "execution_count": 11,
   "id": "366cdfe3-1a84-41b0-9f50-b60b4716fb7e",
   "metadata": {},
   "outputs": [
    {
     "name": "stdout",
     "output_type": "stream",
     "text": [
      "simplilearn\n"
     ]
    }
   ],
   "source": [
    "print(x)"
   ]
  },
  {
   "cell_type": "code",
   "execution_count": 12,
   "id": "894c5fc1-99a6-4de3-8689-0288b80904f6",
   "metadata": {},
   "outputs": [
    {
     "data": {
      "text/plain": [
       "str"
      ]
     },
     "execution_count": 12,
     "metadata": {},
     "output_type": "execute_result"
    }
   ],
   "source": [
    "type(x)"
   ]
  },
  {
   "cell_type": "markdown",
   "id": "8f4acb4d-e988-4014-a522-c26e05313001",
   "metadata": {},
   "source": [
    "# List:"
   ]
  },
  {
   "cell_type": "code",
   "execution_count": 14,
   "id": "c01f2e8d-98a2-48e4-8fd8-50b7a7a620f2",
   "metadata": {},
   "outputs": [
    {
     "name": "stdout",
     "output_type": "stream",
     "text": [
      "[14, 15, 16]\n"
     ]
    }
   ],
   "source": [
    "x=[14,15,16]\n",
    "print(x)"
   ]
  },
  {
   "cell_type": "code",
   "execution_count": 15,
   "id": "83c7d63e-bdb2-4818-91c5-051b10eab799",
   "metadata": {},
   "outputs": [
    {
     "data": {
      "text/plain": [
       "list"
      ]
     },
     "execution_count": 15,
     "metadata": {},
     "output_type": "execute_result"
    }
   ],
   "source": [
    "type(x)"
   ]
  },
  {
   "cell_type": "code",
   "execution_count": 16,
   "id": "72b97ea0-7488-4288-b288-074b4d01c6c1",
   "metadata": {},
   "outputs": [
    {
     "name": "stdout",
     "output_type": "stream",
     "text": [
      "15\n"
     ]
    }
   ],
   "source": [
    "print(x[1])"
   ]
  },
  {
   "cell_type": "markdown",
   "id": "b06fffc1-b047-46de-8b39-14e9a15388d9",
   "metadata": {},
   "source": [
    "#### 1.List Repetition"
   ]
  },
  {
   "cell_type": "code",
   "execution_count": 12,
   "id": "0862440a-572e-4cce-8734-68d9cbdb00b5",
   "metadata": {},
   "outputs": [
    {
     "name": "stdout",
     "output_type": "stream",
     "text": [
      "[3, 3, 3, 3]\n",
      "[3, 6, 3, 6]\n",
      "[3, 6, 3, 6, 3, 6, 3, 6, 3, 6, 3, 6, 3, 6, 3, 6, 3, 6, 3, 6, 3, 6, 3, 6, 3, 6, 3, 6, 3, 6, 3, 6, 3, 6, 3, 6, 3, 6, 3, 6]\n"
     ]
    }
   ],
   "source": [
    "x=[3,6]\n",
    "y=[3,]*4\n",
    "print(y)\n",
    "print(x*2)\n",
    "print(x*20)"
   ]
  },
  {
   "cell_type": "markdown",
   "id": "0809097c-4bba-46b1-b92f-7a62b055c6d6",
   "metadata": {},
   "source": [
    "#### 2.List with different datatypes"
   ]
  },
  {
   "cell_type": "code",
   "execution_count": 129,
   "id": "29bfb1dc-0e22-4219-beca-e822b919e62d",
   "metadata": {},
   "outputs": [
    {
     "name": "stdout",
     "output_type": "stream",
     "text": [
      "['leela', 20, 23.5, False, [1, 5, 4], (3, 4, 5)]\n"
     ]
    },
    {
     "data": {
      "text/plain": [
       "list"
      ]
     },
     "execution_count": 129,
     "metadata": {},
     "output_type": "execute_result"
    }
   ],
   "source": [
    "x=[\"leela\",20,23.5,False,[1,5,4],(3,4,5)]\n",
    "print(x)\n",
    "type(x)"
   ]
  },
  {
   "cell_type": "markdown",
   "id": "850d8f8c-f91c-4025-a11e-c1edf1c6424e",
   "metadata": {},
   "source": [
    "#### 3.Nested List"
   ]
  },
  {
   "cell_type": "code",
   "execution_count": 154,
   "id": "f4fdb6b6-a48a-4ac0-b73e-fd221052b084",
   "metadata": {},
   "outputs": [
    {
     "name": "stdout",
     "output_type": "stream",
     "text": [
      "[1, 2]\n",
      "[5, 6]\n",
      "6\n"
     ]
    }
   ],
   "source": [
    "x=[[1,2],[3,4],[5,6]]\n",
    "print(x[0])\n",
    "print(x[2])\n",
    "print(x[2][1])"
   ]
  },
  {
   "cell_type": "markdown",
   "id": "4ba2fd76-f318-4cdb-a3ad-922a6c0fed63",
   "metadata": {},
   "source": [
    "#### 4.List Slicing"
   ]
  },
  {
   "cell_type": "code",
   "execution_count": 157,
   "id": "88b3c963-8f6a-4ff4-8cba-dd35f6f480a0",
   "metadata": {},
   "outputs": [
    {
     "name": "stdout",
     "output_type": "stream",
     "text": [
      "[20, 30, 40, 50]\n",
      "[10, 20, 30, 40, 50]\n"
     ]
    }
   ],
   "source": [
    "x=[10,20,30,40,50,60]\n",
    "print(x[1:5])\n",
    "print(x[0:5])"
   ]
  },
  {
   "cell_type": "markdown",
   "id": "6e33da64-4ab1-4e91-bfcb-316541147d24",
   "metadata": {},
   "source": [
    "#### 5.List Methods"
   ]
  },
  {
   "cell_type": "code",
   "execution_count": 162,
   "id": "da85bbd2-4051-4d1a-9097-7376095da66d",
   "metadata": {},
   "outputs": [
    {
     "name": "stdout",
     "output_type": "stream",
     "text": [
      "[3, 4, 7, 9]\n"
     ]
    }
   ],
   "source": [
    "x=[3,9,7]\n",
    "x.append(4)\n",
    "x.sort()\n",
    "print(x)"
   ]
  },
  {
   "cell_type": "markdown",
   "id": "6be1d64d-26ef-4840-9344-84e2249e7549",
   "metadata": {},
   "source": [
    "#### 6.List Comprehension"
   ]
  },
  {
   "cell_type": "code",
   "execution_count": 174,
   "id": "618ebd69-8a87-4ef0-9cd3-802f969d45cc",
   "metadata": {},
   "outputs": [
    {
     "name": "stdout",
     "output_type": "stream",
     "text": [
      "[0, 1, 4, 9, 16, 25, 36, 49]\n",
      "[1, 1, 4, 27, 256, 3125, 46656, 823543]\n"
     ]
    }
   ],
   "source": [
    "x=[i*i for i in range(8)]\n",
    "y=[i**i for i in range(8)]\n",
    "print(x)\n",
    "print(y)"
   ]
  },
  {
   "cell_type": "markdown",
   "id": "bced46b7-cb66-42b6-b735-10ab83fd484f",
   "metadata": {},
   "source": [
    "#### *.Unpacking Elements:"
   ]
  },
  {
   "cell_type": "code",
   "execution_count": 177,
   "id": "3c734e65-8092-4098-8767-a0cdaf3a40b7",
   "metadata": {},
   "outputs": [
    {
     "name": "stdout",
     "output_type": "stream",
     "text": [
      "1\n",
      "[2, 3, 4]\n",
      "5\n"
     ]
    }
   ],
   "source": [
    "a,*b,c=[1,2,3,4,5]\n",
    "print(a)\n",
    "print(b)\n",
    "print(c)"
   ]
  },
  {
   "cell_type": "markdown",
   "id": "9e97f5f6-b575-4b5c-8949-3a91b7c24681",
   "metadata": {},
   "source": [
    "#### 7.List inside a Dictionary"
   ]
  },
  {
   "cell_type": "code",
   "execution_count": 180,
   "id": "4b080c88-c9d4-4be9-8f04-7e24651fe1b2",
   "metadata": {},
   "outputs": [
    {
     "name": "stdout",
     "output_type": "stream",
     "text": [
      "80\n"
     ]
    }
   ],
   "source": [
    "x={\"marks\":[70,80,90],\"name\":\"leela\"}\n",
    "print(x[\"marks\"][1])"
   ]
  },
  {
   "cell_type": "markdown",
   "id": "7207e17b-283b-4661-93c3-f569af27904c",
   "metadata": {},
   "source": [
    "# Set:Set is an unordered collection of unique elements"
    "# Syntax:variable_name=set(['a','b','c','d'])
   ]
  },
  {
   "cell_type": "code",
   "execution_count": 18,
   "id": "0dd939ab-e99f-4574-9191-4fd9fe5143bb",
   "metadata": {},
   "outputs": [
    {
     "name": "stdout",
     "output_type": "stream",
     "text": [
      "{12, 13, 14}\n"
     ]
    }
   ],
   "source": [
    "x={12,13,14}\n",
    "print(x)"
   ]
  },
  {
   "cell_type": "code",
   "execution_count": 19,
   "id": "a98b2579-2e9d-40aa-869d-15fd1c234748",
   "metadata": {},
   "outputs": [
    {
     "ename": "TypeError",
     "evalue": "'set' object is not subscriptable",
     "output_type": "error",
     "traceback": [
      "\u001b[1;31m---------------------------------------------------------------------------\u001b[0m",
      "\u001b[1;31mTypeError\u001b[0m                                 Traceback (most recent call last)",
      "Cell \u001b[1;32mIn[19], line 1\u001b[0m\n\u001b[1;32m----> 1\u001b[0m \u001b[38;5;28mprint\u001b[39m(x[\u001b[38;5;241m0\u001b[39m])\n",
      "\u001b[1;31mTypeError\u001b[0m: 'set' object is not subscriptable"
     ]
    }
   ],
   "source": [
    "print(x[0])"
   ]
  },
  {
   "cell_type": "markdown",
   "id": "19b436fd-a1cc-40f1-b553-31ed345617dc",
   "metadata": {},
   "source": [
    "#### the above error was due to the finding set indexing.\n",
    "#### But sets do not support indexing because they are UNORDERED collections\n",
    "###### To find that we need to convert the set to list if u need indexing as below:"
   ]
  },
  {
   "cell_type": "code",
   "execution_count": 25,
   "id": "f859b79b-cc61-49cf-bdb3-2f2b118697cd",
   "metadata": {},
   "outputs": [
    {
     "name": "stdout",
     "output_type": "stream",
     "text": [
      "12\n"
     ]
    }
   ],
   "source": [
    "y=list(x)\n",
    "print(y[0])\n"
   ]
  },
  {
   "cell_type": "code",
   "execution_count": 27,
   "id": "b8d6b5d9-255c-4f2f-9d01-6a4a485fbff7",
   "metadata": {},
   "outputs": [
    {
     "name": "stdout",
     "output_type": "stream",
     "text": [
      "14\n"
     ]
    }
   ],
   "source": [
    "y=list(x)\n",
    "print(y[2])"
   ]
  },
  {
   "cell_type": "code",
   "execution_count": 29,
   "id": "90cd10d6-f0bc-436a-9307-8b5c5aa6489f",
   "metadata": {},
   "outputs": [
    {
     "data": {
      "text/plain": [
       "set"
      ]
     },
     "execution_count": 29,
     "metadata": {},
     "output_type": "execute_result"
    }
   ],
   "source": [
    "type(x)"
   ]
  },
  {
   "cell_type": "code",
   "execution_count": 31,
   "id": "9a979cc8-7f98-43bf-be90-b97cc9074a8a",
   "metadata": {},
   "outputs": [
    {
     "ename": "TypeError",
     "evalue": "'set' object is not subscriptable",
     "output_type": "error",
     "traceback": [
      "\u001b[1;31m---------------------------------------------------------------------------\u001b[0m",
      "\u001b[1;31mTypeError\u001b[0m                                 Traceback (most recent call last)",
      "Cell \u001b[1;32mIn[31], line 1\u001b[0m\n\u001b[1;32m----> 1\u001b[0m \u001b[38;5;28mprint\u001b[39m(x[\u001b[38;5;241m1\u001b[39m])\n",
      "\u001b[1;31mTypeError\u001b[0m: 'set' object is not subscriptable"
     ]
    }
   ],
   "source": [
    "print(x[1])\n"
   ]
  },
  {
   "cell_type": "markdown",
   "id": "91ec5417-30e5-4b20-a760-7e73fe40c030",
   "metadata": {},
   "source": [
    "#### 1.duplicate removal:it removes duplicate values in sets "
   ]
  },
  {
   "cell_type": "code",
   "execution_count": 185,
   "id": "336f2753-ba7b-4825-a0a5-902020cf75fb",
   "metadata": {},
   "outputs": [
    {
     "name": "stdout",
     "output_type": "stream",
     "text": [
      "{1, 2, 3, 4, 5, 6, 7}\n"
     ]
    }
   ],
   "source": [
    "x={1,2,3,4,3,5,7,6,5}\n",
    "print(x)"
   ]
  },
  {
   "cell_type": "markdown",
   "id": "ec5d3b4a-ad14-4fdf-83f3-d1be73ff26f1",
   "metadata": {},
   "source": [
    "#### 2.Set Operations"
   ]
  },
  {
   "cell_type": "code",
   "execution_count": 188,
   "id": "8de1e0aa-3c97-47f8-9e77-2b2e26aaed85",
   "metadata": {},
   "outputs": [
    {
     "name": "stdout",
     "output_type": "stream",
     "text": [
      "{2, 3, 4, 5, 6}\n",
      "{4}\n",
      "{2, 3}\n",
      "{2, 3, 5, 6}\n"
     ]
    }
   ],
   "source": [
    "x={2,3,4}\n",
    "y={4,5,6}\n",
    "print(x|y)  ###### union->{2,3,4,5,6}\n",
    "print(x&y)  ###### intersection->{4}\n",
    "print(x-y)  ###### Difference->{2,3}\n",
    "print(x^y)  ###### Symmetric Difference->{2,3,5,6}"
   ]
  },
  {
   "cell_type": "markdown",
   "id": "68d25768-c419-4017-9c9c-64f3999f2cbc",
   "metadata": {},
   "source": [
    "#### 3.Set Methods"
   ]
  },
  {
   "cell_type": "code",
   "execution_count": 199,
   "id": "b65397ed-7c02-41a0-ba10-8f4e92e4d080",
   "metadata": {},
   "outputs": [
    {
     "name": "stdout",
     "output_type": "stream",
     "text": [
      "{3}\n"
     ]
    }
   ],
   "source": [
    "x={1,2}\n",
    "x.add(3)\n",
    "x.remove(1) ##### remove functions show an error if an element is not present\n",
    "x.discard(2) ##### in this no error if element not present\n",
    "print(x)"
   ]
  },
  {
   "cell_type": "markdown",
   "id": "14f16444-ab11-4ad0-b413-557f01c9ffc4",
   "metadata": {},
   "source": [
    "#### 4.Frozen Set(immutable)"
   ]
  },
  {
   "cell_type": "code",
   "execution_count": 206,
   "id": "4571a853-20dd-4aa2-a856-bc3c7a4e0538",
   "metadata": {},
   "outputs": [
    {
     "ename": "AttributeError",
     "evalue": "'frozenset' object has no attribute 'add'",
     "output_type": "error",
     "traceback": [
      "\u001b[1;31m---------------------------------------------------------------------------\u001b[0m",
      "\u001b[1;31mAttributeError\u001b[0m                            Traceback (most recent call last)",
      "Cell \u001b[1;32mIn[206], line 2\u001b[0m\n\u001b[0;32m      1\u001b[0m x\u001b[38;5;241m=\u001b[39m\u001b[38;5;28mfrozenset\u001b[39m([\u001b[38;5;241m1\u001b[39m,\u001b[38;5;241m2\u001b[39m,\u001b[38;5;241m3\u001b[39m])\n\u001b[1;32m----> 2\u001b[0m x\u001b[38;5;241m.\u001b[39madd(\u001b[38;5;241m4\u001b[39m)  \u001b[38;5;66;03m##### it raises an error ,it cannot add or change any value while executing\u001b[39;00m\n\u001b[0;32m      3\u001b[0m \u001b[38;5;28mprint\u001b[39m(x)\n",
      "\u001b[1;31mAttributeError\u001b[0m: 'frozenset' object has no attribute 'add'"
     ]
    }
   ],
   "source": [
    "x=frozenset([1,2,3])\n",
    "x.add(4)  ##### it raises an error ,it cannot add or change any value while executing\n",
    "print(x)"
   ]
  },
  {
   "cell_type": "markdown",
   "id": "ee961510-e216-4632-87b5-f1c96b6c753c",
   "metadata": {},
   "source": [
    "# Tuple:"
   ]
  },
  {
   "cell_type": "code",
   "execution_count": 33,
   "id": "c0e02752-da31-42bb-ae67-ebf17fb2431e",
   "metadata": {},
   "outputs": [
    {
     "name": "stdout",
     "output_type": "stream",
     "text": [
      "(10, 11, 10)\n"
     ]
    }
   ],
   "source": [
    "x=(10,11,10)\n",
    "print(x)"
   ]
  },
  {
   "cell_type": "code",
   "execution_count": 35,
   "id": "f68eb0b6-10d7-4b21-9e68-92e50f24b921",
   "metadata": {},
   "outputs": [
    {
     "data": {
      "text/plain": [
       "tuple"
      ]
     },
     "execution_count": 35,
     "metadata": {},
     "output_type": "execute_result"
    }
   ],
   "source": [
    "type(x)"
   ]
  },
  {
   "cell_type": "code",
   "execution_count": 37,
   "id": "d7e4f0db-d123-462a-8e25-27261c43ad8f",
   "metadata": {},
   "outputs": [
    {
     "name": "stdout",
     "output_type": "stream",
     "text": [
      "11\n"
     ]
    }
   ],
   "source": [
    "print(x[1])"
   ]
  },
  {
   "cell_type": "markdown",
   "id": "47f1e516-f91f-42de-9b0b-9676ce95ae42",
   "metadata": {},
   "source": [
    "#### 1.Tuple Slicing"
   ]
  },
  {
   "cell_type": "code",
   "execution_count": 40,
   "id": "e704fbac-f852-46f6-b457-22252ea85993",
   "metadata": {},
   "outputs": [
    {
     "name": "stdout",
     "output_type": "stream",
     "text": [
      "(20, 30, 40, 50)\n"
     ]
    }
   ],
   "source": [
    "x=(10,20,30,40,50,60)\n",
    "print(x[1:5])"
   ]
  },
  {
   "cell_type": "markdown",
   "id": "9890c43b-d20a-413b-881f-ee0188ba4a5c",
   "metadata": {},
   "source": [
    "#### 2.Tuple length"
   ]
  },
  {
   "cell_type": "code",
   "execution_count": 43,
   "id": "73b08f4c-05d6-4444-9cb4-f17ea0a37cdf",
   "metadata": {},
   "outputs": [
    {
     "name": "stdout",
     "output_type": "stream",
     "text": [
      "6\n"
     ]
    }
   ],
   "source": [
    "print(len(x))"
   ]
  },
  {
   "cell_type": "markdown",
   "id": "430b65cf-3759-48a1-a99c-b54c0d13d930",
   "metadata": {},
   "source": [
    "#### 3.Looping through Tuple "
   ]
  },
  {
   "cell_type": "code",
   "execution_count": 46,
   "id": "efefd1d6-e61a-465f-a926-3ea4d5121de4",
   "metadata": {},
   "outputs": [
    {
     "name": "stdout",
     "output_type": "stream",
     "text": [
      "10\n",
      "20\n",
      "30\n",
      "40\n",
      "50\n",
      "60\n"
     ]
    }
   ],
   "source": [
    "for n in x:\n",
    "    print(n)"
   ]
  },
  {
   "cell_type": "markdown",
   "id": "e3e480e1-cc5d-4793-891b-59fdf2a71141",
   "metadata": {},
   "source": [
    "🗝️ As this we know by using looping variable directly it gives values one by one ,for horizontal way we keep end=\"\" ."
   ]
  },
  {
   "cell_type": "code",
   "execution_count": 49,
   "id": "d4b19711-5c07-4eb7-a37d-a8173ff538d5",
   "metadata": {},
   "outputs": [
    {
     "name": "stdout",
     "output_type": "stream",
     "text": [
      "10,20,30,40,50,60,"
     ]
    }
   ],
   "source": [
    "for n in x:\n",
    "    print(n,end=\",\")"
   ]
  },
  {
   "cell_type": "markdown",
   "id": "04842719-1355-467a-b460-ec0d270f2ebb",
   "metadata": {},
   "source": [
    "#### 4.Using 'in' to check "
   ]
  },
  {
   "cell_type": "code",
   "execution_count": 52,
   "id": "b224f0f1-8d5d-4e71-9fa3-a890631de766",
   "metadata": {},
   "outputs": [
    {
     "name": "stdout",
     "output_type": "stream",
     "text": [
      "True\n",
      "False\n"
     ]
    }
   ],
   "source": [
    "print(20 in x)\n",
    "print(100 in x)"
   ]
  },
  {
   "cell_type": "markdown",
   "id": "91479693-ac30-4823-93bf-01bb8ef30074",
   "metadata": {},
   "source": [
    "#### 5.Count and Index methods"
   ]
  },
  {
   "cell_type": "code",
   "execution_count": 55,
   "id": "e107fc14-289e-4795-9c59-1fa61282fdd5",
   "metadata": {},
   "outputs": [
    {
     "name": "stdout",
     "output_type": "stream",
     "text": [
      "4\n",
      "6\n"
     ]
    }
   ],
   "source": [
    "x=(10,10,20,30,40,30,500,40,30,21,30)\n",
    "print(x.count(30))\n",
    "print(x.index(500))"
   ]
  },
  {
   "cell_type": "markdown",
   "id": "0bde4b1c-30fd-4694-a3af-7cfe82f6255d",
   "metadata": {},
   "source": [
    "#### 6.Nested Tuples"
   ]
  },
  {
   "cell_type": "code",
   "execution_count": 58,
   "id": "c209f70a-d8e4-4d5f-befe-2a41fe590db5",
   "metadata": {},
   "outputs": [
    {
     "name": "stdout",
     "output_type": "stream",
     "text": [
      "3\n",
      "5\n",
      "6\n",
      "0\n"
     ]
    }
   ],
   "source": [
    "n=((3,5),(6,0))\n",
    "print(n[0][0])\n",
    "print(n[0][1])\n",
    "print(n[1][0])\n",
    "print(n[1][1])"
   ]
  },
  {
   "cell_type": "markdown",
   "id": "a025e247-0f17-469f-8f03-36c6402d4da0",
   "metadata": {},
   "source": [
    "#### 7.Tuple concatenation"
   ]
  },
  {
   "cell_type": "code",
   "execution_count": 75,
   "id": "9502151e-34d8-413c-92d8-0c682e7bb150",
   "metadata": {},
   "outputs": [
    {
     "name": "stdout",
     "output_type": "stream",
     "text": [
      "(3, 4, 4, 6)\n"
     ]
    }
   ],
   "source": [
    "a=(3,4)\n",
    "b=(4,6)\n",
    "c=a+b\n",
    "print(c)"
   ]
  },
  {
   "cell_type": "markdown",
   "id": "22ab051e-c369-4948-a3aa-a6484446b69b",
   "metadata": {},
   "source": [
    "#### 8.Tuple Repetition"
   ]
  },
  {
   "cell_type": "code",
   "execution_count": 10,
   "id": "62b26305-892b-40c2-8d97-831334edc322",
   "metadata": {},
   "outputs": [
    {
     "name": "stdout",
     "output_type": "stream",
     "text": [
      "('python', 'python', 'python', 'python', 'python')\n",
      "(1, 2, 1, 2)\n",
      "(1, 2, 1, 2, 1, 2)\n",
      "(1, 2, 1, 2, 1, 2, 1, 2, 1, 2, 1, 2, 1, 2, 1, 2, 1, 2, 1, 2, 1, 2, 1, 2, 1, 2, 1, 2, 1, 2, 1, 2, 1, 2, 1, 2, 1, 2, 1, 2, 1, 2, 1, 2, 1, 2, 1, 2, 1, 2)\n"
     ]
    }
   ],
   "source": [
    "x=(1,2)\n",
    "rep=(\"python\",)*5\n",
    "print(rep)\n",
    "print(x*2)\n",
    "print(x*3)\n",
    "print(x*25)"
   ]
  },
  {
   "cell_type": "markdown",
   "id": "10797acd-ce63-4672-a969-ca5bff5b6cd4",
   "metadata": {},
   "source": [
    "#### 9.Tuple with different datatypes"
   ]
  },
  {
   "cell_type": "code",
   "execution_count": 95,
   "id": "8b9c8fd2-7032-4e70-90a5-60eb08c2a311",
   "metadata": {},
   "outputs": [
    {
     "name": "stdout",
     "output_type": "stream",
     "text": [
      "<class 'tuple'>\n",
      "(20, 24.6, 27.988764543545212, 'a', True, 'leela')\n"
     ]
    }
   ],
   "source": [
    "x=(20,24.6,27.9887645435452123143514352435156314354,\"a\",True,\"leela\")\n",
    "print(type(x))\n",
    "print(x)"
   ]
  },
  {
   "cell_type": "markdown",
   "id": "9a70e7bc-3d61-48c0-93dd-586b8db63662",
   "metadata": {},
   "source": [
    "#### 10.Tuple with Hashing"
   ]
  },
  {
   "cell_type": "code",
   "execution_count": 1,
   "id": "51e8ad25-03fd-4c02-bb83-acbfa3efd8df",
   "metadata": {},
   "outputs": [
    {
     "name": "stdout",
     "output_type": "stream",
     "text": [
      "leela 912\n"
     ]
    }
   ],
   "source": [
    "x={(10.5,24.6):\"leela\",(11.6,32.8):\"python\"}\n",
    "y={\"name\":\"leela\" ,\"age\":912}  #### dictionary\n",
    "print(x[(10.5,24.6)],end=\" \")\n",
    "print(y[\"age\"])"
   ]
  },
  {
   "cell_type": "markdown",
   "id": "404205e9-4269-4096-b034-0ece607f8f50",
   "metadata": {},
   "source": [
    "#### File pointers"
   ]
  },
  {
   "cell_type": "code",
   "execution_count": 210,
   "id": "e51fb4dc-3200-431f-b964-5d4787c9d478",
   "metadata": {},
   "outputs": [
    {
     "data": {
      "text/plain": [
       "_io.TextIOWrapper"
      ]
     },
     "execution_count": 210,
     "metadata": {},
     "output_type": "execute_result"
    }
   ],
   "source": [
    "x=open('variables.ipynb','r')\n",
    "type(x)"
   ]
  },
  {
   "cell_type": "code",
   "execution_count": 217,
   "id": "08b1862c-6935-4575-9fcd-2e9a52b9be60",
   "metadata": {},
   "outputs": [
    {
     "name": "stdout",
     "output_type": "stream",
     "text": [
      "1\n",
      "2\n"
     ]
    }
   ],
   "source": [
    "(x,y,z)=1,2,3\n",
    "print(x)\n",
    "print(y)"
   ]
  },
  {
   "cell_type": "code",
   "execution_count": 219,
   "id": "fdc5064f-56bd-4abd-8c6b-c3354315d943",
   "metadata": {},
   "outputs": [
    {
     "ename": "ValueError",
     "evalue": "too many values to unpack (expected 2)",
     "output_type": "error",
     "traceback": [
      "\u001b[1;31m---------------------------------------------------------------------------\u001b[0m",
      "\u001b[1;31mValueError\u001b[0m                                Traceback (most recent call last)",
      "Cell \u001b[1;32mIn[219], line 1\u001b[0m\n\u001b[1;32m----> 1\u001b[0m (x,y)\u001b[38;5;241m=\u001b[39m\u001b[38;5;241m1\u001b[39m,\u001b[38;5;241m9\u001b[39m,\u001b[38;5;241m8\u001b[39m\n",
      "\u001b[1;31mValueError\u001b[0m: too many values to unpack (expected 2)"
     ]
    }
   ],
   "source": [
    "(x,y)=1,9,8"
   ]
  },
  {
   "cell_type": "code",
   "execution_count": 223,
   "id": "3618c35c-79f6-4ac3-ab5c-a18168e9b25c",
   "metadata": {},
   "outputs": [
    {
     "name": "stdout",
     "output_type": "stream",
     "text": [
      "1 1 1\n"
     ]
    }
   ],
   "source": [
    "x=y=z=1\n",
    "print(x,y,z)"
   ]
  },
  {
   "cell_type": "markdown",
   "id": "4697f28f-40e5-4315-9e6a-fbd7888a3119",
   "metadata": {},
   "source": [
    "#### Diference between tuples and lists\n",
    "🗝️ List is mutuable( capable of change) whereas tuple is immutable(unable to be changed)                                           \n",
    "🗝️ List uses square brackets.Tuple may or may not use parentheses"
   ]
  },
  {
   "cell_type": "markdown",
   "id": "a4ef67a6-1e00-4da2-acdc-f333a8112b85",
   "metadata": {},
   "source": [
    "## Slicing"
   ]
  },
  {
   "cell_type": "code",
   "execution_count": 19,
   "id": "dd18b91f-28e7-4f48-8715-58e373541a13",
   "metadata": {},
   "outputs": [
    {
     "name": "stdout",
     "output_type": "stream",
     "text": [
      "(1, 2, 3, 4)\n"
     ]
    }
   ],
   "source": [
    "num=(1,2,3,4)\n",
    "print(num)"
   ]
  },
  {
   "cell_type": "code",
   "execution_count": 21,
   "id": "2657cbe0-191e-4549-8b5e-84d9fe2e022d",
   "metadata": {},
   "outputs": [
    {
     "name": "stdout",
     "output_type": "stream",
     "text": [
      "(2, 3, 4)\n"
     ]
    }
   ],
   "source": [
    "print(num[1:])"
   ]
  },
  {
   "cell_type": "code",
   "execution_count": 23,
   "id": "444a0a71-46ae-4732-9105-c1870a852b87",
   "metadata": {},
   "outputs": [
    {
     "name": "stdout",
     "output_type": "stream",
     "text": [
      "(4, 3, 2, 1)\n"
     ]
    }
   ],
   "source": [
    "print(num[::-1])"
   ]
  }
 ],
 "metadata": {
  "kernelspec": {
   "display_name": "Python [conda env:base] *",
   "language": "python",
   "name": "conda-base-py"
  },
  "language_info": {
   "codemirror_mode": {
    "name": "ipython",
    "version": 3
   },
   "file_extension": ".py",
   "mimetype": "text/x-python",
   "name": "python",
   "nbconvert_exporter": "python",
   "pygments_lexer": "ipython3",
   "version": "3.12.7"
  }
 },
 "nbformat": 4,
 "nbformat_minor": 5
}
