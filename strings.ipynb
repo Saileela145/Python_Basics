{
 "cells": [
  {
   "cell_type": "code",
   "execution_count": 3,
   "id": "63b7be63-571e-4ed2-9231-428d73a5618c",
   "metadata": {},
   "outputs": [
    {
     "name": "stdout",
     "output_type": "stream",
     "text": [
      "python\n"
     ]
    }
   ],
   "source": [
    "stg='python'\n",
    "print(stg)"
   ]
  },
  {
   "cell_type": "markdown",
   "id": "c54e21b4-09f0-4fdf-b067-6a5d662d2ec6",
   "metadata": {},
   "source": [
    "#### A string is a datatype in python composed of a collection of characters"
   ]
  },
  {
   "cell_type": "code",
   "execution_count": 12,
   "id": "8e533892-68c7-4465-aff7-4601fc31fbb6",
   "metadata": {},
   "outputs": [
    {
     "ename": "SyntaxError",
     "evalue": "unterminated string literal (detected at line 1) (989174729.py, line 1)",
     "output_type": "error",
     "traceback": [
      "\u001b[1;36m  Cell \u001b[1;32mIn[12], line 1\u001b[1;36m\u001b[0m\n\u001b[1;33m    stg='it's easy to learn' ##### If we are using single quote with in single quotes it doesnt work\u001b[0m\n\u001b[1;37m                           ^\u001b[0m\n\u001b[1;31mSyntaxError\u001b[0m\u001b[1;31m:\u001b[0m unterminated string literal (detected at line 1)\n"
     ]
    }
   ],
   "source": [
    "❌ Wrong way\n",
    "stg='it's easy to learn' ##### If we are using single quote with in single quotes it doesnt work\n",
    "print(stg)"
   ]
  },
  {
   "cell_type": "code",
   "execution_count": 14,
   "id": "b0828361-b602-4f00-9f9b-49ddbf3b2bdc",
   "metadata": {},
   "outputs": [
    {
     "name": "stdout",
     "output_type": "stream",
     "text": [
      "it's easy to learn\n"
     ]
    }
   ],
   "source": [
    "✅Correct way\n",
    "stg=\"it's easy to learn\"\n",
    "print(stg)"
   ]
  },
  {
   "cell_type": "code",
   "execution_count": 16,
   "id": "86dc3fa7-a452-4951-9b6c-1afa52917adb",
   "metadata": {},
   "outputs": [
    {
     "name": "stdout",
     "output_type": "stream",
     "text": [
      "it\"s easy to learn\n"
     ]
    }
   ],
   "source": [
    "stg='it\"s easy to learn'\n",
    "print(stg)"
   ]
  },
  {
   "cell_type": "code",
   "execution_count": 21,
   "id": "ada4c682-db00-42f9-9395-5c037c1fc86c",
   "metadata": {},
   "outputs": [
    {
     "name": "stdout",
     "output_type": "stream",
     "text": [
      "python make,\"its everything so easy\".\n"
     ]
    }
   ],
   "source": [
    "stg='python make,\"its everything so easy\".'\n",
    "print(stg)"
   ]
  },
  {
   "cell_type": "code",
   "execution_count": 7,
   "id": "ac1a0023-a806-4060-a1ec-0cd4953b5232",
   "metadata": {},
   "outputs": [
    {
     "ename": "SyntaxError",
     "evalue": "unterminated string literal (detected at line 1) (1486346974.py, line 1)",
     "output_type": "error",
     "traceback": [
      "\u001b[1;36m  Cell \u001b[1;32mIn[7], line 1\u001b[1;36m\u001b[0m\n\u001b[1;33m    stg='python make,\"i'm easy learn\".'\u001b[0m\n\u001b[1;37m                                    ^\u001b[0m\n\u001b[1;31mSyntaxError\u001b[0m\u001b[1;31m:\u001b[0m unterminated string literal (detected at line 1)\n"
     ]
    }
   ],
   "source": [
    "stg='python make,\"i'm easy learn\".'\n",
    "print(stg)"
   ]
  },
  {
   "cell_type": "code",
   "execution_count": 11,
   "id": "24448d62-059e-4df2-9189-32be4f6efaa9",
   "metadata": {},
   "outputs": [
    {
     "name": "stdout",
     "output_type": "stream",
     "text": [
      "python make,\"i'm easy learn\".\n"
     ]
    }
   ],
   "source": [
    "stg='python make,\"i\\'m easy learn\".'\n",
    "print(stg)"
   ]
  },
  {
   "cell_type": "code",
   "execution_count": 31,
   "id": "7d3dbe95-79d7-40e9-b852-01b82f6d4a83",
   "metadata": {},
   "outputs": [
    {
     "name": "stdout",
     "output_type": "stream",
     "text": [
      "hey python!\n",
      "welcome to console\n"
     ]
    }
   ],
   "source": [
    "stgss='''hey python!\n",
    "welcome to console'''\n",
    "print(stgss)"
   ]
  },
  {
   "cell_type": "code",
   "execution_count": 33,
   "id": "d7ddf060-ee29-4d08-987f-6e483c93f70e",
   "metadata": {},
   "outputs": [
    {
     "ename": "SyntaxError",
     "evalue": "unterminated string literal (detected at line 1) (360727276.py, line 1)",
     "output_type": "error",
     "traceback": [
      "\u001b[1;36m  Cell \u001b[1;32mIn[33], line 1\u001b[1;36m\u001b[0m\n\u001b[1;33m    stgs=\"hey python!\u001b[0m\n\u001b[1;37m         ^\u001b[0m\n\u001b[1;31mSyntaxError\u001b[0m\u001b[1;31m:\u001b[0m unterminated string literal (detected at line 1)\n"
     ]
    }
   ],
   "source": [
    "stgs=\"hey python!\n",
    "welcome to console\"\n",
    "print(stgs)"
   ]
  },
  {
   "cell_type": "code",
   "execution_count": 35,
   "id": "e9746997-7d1c-43e1-a020-11275a7ec283",
   "metadata": {},
   "outputs": [
    {
     "ename": "SyntaxError",
     "evalue": "unterminated string literal (detected at line 1) (2216372264.py, line 1)",
     "output_type": "error",
     "traceback": [
      "\u001b[1;36m  Cell \u001b[1;32mIn[35], line 1\u001b[1;36m\u001b[0m\n\u001b[1;33m    stgs='hey python!\u001b[0m\n\u001b[1;37m         ^\u001b[0m\n\u001b[1;31mSyntaxError\u001b[0m\u001b[1;31m:\u001b[0m unterminated string literal (detected at line 1)\n"
     ]
    }
   ],
   "source": [
    "stgs='hey python!\n",
    "welcome to console'\n",
    "print(stgs)"
   ]
  },
  {
   "cell_type": "code",
   "execution_count": 43,
   "id": "72812338-67a8-4f68-acd9-7598e4ef6b5c",
   "metadata": {},
   "outputs": [
    {
     "name": "stdout",
     "output_type": "stream",
     "text": [
      "6\n",
      "o\n"
     ]
    }
   ],
   "source": [
    "stg=\"python\"\n",
    "print(len(stg))\n",
    "print(stg[4])"
   ]
  },
  {
   "cell_type": "code",
   "execution_count": 47,
   "id": "2a3f3605-cbdc-47d6-a7a3-0e30bebcfe92",
   "metadata": {},
   "outputs": [
    {
     "name": "stdout",
     "output_type": "stream",
     "text": [
      "python"
     ]
    }
   ],
   "source": [
    "stg=\"python\"\n",
    "for i in stg:\n",
    "    print(i,end=\"\")"
   ]
  },
  {
   "cell_type": "code",
   "execution_count": 51,
   "id": "e23c9a71-66f0-4958-b432-29ddf5fad308",
   "metadata": {},
   "outputs": [
    {
     "name": "stdout",
     "output_type": "stream",
     "text": [
      "check\n",
      "point\n",
      "check\n",
      "heckpo\n"
     ]
    }
   ],
   "source": [
    "stg=\"checkpoint\"\n",
    "print(stg[0:5])\n",
    "print(stg[5:])\n",
    "print(stg[:5])\n",
    "print(stg[1:7])"
   ]
  },
  {
   "cell_type": "code",
   "execution_count": 63,
   "id": "b6bcd90f-b059-4c5f-9e46-0877e61d0505",
   "metadata": {},
   "outputs": [
    {
     "name": "stdout",
     "output_type": "stream",
     "text": [
      "THIS IS PYTHON\n",
      "this is python\n",
      "8\n",
      "['this', 'is', 'python']\n",
      "this is markdown\n",
      "('this', ' is ', 'python')\n"
     ]
    }
   ],
   "source": [
    "stg=\"this is python\"\n",
    "print(stg.upper())\n",
    "print(stg.lower())\n",
    "print(stg.find('p'))\n",
    "print(stg.split(\" \"))\n",
    "print(stg.replace(\"python\",\"markdown\"))\n",
    "print(stg.rpartition(\" is \"))"
   ]
  },
  {
   "cell_type": "code",
   "execution_count": 7,
   "id": "db2d02d0-a0f2-4772-8dc7-5862a59227ef",
   "metadata": {},
   "outputs": [
    {
     "name": "stdout",
     "output_type": "stream",
     "text": [
      "good evening\n",
      "good evening\n"
     ]
    }
   ],
   "source": [
    "stg=\"good\"\n",
    "stg1=\"evening\"\n",
    "stg2=stg+\" \"+stg1\n",
    "print(stg2)\n",
    "print(stg+\" \"+stg1)"
   ]
  },
  {
   "cell_type": "code",
   "execution_count": 11,
   "id": "bfd9d235-dee3-47a9-9061-ae18ecfdd8ee",
   "metadata": {},
   "outputs": [
    {
     "name": "stdout",
     "output_type": "stream",
     "text": [
      "hi hello,python!\n"
     ]
    }
   ],
   "source": [
    "s=\"hi\"\n",
    "t=\"hello\"\n",
    "u=\"python\"\n",
    "t=\"{} {},{}!\".format(s,t,u)\n",
    "print(t)"
   ]
  }
 ],
 "metadata": {
  "kernelspec": {
   "display_name": "Python [conda env:base] *",
   "language": "python",
   "name": "conda-base-py"
  },
  "language_info": {
   "codemirror_mode": {
    "name": "ipython",
    "version": 3
   },
   "file_extension": ".py",
   "mimetype": "text/x-python",
   "name": "python",
   "nbconvert_exporter": "python",
   "pygments_lexer": "ipython3",
   "version": "3.12.7"
  }
 },
 "nbformat": 4,
 "nbformat_minor": 5
}
