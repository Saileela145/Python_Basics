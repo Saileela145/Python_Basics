{
 "cells": [
  {
   "cell_type": "code",
   "execution_count": 62,
   "id": "564eff39-08ff-4f34-b9a9-2ab65c5e36c6",
   "metadata": {},
   "outputs": [
    {
     "name": "stdout",
     "output_type": "stream",
     "text": [
      "array('i', [-5, 3, 4, 2, 6])\n"
     ]
    }
   ],
   "source": [
    "from array import*\n",
    "arr=array('i',[-5,3,4,2,6])\n",
    "print(arr)"
   ]
  },
  {
   "cell_type": "code",
   "execution_count": 64,
   "id": "ed25a27b-9c42-4faf-9d24-8b072316bf98",
   "metadata": {},
   "outputs": [
    {
     "name": "stdout",
     "output_type": "stream",
     "text": [
      "(2207409376208, 5)\n"
     ]
    }
   ],
   "source": [
    "print(arr.buffer_info())"
   ]
  },
  {
   "cell_type": "code",
   "execution_count": 66,
   "id": "0724ced3-2ae9-4c81-8956-a5babd9b4478",
   "metadata": {},
   "outputs": [
    {
     "name": "stdout",
     "output_type": "stream",
     "text": [
      "4\n"
     ]
    }
   ],
   "source": [
    "print(arr[2])"
   ]
  },
  {
   "cell_type": "code",
   "execution_count": 68,
   "id": "a26de1a1-fd07-4aa7-b832-22116b1369cd",
   "metadata": {},
   "outputs": [
    {
     "name": "stdout",
     "output_type": "stream",
     "text": [
      "0 -5\n",
      "1 3\n",
      "2 4\n",
      "3 2\n",
      "4 6\n"
     ]
    }
   ],
   "source": [
    "for pnt in range(5):\n",
    "    print(pnt,arr[pnt])"
   ]
  },
  {
   "cell_type": "code",
   "execution_count": 70,
   "id": "876434b9-4af6-4382-96fd-c113e13f9178",
   "metadata": {},
   "outputs": [
    {
     "name": "stdout",
     "output_type": "stream",
     "text": [
      "array('i', [6, 2, 4, 3, -5])\n"
     ]
    }
   ],
   "source": [
    "arr.reverse()\n",
    "print(arr)"
   ]
  },
  {
   "cell_type": "code",
   "execution_count": 72,
   "id": "3da8f868-d158-4c1e-973e-fe76bacb12d0",
   "metadata": {},
   "outputs": [
    {
     "name": "stdout",
     "output_type": "stream",
     "text": [
      "array('i', [6, 2, 4, 3, -5, 6])\n"
     ]
    }
   ],
   "source": [
    "arr.append(6)\n",
    "print(arr)"
   ]
  },
  {
   "cell_type": "code",
   "execution_count": 74,
   "id": "d698754d-7e92-46ef-9f2f-587232e17978",
   "metadata": {},
   "outputs": [
    {
     "name": "stdout",
     "output_type": "stream",
     "text": [
      "array('i', [6, 4, 3, -5, 6])\n"
     ]
    }
   ],
   "source": [
    "arr.remove(2)\n",
    "print(arr)"
   ]
  },
  {
   "cell_type": "code",
   "execution_count": 76,
   "id": "b747c26d-0be8-4b1c-a4ec-21df511fcee0",
   "metadata": {},
   "outputs": [
    {
     "name": "stdout",
     "output_type": "stream",
     "text": [
      "array('i', [4, 3, -5, 6])\n"
     ]
    }
   ],
   "source": [
    "arr.remove(6)\n",
    "print(arr)"
   ]
  },
  {
   "cell_type": "code",
   "execution_count": 80,
   "id": "a6870c7b-8d63-4922-b408-ad28a53f4c08",
   "metadata": {},
   "outputs": [
    {
     "name": "stdout",
     "output_type": "stream",
     "text": [
      "6\n",
      "1\n"
     ]
    }
   ],
   "source": [
    "print(arr[3])\n",
    "print(arr.index(3))"
   ]
  },
  {
   "cell_type": "code",
   "execution_count": 86,
   "id": "29f07a75-d304-408c-83d5-c16db1a4c4c4",
   "metadata": {},
   "outputs": [
    {
     "name": "stdin",
     "output_type": "stream",
     "text": [
      "enter input: 4\n"
     ]
    },
    {
     "name": "stdout",
     "output_type": "stream",
     "text": [
      "enter 4 element\n"
     ]
    },
    {
     "name": "stdin",
     "output_type": "stream",
     "text": [
      " 1\n",
      " 2\n",
      " 3\n",
      " 4\n"
     ]
    },
    {
     "name": "stdout",
     "output_type": "stream",
     "text": [
      "4\n"
     ]
    }
   ],
   "source": [
    "arr=array(\"i\",[])\n",
    "x=int(input(\"enter input:\"))\n",
    "print(\"enter %d element\"%x)\n",
    "for i in range(x):\n",
    "    n=int(input())\n",
    "    arr.append(n)\n",
    "print(n)    "
   ]
  },
  {
   "cell_type": "code",
   "execution_count": null,
   "id": "4ed448de-c24d-433e-9b8f-67d11329b5f6",
   "metadata": {},
   "outputs": [],
   "source": []
  }
 ],
 "metadata": {
  "kernelspec": {
   "display_name": "Python [conda env:base] *",
   "language": "python",
   "name": "conda-base-py"
  },
  "language_info": {
   "codemirror_mode": {
    "name": "ipython",
    "version": 3
   },
   "file_extension": ".py",
   "mimetype": "text/x-python",
   "name": "python",
   "nbconvert_exporter": "python",
   "pygments_lexer": "ipython3",
   "version": "3.12.7"
  }
 },
 "nbformat": 4,
 "nbformat_minor": 5
}
