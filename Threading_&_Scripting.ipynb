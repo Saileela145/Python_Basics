{
 "cells": [
  {
   "cell_type": "markdown",
   "id": "74fcf3a3-c194-40d0-bb7d-f34e78e4d56b",
   "metadata": {},
   "source": [
    "### Process:"
   ]
  },
  {
   "cell_type": "markdown",
   "id": "c3e4f3b7-38d9-4dd8-b468-3ff68490d754",
   "metadata": {},
   "source": [
    "#### A process is an executable instance of a computer program"
   ]
  },
  {
   "cell_type": "markdown",
   "id": "fdb8ba62-6e81-440b-89f2-908160ff983f",
   "metadata": {},
   "source": [
    "### Thread:"
   ]
  },
  {
   "cell_type": "markdown",
   "id": "8f62033a-9b6f-4649-91e3-92ee00a84f08",
   "metadata": {},
   "source": [
    "#### A thread is a sequence of instructions in a program that can be executed independently of the remaining program "
   ]
  },
  {
   "cell_type": "code",
   "execution_count": 16,
   "id": "a9309909-17cd-40d4-8b06-f11ff5660e3e",
   "metadata": {},
   "outputs": [
    {
     "name": "stdout",
     "output_type": "stream",
     "text": [
      "this is python\n",
      "this is python thread\n"
     ]
    }
   ],
   "source": [
    "from threading import*\n",
    "def show():\n",
    "    print(\"this is python\")\n",
    "t=Thread(target=show())\n",
    "t.start()\n",
    "print(\"this is python thread\")"
   ]
  },
  {
   "cell_type": "code",
   "execution_count": 18,
   "id": "90841a9f-0d7c-4482-b200-8b4802a523f0",
   "metadata": {},
   "outputs": [
    {
     "name": "stdout",
     "output_type": "stream",
     "text": [
      "this is python\n",
      "this is python\n",
      "this is python\n",
      "this is python\n",
      "this is python\n",
      "this is main thread\n",
      "this is main thread\n",
      "this is main thread\n",
      "this is main thread\n",
      "this is main thread\n"
     ]
    }
   ],
   "source": [
    "from threading import*\n",
    "class Mythread(Thread):\n",
    "    def run(self):\n",
    "        for i in range(5):\n",
    "            print(\"this is python\")\n",
    "t=Mythread()\n",
    "t.start()\n",
    "for i in range(5):\n",
    "    print(\"this is main thread\")"
   ]
  },
  {
   "cell_type": "code",
   "execution_count": 20,
   "id": "61dde96b-3390-4a64-a895-d336302558d1",
   "metadata": {},
   "outputs": [
    {
     "name": "stdout",
     "output_type": "stream",
     "text": [
      "this is python\n",
      "this is python\n",
      "this is python\n",
      "this is python\n",
      "this is python\n",
      "this is the parent thread\n",
      "this is the parent thread\n",
      "this is the parent thread\n",
      "this is the parent thread\n",
      "this is the parent thread\n"
     ]
    }
   ],
   "source": [
    "from threading import*\n",
    "class demo:\n",
    "    def show(self):\n",
    "        for i in range(5):\n",
    "            print(\"this is python\")\n",
    "obj=demo()\n",
    "t=Thread(target=obj.show())\n",
    "t.start()\n",
    "for i in range(5):\n",
    "    print(\"this is the parent thread\")"
   ]
  },
  {
   "cell_type": "markdown",
   "id": "d7ea43bd-0881-46ad-91c5-8d166c299c25",
   "metadata": {},
   "source": [
    "### Context Switching"
   ]
  },
  {
   "cell_type": "markdown",
   "id": "6f2bd4c8-1bc2-4fbb-bcbc-88729599aa05",
   "metadata": {},
   "source": [
    "#### Storing the state of a process or thread and resuming its execution at a later time is called context switching"
   ]
  },
  {
   "cell_type": "markdown",
   "id": "a73fad96-6503-4273-9502-c096217c9978",
   "metadata": {},
   "source": [
    "### Multithreading"
   ]
  },
  {
   "cell_type": "markdown",
   "id": "70dd3f40-4a63-40b2-b6f1-2fcb6650bc35",
   "metadata": {},
   "source": [
    "#### A model where multiple threads within a process execute independently while sharing the same resources is called multithreading"
   ]
  },
  {
   "cell_type": "code",
   "execution_count": 32,
   "id": "4a980bb2-33f5-4c5b-a879-194a86432b2d",
   "metadata": {},
   "outputs": [
    {
     "name": "stdout",
     "output_type": "stream",
     "text": [
      "the number is: 1\n",
      "the number is: 2\n",
      "the number is: 3\n",
      "the number is: 4\n",
      "the number is: 5\n",
      "the double of the number is 2\n",
      "the double of the number is 4\n",
      "the double of the number is 6\n",
      "the double of the number is 8\n",
      "the double of the number is 10\n",
      "the square num is : 1\n",
      "the square num is : 2\n",
      "the square num is : 3\n",
      "the square num is : 4\n",
      "the square num is : 5\n"
     ]
    }
   ],
   "source": [
    "from threading import*\n",
    "class demo:\n",
    "    def num(self):\n",
    "        for i in range(1,6):\n",
    "            print(\"the number is:\",i)\n",
    "    def double(self):\n",
    "        for i in range(1,6):\n",
    "            print(\"the double of the number is\",2*i)\n",
    "    def square(self):\n",
    "        for i in range(1,6):\n",
    "            print(\"the square num is :\",i*1)\n",
    "obj=demo()   \n",
    "t1=Thread(target=obj.num)\n",
    "t2=Thread(target=obj.double)\n",
    "t3=Thread(target=obj.square)\n",
    "\n",
    "\n",
    "t1.start()\n",
    "t2.start()\n",
    "t3.start()\n",
    "t1.join()\n",
    "t2.join()\n",
    "t3.join()"
   ]
  },
  {
   "cell_type": "code",
   "execution_count": 34,
   "id": "3c263211-1926-4b28-8772-d22beded0d69",
   "metadata": {},
   "outputs": [
    {
     "name": "stdout",
     "output_type": "stream",
     "text": [
      "the number is: 1\n",
      "the double of the number is 2\n",
      "the square num is : 1\n",
      "the number is: 2\n",
      "the double of the number is 4\n",
      "the square num is : 2\n",
      "the number is: 3\n",
      "the double of the number is 6\n",
      "the square num is : 3\n",
      "the number is: 4\n",
      "the double of the number is 8\n",
      "the square num is : 4\n",
      "the number is: 5\n",
      "the double of the number is 10\n",
      "the square num is : 5\n"
     ]
    }
   ],
   "source": [
    "from threading import*\n",
    "import time\n",
    "class demo:\n",
    "    def num(self):\n",
    "        for i in range(1,6):\n",
    "            print(\"the number is:\",i)\n",
    "            time.sleep(1)\n",
    "    def double(self):\n",
    "        for i in range(1,6):\n",
    "            print(\"the double of the number is\",2*i)\n",
    "            time.sleep(1)\n",
    "    def square(self):\n",
    "        for i in range(1,6):\n",
    "            print(\"the square num is :\",i*1)\n",
    "            time.sleep(1)\n",
    "obj=demo()   \n",
    "t1=Thread(target=obj.num)\n",
    "t2=Thread(target=obj.double)\n",
    "t3=Thread(target=obj.square)\n",
    "\n",
    "t1.start()\n",
    "t2.start()\n",
    "t3.start()\n",
    "t1.join()\n",
    "t2.join()\n",
    "t3.join()"
   ]
  },
  {
   "cell_type": "code",
   "execution_count": 36,
   "id": "88d82d00-f2b0-4697-845c-1c53f8862526",
   "metadata": {},
   "outputs": [
    {
     "name": "stdout",
     "output_type": "stream",
     "text": [
      "the number is: 1\n",
      "the double of the number is 2\n",
      "the square num is : 1\n",
      "the number is: 2\n",
      "the double of the number is 4\n",
      "the square num is : 2\n",
      "the number is: 3\n",
      "the double of the number is 6\n",
      "the square num is : 3\n",
      "the number is: 4\n",
      "the double of the number is 8\n",
      "the square num is : 4\n",
      "the number is: 5\n",
      "the double of the number is 10\n",
      "the square num is : 5\n"
     ]
    }
   ],
   "source": [
    "from threading import*\n",
    "import time\n",
    "class demo:\n",
    "    def num(self):\n",
    "        for i in range(1,6):\n",
    "            print(\"the number is:\",i)\n",
    "            time.sleep(1)\n",
    "    def double(self):\n",
    "        for i in range(1,6):\n",
    "            print(\"the double of the number is\",2*i)\n",
    "            time.sleep(1)\n",
    "    def square(self):\n",
    "        for i in range(1,6):\n",
    "            print(\"the square num is :\",i*1)\n",
    "            time.sleep(1)\n",
    "obj=demo()   \n",
    "t1=Thread(target=obj.num)\n",
    "t2=Thread(target=obj.double)\n",
    "t3=Thread(target=obj.square)\n",
    "\n",
    "t1.start()\n",
    "time.sleep(0.2)\n",
    "t2.start()\n",
    "time.sleep(0.2)\n",
    "t3.start()\n",
    "t1.join()\n",
    "t2.join()\n",
    "t3.join()"
   ]
  },
  {
   "cell_type": "markdown",
   "id": "cf0dfb00-9ded-406a-b7a6-6b35b89b4310",
   "metadata": {},
   "source": [
    "### Python Scripting"
   ]
  },
  {
   "cell_type": "code",
   "execution_count": 9,
   "id": "b6f6eb21-c90a-4e9a-bb7b-ac404c1a2c63",
   "metadata": {},
   "outputs": [
    {
     "name": "stdout",
     "output_type": "stream",
     "text": [
      "C:\\Users\\Administrator\\Desktop\\python jup\n",
      "C:\\Users\\Administrator\\Desktop\\python jup\\sample.txt\n"
     ]
    }
   ],
   "source": [
    "import os\n",
    "def current_directory():\n",
    "    cwd=os.getcwd()\n",
    "    print(cwd)\n",
    "def file_path(filename):\n",
    "    path=os.path.abspath(filename)\n",
    "    print(path)\n",
    "current_directory()\n",
    "filename=\"sample.txt\"\n",
    "file_path(filename)"
   ]
  },
  {
   "cell_type": "code",
   "execution_count": 15,
   "id": "fdd1b748-9fde-4c76-b0fd-30fd6601aefb",
   "metadata": {},
   "outputs": [
    {
     "name": "stdout",
     "output_type": "stream",
     "text": [
      "1750267102.804207\n",
      "time.struct_time(tm_year=2025, tm_mon=6, tm_mday=18, tm_hour=22, tm_min=48, tm_sec=22, tm_wday=2, tm_yday=169, tm_isdst=0)\n",
      "2025\n",
      "Wed Jun 18 22:48:22 2025\n"
     ]
    }
   ],
   "source": [
    "import time\n",
    "epc=time.time()\n",
    "print(epc)\n",
    "localtime=time.localtime(epc)\n",
    "print(localtime)\n",
    "print(localtime.tm_year)\n",
    "print(time.ctime(epc))"
   ]
  },
  {
   "cell_type": "code",
   "execution_count": 38,
   "id": "105a9164-6133-4199-8953-0e0933e02b5c",
   "metadata": {},
   "outputs": [
    {
     "ename": "SMTPAuthenticationError",
     "evalue": "(534, b'5.7.9 Application-specific password required. For more information, go to\\n5.7.9  https://support.google.com/mail/?p=InvalidSecondFactor 98e67ed59e1d1-3158a224181sm278549a91.4 - gsmtp')",
     "output_type": "error",
     "traceback": [
      "\u001b[1;31m---------------------------------------------------------------------------\u001b[0m",
      "\u001b[1;31mSMTPAuthenticationError\u001b[0m                   Traceback (most recent call last)",
      "Cell \u001b[1;32mIn[38], line 5\u001b[0m\n\u001b[0;32m      3\u001b[0m smtObj\u001b[38;5;241m.\u001b[39mehlo()\n\u001b[0;32m      4\u001b[0m smtObj\u001b[38;5;241m.\u001b[39mstarttls()\n\u001b[1;32m----> 5\u001b[0m smtObj\u001b[38;5;241m.\u001b[39mlogin(\u001b[38;5;124m'\u001b[39m\u001b[38;5;124mmailtosaileela145@gmail.com\u001b[39m\u001b[38;5;124m'\u001b[39m,\u001b[38;5;124m'\u001b[39m\u001b[38;5;124mSai@2005\u001b[39m\u001b[38;5;124m'\u001b[39m)\n\u001b[0;32m      6\u001b[0m smtObj\u001b[38;5;241m.\u001b[39msendmail(\u001b[38;5;124m\"\u001b[39m\u001b[38;5;124mmailtosaileela145@gmail.com\u001b[39m\u001b[38;5;124m\"\u001b[39m,\u001b[38;5;124m\"\u001b[39m\u001b[38;5;124mfe6168@gmail.com\u001b[39m\u001b[38;5;124m\"\u001b[39m,\u001b[38;5;124m'\u001b[39m\u001b[38;5;124mSubject:SMTP check.\u001b[39m\u001b[38;5;130;01m\\n\u001b[39;00m\u001b[38;5;124m This is a test email\u001b[39m\u001b[38;5;124m'\u001b[39m)\n\u001b[0;32m      7\u001b[0m smtObj\u001b[38;5;241m.\u001b[39mquit()\n",
      "File \u001b[1;32mC:\\ProgramData\\anaconda3\\Lib\\smtplib.py:750\u001b[0m, in \u001b[0;36mSMTP.login\u001b[1;34m(self, user, password, initial_response_ok)\u001b[0m\n\u001b[0;32m    747\u001b[0m         last_exception \u001b[38;5;241m=\u001b[39m e\n\u001b[0;32m    749\u001b[0m \u001b[38;5;66;03m# We could not login successfully.  Return result of last attempt.\u001b[39;00m\n\u001b[1;32m--> 750\u001b[0m \u001b[38;5;28;01mraise\u001b[39;00m last_exception\n",
      "File \u001b[1;32mC:\\ProgramData\\anaconda3\\Lib\\smtplib.py:739\u001b[0m, in \u001b[0;36mSMTP.login\u001b[1;34m(self, user, password, initial_response_ok)\u001b[0m\n\u001b[0;32m    737\u001b[0m method_name \u001b[38;5;241m=\u001b[39m \u001b[38;5;124m'\u001b[39m\u001b[38;5;124mauth_\u001b[39m\u001b[38;5;124m'\u001b[39m \u001b[38;5;241m+\u001b[39m authmethod\u001b[38;5;241m.\u001b[39mlower()\u001b[38;5;241m.\u001b[39mreplace(\u001b[38;5;124m'\u001b[39m\u001b[38;5;124m-\u001b[39m\u001b[38;5;124m'\u001b[39m, \u001b[38;5;124m'\u001b[39m\u001b[38;5;124m_\u001b[39m\u001b[38;5;124m'\u001b[39m)\n\u001b[0;32m    738\u001b[0m \u001b[38;5;28;01mtry\u001b[39;00m:\n\u001b[1;32m--> 739\u001b[0m     (code, resp) \u001b[38;5;241m=\u001b[39m \u001b[38;5;28mself\u001b[39m\u001b[38;5;241m.\u001b[39mauth(\n\u001b[0;32m    740\u001b[0m         authmethod, \u001b[38;5;28mgetattr\u001b[39m(\u001b[38;5;28mself\u001b[39m, method_name),\n\u001b[0;32m    741\u001b[0m         initial_response_ok\u001b[38;5;241m=\u001b[39minitial_response_ok)\n\u001b[0;32m    742\u001b[0m     \u001b[38;5;66;03m# 235 == 'Authentication successful'\u001b[39;00m\n\u001b[0;32m    743\u001b[0m     \u001b[38;5;66;03m# 503 == 'Error: already authenticated'\u001b[39;00m\n\u001b[0;32m    744\u001b[0m     \u001b[38;5;28;01mif\u001b[39;00m code \u001b[38;5;129;01min\u001b[39;00m (\u001b[38;5;241m235\u001b[39m, \u001b[38;5;241m503\u001b[39m):\n",
      "File \u001b[1;32mC:\\ProgramData\\anaconda3\\Lib\\smtplib.py:662\u001b[0m, in \u001b[0;36mSMTP.auth\u001b[1;34m(self, mechanism, authobject, initial_response_ok)\u001b[0m\n\u001b[0;32m    660\u001b[0m \u001b[38;5;28;01mif\u001b[39;00m code \u001b[38;5;129;01min\u001b[39;00m (\u001b[38;5;241m235\u001b[39m, \u001b[38;5;241m503\u001b[39m):\n\u001b[0;32m    661\u001b[0m     \u001b[38;5;28;01mreturn\u001b[39;00m (code, resp)\n\u001b[1;32m--> 662\u001b[0m \u001b[38;5;28;01mraise\u001b[39;00m SMTPAuthenticationError(code, resp)\n",
      "\u001b[1;31mSMTPAuthenticationError\u001b[0m: (534, b'5.7.9 Application-specific password required. For more information, go to\\n5.7.9  https://support.google.com/mail/?p=InvalidSecondFactor 98e67ed59e1d1-3158a224181sm278549a91.4 - gsmtp')"
     ]
    }
   ],
   "source": [
    "import smtplib\n",
    "smtObj=smtplib.SMTP('smtp.gmail.com',587)\n",
    "smtObj.ehlo()\n",
    "smtObj.starttls()\n",
    "smtObj.login('mailtosaileela145@gmail.com','Sai@2005')\n",
    "smtObj.sendmail(\"mailtosaileela145@gmail.com\",\"fe6168@gmail.com\",'Subject:SMTP check.\\n This is a test email')\n",
    "smtObj.quit()                "
   ]
  },
  {
   "cell_type": "code",
   "execution_count": 34,
   "id": "52ed6add-b16e-4ccc-9df5-f55f6cd605ff",
   "metadata": {},
   "outputs": [
    {
     "name": "stdout",
     "output_type": "stream",
     "text": [
      "File created\n"
     ]
    }
   ],
   "source": [
    "from os import path\n",
    "def createFile(dest):\n",
    "    if not(path.isfile(dest)):\n",
    "        f=open(dest,'w')\n",
    "        f.write(\"welcome to python\")\n",
    "        f.close()\n",
    "dest=\"D:\\\\Python\\\\sample.txt\"\n",
    "createFile(dest)\n",
    "print(\"File created\")"
   ]
  },
  {
   "cell_type": "code",
   "execution_count": 40,
   "id": "2e98011e-a9a9-44e6-927c-f1480f4ac7af",
   "metadata": {},
   "outputs": [
    {
     "name": "stdout",
     "output_type": "stream",
     "text": [
      "10\n",
      "20\n",
      "30\n",
      "40\n"
     ]
    }
   ],
   "source": [
    "def func1(*args):\n",
    "    for i in args:\n",
    "        print(i)\n",
    "func1(10,20,30,40)\n"
   ]
  },
  {
   "cell_type": "code",
   "execution_count": 44,
   "id": "7d6b795d-f05f-40e2-9a51-e15c7c84b449",
   "metadata": {},
   "outputs": [
    {
     "name": "stdout",
     "output_type": "stream",
     "text": [
      "10\n",
      "20\n",
      "30\n",
      "40\n",
      "50\n",
      "76\n",
      "hfgfysfys\n"
     ]
    }
   ],
   "source": [
    "def func1(*args):\n",
    "    for i in args:\n",
    "        print(i)\n",
    "func1(10,20,30,40,50,76,'hfgfysfys')"
   ]
  },
  {
   "cell_type": "code",
   "execution_count": 46,
   "id": "6841ee68-83f1-4551-bad0-7bf9ae0ac631",
   "metadata": {},
   "outputs": [
    {
     "name": "stdout",
     "output_type": "stream",
     "text": [
      "('a', 10)\n",
      "('b', 20)\n",
      "('c', 30)\n",
      "('d', 40)\n"
     ]
    }
   ],
   "source": [
    "def func1(*args,**kwargs):\n",
    "    for i in kwargs.items():\n",
    "        print(i)\n",
    "func1(a=10,b=20,c=30,d=40,)"
   ]
  },
  {
   "cell_type": "code",
   "execution_count": 48,
   "id": "6e4c0ebb-276d-486c-aaf9-dbae61330f7f",
   "metadata": {},
   "outputs": [
    {
     "name": "stdout",
     "output_type": "stream",
     "text": [
      "11\n"
     ]
    }
   ],
   "source": [
    "def func1():\n",
    "    x=10\n",
    "    def func2(x):\n",
    "        return x+1\n",
    "    return func2(x)\n",
    "\n",
    "result=func1()\n",
    "print(result)"
   ]
  },
  {
   "cell_type": "code",
   "execution_count": 52,
   "id": "61b21323-f7fd-45f0-87cb-4556c75a001c",
   "metadata": {},
   "outputs": [
    {
     "name": "stdout",
     "output_type": "stream",
     "text": [
      "this is the first function\n",
      "this is the nested function\n",
      "this is the outer function\n"
     ]
    }
   ],
   "source": [
    "def func1(called_func):\n",
    "    print(\"this is the first function\")\n",
    "    def nested_func1(called_func):\n",
    "        print(\"this is the nested function\")\n",
    "        called_func()\n",
    "    return nested_func1(called_func)\n",
    "def outer_func():\n",
    "    print(\"this is the outer function\")\n",
    "obj=func1(outer_func)    "
   ]
  },
  {
   "cell_type": "code",
   "execution_count": 58,
   "id": "aa19b3ce-ad0f-4bc3-a2b0-ce73698ce716",
   "metadata": {},
   "outputs": [
    {
     "name": "stdout",
     "output_type": "stream",
     "text": [
      "this is the outer function\n"
     ]
    }
   ],
   "source": [
    "def func1(called_func):\n",
    "    print(\"this is the first function\")\n",
    "    def nested_func1(called_func):\n",
    "        print(\"this is the nested function\")\n",
    "        called_func()\n",
    "    return nested_func1(called_func)\n",
    "def outer_func():\n",
    "    print(\"this is the outer function\")\n",
    "outer_func()"
   ]
  },
  {
   "cell_type": "code",
   "execution_count": 72,
   "id": "26079819-19e6-47d8-9463-5f7676c16f39",
   "metadata": {},
   "outputs": [
    {
     "name": "stdout",
     "output_type": "stream",
     "text": [
      "this is the first function\n"
     ]
    },
    {
     "ename": "NameError",
     "evalue": "name 'nested_func' is not defined",
     "output_type": "error",
     "traceback": [
      "\u001b[1;31m---------------------------------------------------------------------------\u001b[0m",
      "\u001b[1;31mNameError\u001b[0m                                 Traceback (most recent call last)",
      "Cell \u001b[1;32mIn[72], line 7\u001b[0m\n\u001b[0;32m      5\u001b[0m         called_func()\n\u001b[0;32m      6\u001b[0m     \u001b[38;5;28;01mreturn\u001b[39;00m nested_func\n\u001b[1;32m----> 7\u001b[0m \u001b[38;5;129m@func1\u001b[39m\n\u001b[0;32m      8\u001b[0m \u001b[38;5;28;01mdef\u001b[39;00m \u001b[38;5;21mouter_func\u001b[39m():\n\u001b[0;32m      9\u001b[0m     \u001b[38;5;28mprint\u001b[39m(\u001b[38;5;124m\"\u001b[39m\u001b[38;5;124mthis is the outer function\u001b[39m\u001b[38;5;124m\"\u001b[39m)\n\u001b[0;32m     10\u001b[0m outer_func()\n",
      "Cell \u001b[1;32mIn[72], line 6\u001b[0m, in \u001b[0;36mfunc1\u001b[1;34m(called_func)\u001b[0m\n\u001b[0;32m      4\u001b[0m     \u001b[38;5;28mprint\u001b[39m(\u001b[38;5;124m\"\u001b[39m\u001b[38;5;124mthis is the nested function\u001b[39m\u001b[38;5;124m\"\u001b[39m)\n\u001b[0;32m      5\u001b[0m     called_func()\n\u001b[1;32m----> 6\u001b[0m \u001b[38;5;28;01mreturn\u001b[39;00m nested_func\n",
      "\u001b[1;31mNameError\u001b[0m: name 'nested_func' is not defined"
     ]
    }
   ],
   "source": [
    "def func1(called_func):\n",
    "    print(\"this is the first function\")\n",
    "    def nested_func1():\n",
    "        print(\"this is the nested function\")\n",
    "        called_func()\n",
    "    return nested_func\n",
    "@func1\n",
    "def outer_func():\n",
    "    print(\"this is the outer function\")\n",
    "outer_func()  "
   ]
  },
  {
   "cell_type": "code",
   "execution_count": 56,
   "id": "c8f5f308-3552-4795-8f8d-34da8f5f309c",
   "metadata": {},
   "outputs": [
    {
     "name": "stdout",
     "output_type": "stream",
     "text": [
      "5\n",
      "10\n"
     ]
    }
   ],
   "source": [
    "b=type(\"class\",(object,),{})\n",
    "c2=type(\"b1\",(b,),{'val':5})\n",
    "c3=type(\"b3\",(b,),{'val':10})\n",
    "def classCreator(bool):\n",
    "    if bool:\n",
    "        return c2()\n",
    "    else:\n",
    "        return c3()\n",
    "print(classCreator(True).val)\n",
    "print(classCreator(False).val)\n",
    "        "
   ]
  },
  {
   "cell_type": "code",
   "execution_count": null,
   "id": "3a5891ef-c749-4e7e-add6-582324f7b310",
   "metadata": {},
   "outputs": [],
   "source": []
  }
 ],
 "metadata": {
  "kernelspec": {
   "display_name": "Python [conda env:base] *",
   "language": "python",
   "name": "conda-base-py"
  },
  "language_info": {
   "codemirror_mode": {
    "name": "ipython",
    "version": 3
   },
   "file_extension": ".py",
   "mimetype": "text/x-python",
   "name": "python",
   "nbconvert_exporter": "python",
   "pygments_lexer": "ipython3",
   "version": "3.12.7"
  }
 },
 "nbformat": 4,
 "nbformat_minor": 5
}
