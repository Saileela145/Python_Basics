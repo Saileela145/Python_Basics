{
 "cells": [
  {
   "cell_type": "markdown",
   "id": "81e8f420-c0c0-467e-bf5d-67afe1b55a4e",
   "metadata": {},
   "source": [
    "## Tensorflow:\n",
    "  ---> 🌟 What is TensorFlow? (Simple Answer)\n",
    "TensorFlow is a tool that helps computers learn from data and make decisions — just like humans learn from experience.\n",
    "\n",
    "It's mainly used for machine learning and artificial intelligence, especially deep learning like recognizing faces, understanding speech, detecting fake images, etc.\n",
    "\n",
    "#### 🧠 Everyday Example:\n",
    "“Like How a Child Learns to Identify Fruits 🍎🍌”\n",
    "Imagine a child learning to recognize apples and bananas:\n",
    "You show many pictures of apples and bananas to the child.\n",
    "The child starts noticing patterns — apples are round and red, bananas are long and yellow.\n",
    "After seeing enough examples, the child can predict: “Oh, this is a banana!”\n",
    "\n",
    "👉 This is how machine learning works.\n",
    "\n",
    "### 💻 With TensorFlow:\n",
    "Now imagine instead of a child, you want a computer to learn to tell the difference between apples and bananas from pictures. Here's what happens:\n",
    "Step\tWhat Happens in TensorFlow:\n",
    "\n",
    "🖼️ Input\tYou give it lots of images of fruits.\n",
    "🤖 Learning\tTensorFlow helps build a model that finds patterns (color, shape, size).\n",
    "✅ Prediction\tAfter training, the model can say: \"This is an apple!\" when shown a new image.\n",
    "🔄 Training\tIf it makes mistakes, TensorFlow helps it learn from the errors and get better.\n",
    "\n",
    "📱 Real-Life Examples of TensorFlow Around You:\n",
    "Example\tHow TensorFlow is Used\n",
    "📷 Google Photos\tFace recognition and image grouping.\n",
    "🗣️ Google Assistant / Alexa\tSpeech recognition and language understanding.\n",
    "🎬 YouTube\tRecommends videos based on what you like.\n",
    "🛒 Online Shopping\tShows you products based on your interests.\n",
    "🚗 Self-driving Cars\tHelps detect people, traffic signs, roads.\n",
    "📱 Camera Apps\tIdentifies objects, adds filters, or even detects deepfakes.\n",
    "\n",
    "🎓 In Short:\n",
    "TensorFlow is like a brain-building toolkit for computers. It helps them learn from data and make smart decisions — just like we do from experience."
   ]
  },
  {
   "cell_type": "markdown",
   "id": "548e392f-5bb8-4691-bfa4-971eca83ac1f",
   "metadata": {},
   "source": [
    "### Top applications of TensorFlow:\n",
    "   🔍 1. Image Recognition & Classification\n",
    "Example: Identifying if a photo is of a dog, cat, or person.\n",
    "Used in:\n",
    "Face recognition (Facebook, Google Photos)\n",
    "Medical imaging (detecting cancer, tumors)\n",
    "Detecting fake images (deepfake detection)\n",
    "TensorFlow makes it easy to train models with images and classify them.\n",
    "\n",
    "🗣️ 2. Natural Language Processing (NLP)\n",
    "Example: Understanding human language — like speech or text.\n",
    "Used in:\n",
    "Google Translate\n",
    "Chatbots (like Siri, Alexa, ChatGPT)\n",
    "Sentiment analysis (positive/negative reviews)\n",
    "TensorFlow helps machines understand and respond to text and speech.\n",
    "🤖 3. Speech Recognition\n",
    "Example: Converting spoken words into text.\n",
    "Used in:\n",
    "Voice assistants (Google Assistant, Alexa)\n",
    "Dictation apps\n",
    "Auto-captioning on YouTube or Google Meet\n",
    "TensorFlow helps train models to recognize and convert voice data accurately.\n",
    "🎬 4. Recommendation Systems\n",
    "Example: Suggesting videos, songs, or products.\n",
    "Used in:\n",
    "YouTube (video recommendations)\n",
    "Netflix (movie suggestions)\n",
    "Amazon (product suggestions)\n",
    "TensorFlow is used to learn user preferences and recommend based on behavior.\n",
    "🚗 5. Self-Driving Cars\n",
    "    Example: Detecting objects, people, traffic signs on the road.\n",
    "Used in:\n",
    "Tesla, Waymo, and other autonomous vehicles\n",
    "TensorFlow helps process camera input and make driving decisions using deep learning.\n",
    "💰 6. Financial Predictions\n",
    "Example: Predicting stock prices, detecting fraud.\n",
    "Used in:\n",
    "Banking (fraud detection)\n",
    "Investment companies (predicting market trends)\n",
    "TensorFlow builds models to understand patterns in huge financial datasets.\n",
    "🏥 7. Healthcare and Medicine\n",
    "Example: Diagnosing diseases, analyzing X-rays, predicting patient risk.\n",
    "Used in:\n",
    "Diagnosing skin diseases, diabetes prediction\n",
    "Analyzing ECG or MRI scans\n",
    "TensorFlow helps in training models on medical data for better diagnosis.\n",
    "📱 8. Mobile and Edge Devices\n",
    "Example: AI features directly on phones without needing the internet.\n",
    "Used in:\n",
    "Google Lens (object detection)\n",
    "Real-time translation (Google Translate)\n",
    "Smart camera filters and effects\n",
    "TensorFlow Lite makes TensorFlow work on mobile apps with less power.\n",
    "🧪 9. Research and Academia\n",
    "Example: Used by researchers to create and test new AI models.\n",
    "TensorFlow is widely used in universities and research labs to:\n",
    "Test new machine learning techniques\n",
    "Publish papers in AI journals\n",
    "👨‍💼 10. Business Intelligence\n",
    "Example: Making smart business decisions from large data sets.\n",
    "Used for:\n",
    "Customer behavior prediction\n",
    "\n",
    "Sales forecasting\n",
    "\n",
    "Inventory management\n",
    "\n",
    "TensorFlow helps businesses turn data into smart decisions.\n",
    "\n",
    "✅ Summary:\n",
    "TensorFlow is used in almost every area where smart decisions, pattern recognition, or predictions are needed — whether it's phones, hospitals, cars, or websites."
   ]
  },
  {
   "cell_type": "markdown",
   "id": "be0a42ef-bf86-467d-baeb-e0c71dba5a95",
   "metadata": {},
   "source": [
    "## Numpy-Numeric python"
   ]
  },
  {
   "cell_type": "code",
   "execution_count": null,
   "id": "e5fb17b9-6aef-401f-b78b-878e5eff9654",
   "metadata": {},
   "outputs": [],
   "source": []
  },
  {
   "cell_type": "code",
   "execution_count": 8,
   "id": "e9c9b41c-f23a-42bd-afe6-f4b89d468bdc",
   "metadata": {},
   "outputs": [],
   "source": [
    "import numpy as np"
   ]
  },
  {
   "cell_type": "code",
   "execution_count": 10,
   "id": "2623eece-92f6-44e2-8796-10a5cdc15c6e",
   "metadata": {},
   "outputs": [
    {
     "name": "stdout",
     "output_type": "stream",
     "text": [
      "<class 'numpy.ndarray'>\n"
     ]
    }
   ],
   "source": [
    "a=np.array([3,5,6])\n",
    "print(type(a))"
   ]
  },
  {
   "cell_type": "code",
   "execution_count": 12,
   "id": "ed5e04aa-63b3-4d0d-869c-e48fea0e8cc8",
   "metadata": {},
   "outputs": [
    {
     "name": "stdout",
     "output_type": "stream",
     "text": [
      "(3,)\n"
     ]
    }
   ],
   "source": [
    "print(a.shape)"
   ]
  },
  {
   "cell_type": "code",
   "execution_count": 18,
   "id": "f2e72609-026c-4a5f-8cfe-89daf75ac0bc",
   "metadata": {},
   "outputs": [
    {
     "data": {
      "text/plain": [
       "array([ 0,  1,  2,  3,  4,  5,  6,  7,  8,  9, 10, 11])"
      ]
     },
     "execution_count": 18,
     "metadata": {},
     "output_type": "execute_result"
    }
   ],
   "source": [
    "b=np.arange(12)\n",
    "b"
   ]
  },
  {
   "cell_type": "code",
   "execution_count": 20,
   "id": "07cf47c1-00b1-4b14-9f66-9cc896126d36",
   "metadata": {},
   "outputs": [
    {
     "data": {
      "text/plain": [
       "array([[ 0,  1,  2,  3],\n",
       "       [ 4,  5,  6,  7],\n",
       "       [ 8,  9, 10, 11]])"
      ]
     },
     "execution_count": 20,
     "metadata": {},
     "output_type": "execute_result"
    }
   ],
   "source": [
    "b=np.arange(12).reshape(3,4)\n",
    "b"
   ]
  },
  {
   "cell_type": "code",
   "execution_count": 22,
   "id": "f740cc76-7e30-4e96-9fd8-f7f7e62dd7f6",
   "metadata": {},
   "outputs": [
    {
     "data": {
      "text/plain": [
       "array([[ 0,  1,  2,  3],\n",
       "       [ 4,  5,  6,  7],\n",
       "       [ 8,  9, 10, 11]])"
      ]
     },
     "execution_count": 22,
     "metadata": {},
     "output_type": "execute_result"
    }
   ],
   "source": [
    "b.reshape(3,4)"
   ]
  },
  {
   "cell_type": "markdown",
   "id": "71b844b3-7663-4b4f-9cb6-3eec935aa307",
   "metadata": {},
   "source": [
    "## Scipy-Scientific Python"
   ]
  },
  {
   "cell_type": "code",
   "execution_count": 28,
   "id": "c4732d64-cf3b-453c-8d2c-568229c84eb5",
   "metadata": {},
   "outputs": [],
   "source": [
    "from scipy import constants"
   ]
  },
  {
   "cell_type": "code",
   "execution_count": 30,
   "id": "523fe0ba-3199-4a4e-9f9b-0a6de32b2afd",
   "metadata": {},
   "outputs": [
    {
     "name": "stdout",
     "output_type": "stream",
     "text": [
      "299792458.0\n",
      "6.62607015e-34\n",
      "6.02214076e+23\n"
     ]
    }
   ],
   "source": [
    "print(constants.c)\n",
    "print(constants.h)\n",
    "print(constants.N_A)"
   ]
  },
  {
   "cell_type": "markdown",
   "id": "b3f6fd64-5309-4f57-919e-d6d99722eff1",
   "metadata": {},
   "source": [
    "## Pandas : Python data analysis library"
   ]
  },
  {
   "cell_type": "code",
   "execution_count": 34,
   "id": "e527ed2b-fc6a-4a3a-8f48-5fb4370e1fb9",
   "metadata": {},
   "outputs": [],
   "source": [
    "import pandas as pd"
   ]
  },
  {
   "cell_type": "code",
   "execution_count": 36,
   "id": "b5418961-5d56-4123-983c-e7fa4047b91d",
   "metadata": {},
   "outputs": [
    {
     "data": {
      "text/html": [
       "<div>\n",
       "<style scoped>\n",
       "    .dataframe tbody tr th:only-of-type {\n",
       "        vertical-align: middle;\n",
       "    }\n",
       "\n",
       "    .dataframe tbody tr th {\n",
       "        vertical-align: top;\n",
       "    }\n",
       "\n",
       "    .dataframe thead th {\n",
       "        text-align: right;\n",
       "    }\n",
       "</style>\n",
       "<table border=\"1\" class=\"dataframe\">\n",
       "  <thead>\n",
       "    <tr style=\"text-align: right;\">\n",
       "      <th></th>\n",
       "      <th>a</th>\n",
       "      <th>b</th>\n",
       "      <th>c</th>\n",
       "      <th>d</th>\n",
       "    </tr>\n",
       "  </thead>\n",
       "  <tbody>\n",
       "    <tr>\n",
       "      <th>0</th>\n",
       "      <td>-0.315398</td>\n",
       "      <td>-1.456594</td>\n",
       "      <td>-1.524542</td>\n",
       "      <td>1.177572</td>\n",
       "    </tr>\n",
       "    <tr>\n",
       "      <th>1</th>\n",
       "      <td>0.664014</td>\n",
       "      <td>-2.244175</td>\n",
       "      <td>0.084675</td>\n",
       "      <td>0.560668</td>\n",
       "    </tr>\n",
       "    <tr>\n",
       "      <th>2</th>\n",
       "      <td>2.104982</td>\n",
       "      <td>-0.074273</td>\n",
       "      <td>0.251242</td>\n",
       "      <td>1.291283</td>\n",
       "    </tr>\n",
       "    <tr>\n",
       "      <th>3</th>\n",
       "      <td>-1.415208</td>\n",
       "      <td>-0.363874</td>\n",
       "      <td>0.518414</td>\n",
       "      <td>-1.367989</td>\n",
       "    </tr>\n",
       "    <tr>\n",
       "      <th>4</th>\n",
       "      <td>-0.393005</td>\n",
       "      <td>-0.110677</td>\n",
       "      <td>-0.827989</td>\n",
       "      <td>1.259222</td>\n",
       "    </tr>\n",
       "    <tr>\n",
       "      <th>5</th>\n",
       "      <td>0.205178</td>\n",
       "      <td>0.458803</td>\n",
       "      <td>-0.953149</td>\n",
       "      <td>0.714897</td>\n",
       "    </tr>\n",
       "  </tbody>\n",
       "</table>\n",
       "</div>"
      ],
      "text/plain": [
       "          a         b         c         d\n",
       "0 -0.315398 -1.456594 -1.524542  1.177572\n",
       "1  0.664014 -2.244175  0.084675  0.560668\n",
       "2  2.104982 -0.074273  0.251242  1.291283\n",
       "3 -1.415208 -0.363874  0.518414 -1.367989\n",
       "4 -0.393005 -0.110677 -0.827989  1.259222\n",
       "5  0.205178  0.458803 -0.953149  0.714897"
      ]
     },
     "execution_count": 36,
     "metadata": {},
     "output_type": "execute_result"
    }
   ],
   "source": [
    "df=pd.DataFrame(np.random.randn(6,4),index=list(range(6)),columns=list('abcd'))\n",
    "df"
   ]
  },
  {
   "cell_type": "code",
   "execution_count": 38,
   "id": "56096181-1e42-4b3e-ba15-f7826f28c928",
   "metadata": {},
   "outputs": [
    {
     "data": {
      "text/html": [
       "<div>\n",
       "<style scoped>\n",
       "    .dataframe tbody tr th:only-of-type {\n",
       "        vertical-align: middle;\n",
       "    }\n",
       "\n",
       "    .dataframe tbody tr th {\n",
       "        vertical-align: top;\n",
       "    }\n",
       "\n",
       "    .dataframe thead th {\n",
       "        text-align: right;\n",
       "    }\n",
       "</style>\n",
       "<table border=\"1\" class=\"dataframe\">\n",
       "  <thead>\n",
       "    <tr style=\"text-align: right;\">\n",
       "      <th></th>\n",
       "      <th>a</th>\n",
       "      <th>b</th>\n",
       "      <th>c</th>\n",
       "      <th>d</th>\n",
       "    </tr>\n",
       "  </thead>\n",
       "  <tbody>\n",
       "    <tr>\n",
       "      <th>count</th>\n",
       "      <td>6.000000</td>\n",
       "      <td>6.000000</td>\n",
       "      <td>6.000000</td>\n",
       "      <td>6.000000</td>\n",
       "    </tr>\n",
       "    <tr>\n",
       "      <th>mean</th>\n",
       "      <td>0.141760</td>\n",
       "      <td>-0.631798</td>\n",
       "      <td>-0.408558</td>\n",
       "      <td>0.605942</td>\n",
       "    </tr>\n",
       "    <tr>\n",
       "      <th>std</th>\n",
       "      <td>1.187445</td>\n",
       "      <td>1.012289</td>\n",
       "      <td>0.806947</td>\n",
       "      <td>1.013267</td>\n",
       "    </tr>\n",
       "    <tr>\n",
       "      <th>min</th>\n",
       "      <td>-1.415208</td>\n",
       "      <td>-2.244175</td>\n",
       "      <td>-1.524542</td>\n",
       "      <td>-1.367989</td>\n",
       "    </tr>\n",
       "    <tr>\n",
       "      <th>25%</th>\n",
       "      <td>-0.373603</td>\n",
       "      <td>-1.183414</td>\n",
       "      <td>-0.921859</td>\n",
       "      <td>0.599225</td>\n",
       "    </tr>\n",
       "    <tr>\n",
       "      <th>50%</th>\n",
       "      <td>-0.055110</td>\n",
       "      <td>-0.237275</td>\n",
       "      <td>-0.371657</td>\n",
       "      <td>0.946234</td>\n",
       "    </tr>\n",
       "    <tr>\n",
       "      <th>75%</th>\n",
       "      <td>0.549305</td>\n",
       "      <td>-0.083374</td>\n",
       "      <td>0.209600</td>\n",
       "      <td>1.238810</td>\n",
       "    </tr>\n",
       "    <tr>\n",
       "      <th>max</th>\n",
       "      <td>2.104982</td>\n",
       "      <td>0.458803</td>\n",
       "      <td>0.518414</td>\n",
       "      <td>1.291283</td>\n",
       "    </tr>\n",
       "  </tbody>\n",
       "</table>\n",
       "</div>"
      ],
      "text/plain": [
       "              a         b         c         d\n",
       "count  6.000000  6.000000  6.000000  6.000000\n",
       "mean   0.141760 -0.631798 -0.408558  0.605942\n",
       "std    1.187445  1.012289  0.806947  1.013267\n",
       "min   -1.415208 -2.244175 -1.524542 -1.367989\n",
       "25%   -0.373603 -1.183414 -0.921859  0.599225\n",
       "50%   -0.055110 -0.237275 -0.371657  0.946234\n",
       "75%    0.549305 -0.083374  0.209600  1.238810\n",
       "max    2.104982  0.458803  0.518414  1.291283"
      ]
     },
     "execution_count": 38,
     "metadata": {},
     "output_type": "execute_result"
    }
   ],
   "source": [
    "df.describe()"
   ]
  },
  {
   "cell_type": "markdown",
   "id": "e6c21d51-0d66-445d-b407-53ec6e87d47f",
   "metadata": {},
   "source": [
    "## Matplotlib:Plotting library"
   ]
  },
  {
   "cell_type": "code",
   "execution_count": 46,
   "id": "4bb70549-af06-4947-b24f-174660e7098e",
   "metadata": {},
   "outputs": [],
   "source": [
    "import numpy as np\n",
    "import matplotlib.pyplot as plt\n",
    "%matplotlib inline"
   ]
  },
  {
   "cell_type": "code",
   "execution_count": 48,
   "id": "1f76e329-df6f-4f29-ad42-bc3cab0e985a",
   "metadata": {},
   "outputs": [],
   "source": [
    "np.random.seed(10)"
   ]
  },
  {
   "cell_type": "code",
   "execution_count": 50,
   "id": "9f4bfb77-2bae-4476-8c39-6fb3c844664b",
   "metadata": {},
   "outputs": [],
   "source": [
    "N=30\n",
    "x=np.random.rand(N)\n",
    "y=np.random.rand(N)\n",
    "colors=np.random.rand(N)"
   ]
  },
  {
   "cell_type": "code",
   "execution_count": 62,
   "id": "2f5295a9-3e70-4ef5-b714-6e886b17a4a8",
   "metadata": {},
   "outputs": [],
   "source": [
    "area=(30*np.random.rand(N))**4"
   ]
  },
  {
   "cell_type": "code",
   "execution_count": 64,
   "id": "49f670cf-715c-4f5b-8b06-93197b8c0abb",
   "metadata": {},
   "outputs": [
    {
     "data": {
      "image/png": "[encoded data removed]",
      "text/plain": [
       "<Figure size 640x480 with 1 Axes>"
      ]
     },
     "metadata": {},
     "output_type": "display_data"
    }
   ],
   "source": [
    "plt.scatter(x,y,s=area,c=colors,alpha=0.4)\n",
    "plt.show()"
   ]
  },
  {
   "cell_type": "code",
   "execution_count": 68,
   "id": "060138ec-99cc-455d-9168-0d5241bf11b5",
   "metadata": {},
   "outputs": [],
   "source": [
    "from matplotlib import style\n",
    "style.use('ggplot')\n",
    "x=[2,4,6]\n",
    "y=[12,14,16]\n",
    "x2=[3,3,4]\n",
    "y2=[7,14,5]"
   ]
  },
  {
   "cell_type": "code",
   "execution_count": 76,
   "id": "1a45ea26-ea2d-435a-bf1d-be6d08cd165d",
   "metadata": {},
   "outputs": [
    {
     "data": {
      "image/png": "[encoded data removed]",
      "text/plain": [
       "<Figure size 640x480 with 1 Axes>"
      ]
     },
     "metadata": {},
     "output_type": "display_data"
    }
   ],
   "source": [
    "plt.bar(x,y,color='r',align='center')\n",
    "plt.bar(x2,y2,color='b',align='center')\n",
    "plt.title('info')\n",
    "plt.ylabel('y axis')\n",
    "plt.xlabel('x axis')\n",
    "plt.show()"
   ]
  },
  {
   "cell_type": "markdown",
   "id": "02f91c2e-e5e9-40d9-8762-bc07d48284c7",
   "metadata": {},
   "source": [
    "### Other Useful libraries:"
   ]
  },
  {
   "cell_type": "markdown",
   "id": "6793e647-0b3a-435a-925b-1c2e766209cf",
   "metadata": {},
   "source": [
    "--> Like TensorFlow, 'keras' is another popular library extensively used for deep learning modules\n",
    "--> Scikit learn is a machine learning library designed to interpolate with Numpy & Scipy"
   ]
  },
  {
   "cell_type": "code",
   "execution_count": 94,
   "id": "66f01451-aa7f-4bea-83fa-16b1f4b2103a",
   "metadata": {},
   "outputs": [],
   "source": [
    "import numpy as np"
   ]
  },
  {
   "cell_type": "code",
   "execution_count": 100,
   "id": "f696b349-353a-4b1e-ba13-6b0f01c12bd2",
   "metadata": {},
   "outputs": [
    {
     "data": {
      "text/plain": [
       "array([1, 2, 3])"
      ]
     },
     "execution_count": 100,
     "metadata": {},
     "output_type": "execute_result"
    }
   ],
   "source": [
    "a=np.array([1,2,3])\n",
    "a"
   ]
  },
  {
   "cell_type": "code",
   "execution_count": 102,
   "id": "741107a1-1355-4ec5-942c-2af96a2ec59f",
   "metadata": {},
   "outputs": [
    {
     "data": {
      "text/plain": [
       "1"
      ]
     },
     "execution_count": 102,
     "metadata": {},
     "output_type": "execute_result"
    }
   ],
   "source": [
    "a[0]"
   ]
  },
  {
   "cell_type": "code",
   "execution_count": 104,
   "id": "c1a71ab1-e937-4883-a09e-08031af50027",
   "metadata": {},
   "outputs": [
    {
     "data": {
      "text/plain": [
       "2"
      ]
     },
     "execution_count": 104,
     "metadata": {},
     "output_type": "execute_result"
    }
   ],
   "source": [
    "a[1]"
   ]
  },
  {
   "cell_type": "code",
   "execution_count": 106,
   "id": "b2b9c8b0-9dc0-4357-97c1-85d66ffacbca",
   "metadata": {},
   "outputs": [],
   "source": [
    "import time\n",
    "import sys"
   ]
  },
  {
   "cell_type": "code",
   "execution_count": 108,
   "id": "7d099101-9ff1-4a48-81a0-d547364648a6",
   "metadata": {},
   "outputs": [
    {
     "name": "stdout",
     "output_type": "stream",
     "text": [
      "28000\n"
     ]
    }
   ],
   "source": [
    "b=range(1000)\n",
    "print(sys.getsizeof(5)*len(b))"
   ]
  },
  {
   "cell_type": "code",
   "execution_count": 122,
   "id": "d26457aa-ba8f-493a-9540-b9f49322f5fa",
   "metadata": {},
   "outputs": [
    {
     "name": "stdout",
     "output_type": "stream",
     "text": [
      "4000\n"
     ]
    }
   ],
   "source": [
    "c=np.arange(1000)\n",
    "print(c.size*c.itemsize)"
   ]
  },
  {
   "cell_type": "code",
   "execution_count": 190,
   "id": "bb645cdf-d9b3-4370-b5bc-0acbb8c9ed1f",
   "metadata": {},
   "outputs": [],
   "source": [
    "size=10000"
   ]
  },
  {
   "cell_type": "code",
   "execution_count": 192,
   "id": "2a7548eb-c1cf-48ca-84b5-463621611342",
   "metadata": {},
   "outputs": [],
   "source": [
    "L1=range(size)\n",
    "L2=range(size)\n",
    "A1=np.arange(size)\n",
    "A2=np.arange(size)"
   ]
  },
  {
   "cell_type": "code",
   "execution_count": 196,
   "id": "555c3e82-7add-4ac5-85f9-d4949191c1ce",
   "metadata": {},
   "outputs": [
    {
     "name": "stdout",
     "output_type": "stream",
     "text": [
      "[0, 1, 4, 9, 16, 25, 36, 49, 64, 81, 100, 121, 144, 169, 196, 225, 256, 289, 324, 361, 400, 441, 484, 529, 576, 625, 676, 729, 784, 841, 900, 961, 1024, 1089, 1156, 1225, 1296, 1369, 1444, 1521, 1600, 1681, 1764, 1849, 1936, 2025, 2116, 2209, 2304, 2401, 2500, 2601, 2704, 2809, 2916, 3025, 3136, 3249, 3364, 3481, 3600, 3721, 3844, 3969, 4096, 4225, 4356, 4489, 4624, 4761, 4900, 5041, 5184, 5329, 5476, 5625, 5776, 5929, 6084, 6241, 6400, 6561, 6724, 6889, 7056, 7225, 7396, 7569, 7744, 7921, 8100, 8281, 8464, 8649, 8836, 9025, 9216, 9409, 9604, 9801, 10000, 10201, 10404, 10609, 10816, 11025, 11236, 11449, 11664, 11881, 12100, 12321, 12544, 12769, 12996, 13225, 13456, 13689, 13924, 14161, 14400, 14641, 14884, 15129, 15376, 15625, 15876, 16129, 16384, 16641, 16900, 17161, 17424, 17689, 17956, 18225, 18496, 18769, 19044, 19321, 19600, 19881, 20164, 20449, 20736, 21025, 21316, 21609, 21904, 22201, 22500, 22801, 23104, 23409, 23716, 24025, 24336, 24649, 24964, 25281, 25600, 25921, 26244, 26569, 26896, 27225, 27556, 27889, 28224, 28561, 28900, 29241, 29584, 29929, 30276, 30625, 30976, 31329, 31684, 32041, 32400, 32761, 33124, 33489, 33856, 34225, 34596, 34969, 35344, 35721, 36100, 36481, 36864, 37249, 37636, 38025, 38416, 38809, 39204, 39601, 40000, 40401, 40804, 41209, 41616, 42025, 42436, 42849, 43264, 43681, 44100, 44521, 44944, 45369, 45796, 46225, 46656, 47089, 47524, 47961, 48400, 48841, 49284, 49729, 50176, 50625, 51076, 51529, 51984, 52441, 52900, 53361, 53824, 54289, 54756, 55225, 55696, 56169, 56644, 57121, 57600, 58081, 58564, 59049, 59536, 60025, 60516, 61009, 61504, 62001, 62500, 63001, 63504, 64009, 64516, 65025, 65536, 66049, 66564, 67081, 67600, 68121, 68644, 69169, 69696, 70225, 70756, 71289, 71824, 72361, 72900, 73441, 73984, 74529, 75076, 75625, 76176, 76729, 77284, 77841, 78400, 78961, 79524, 80089, 80656, 81225, 81796, 82369, 82944, 83521, 84100, 84681, 85264, 85849, 86436, 87025, 87616, 88209, 88804, 89401, 90000, 90601, 91204, 91809, 92416, 93025, 93636, 94249, 94864, 95481, 96100, 96721, 97344, 97969, 98596, 99225, 99856, 100489, 101124, 101761, 102400, 103041, 103684, 104329, 104976, 105625, 106276, 106929, 107584, 108241, 108900, 109561, 110224, 110889, 111556, 112225, 112896, 113569, 114244, 114921, 115600, 116281, 116964, 117649, 118336, 119025, 119716, 120409, 121104, 121801, 122500, 123201, 123904, 124609, 125316, 126025, 126736, 127449, 128164, 128881, 129600, 130321, 131044, 131769, 132496, 133225, 133956, 134689, 135424, 136161, 136900, 137641, 138384, 139129, 139876, 140625, 141376, 142129, 142884, 143641, 144400, 145161, 145924, 146689, 147456, 148225, 148996, 149769, 150544, 151321, 152100, 152881, 153664, 154449, 155236, 156025, 156816, 157609, 158404, 159201, 160000, 160801, 161604, 162409, 163216, 164025, 164836, 165649, 166464, 167281, 168100, 168921, 169744, 170569, 171396, 172225, 173056, 173889, 174724, 175561, 176400, 177241, 178084, 178929, 179776, 180625, 181476, 182329, 183184, 184041, 184900, 185761, 186624, 187489, 188356, 189225, 190096, 190969, 191844, 192721, 193600, 194481, 195364, 196249, 197136, 198025, 198916, 199809, 200704, 201601, 202500, 203401, 204304, 205209, 206116, 207025, 207936, 208849, 209764, 210681, 211600, 212521, 213444, 214369, 215296, 216225, 217156, 218089, 219024, 219961, 220900, 221841, 222784, 223729, 224676, 225625, 226576, 227529, 228484, 229441, 230400, 231361, 232324, 233289, 234256, 235225, 236196, 237169, 238144, 239121, 240100, 241081, 242064, 243049, 244036, 245025, 246016, 247009, 248004, 249001, 250000, 251001, 252004, 253009, 254016, 255025, 256036, 257049, 258064, 259081, 260100, 261121, 262144, 263169, 264196, 265225, 266256, 267289, 268324, 269361, 270400, 271441, 272484, 273529, 274576, 275625, 276676, 277729, 278784, 279841, 280900, 281961, 283024, 284089, 285156, 286225, 287296, 288369, 289444, 290521, 291600, 292681, 293764, 294849, 295936, 297025, 298116, 299209, 300304, 301401, 302500, 303601, 304704, 305809, 306916, 308025, 309136, 310249, 311364, 312481, 313600, 314721, 315844, 316969, 318096, 319225, 320356, 321489, 322624, 323761, 324900, 326041, 327184, 328329, 329476, 330625, 331776, 332929, 334084, 335241, 336400, 337561, 338724, 339889, 341056, 342225, 343396, 344569, 345744, 346921, 348100, 349281, 350464, 351649, 352836, 354025, 355216, 356409, 357604, 358801, 360000, 361201, 362404, 363609, 364816, 366025, 367236, 368449, 369664, 370881, 372100, 373321, 374544, 375769, 376996, 378225, 379456, 380689, 381924, 383161, 384400, 385641, 386884, 388129, 389376, 390625, 391876, 393129, 394384, 395641, 396900, 398161, 399424, 400689, 401956, 403225, 404496, 405769, 407044, 408321, 409600, 410881, 412164, 413449, 414736, 416025, 417316, 418609, 419904, 421201, 422500, 423801, 425104, 426409, 427716, 429025, 430336, 431649, 432964, 434281, 435600, 436921, 438244, 439569, 440896, 442225, 443556, 444889, 446224, 447561, 448900, 450241, 451584, 452929, 454276, 455625, 456976, 458329, 459684, 461041, 462400, 463761, 465124, 466489, 467856, 469225, 470596, 471969, 473344, 474721, 476100, 477481, 478864, 480249, 481636, 483025, 484416, 485809, 487204, 488601, 490000, 491401, 492804, 494209, 495616, 497025, 498436, 499849, 501264, 502681, 504100, 505521, 506944, 508369, 509796, 511225, 512656, 514089, 515524, 516961, 518400, 519841, 521284, 522729, 524176, 525625, 527076, 528529, 529984, 531441, 532900, 534361, 535824, 537289, 538756, 540225, 541696, 543169, 544644, 546121, 547600, 549081, 550564, 552049, 553536, 555025, 556516, 558009, 559504, 561001, 562500, 564001, 565504, 567009, 568516, 570025, 571536, 573049, 574564, 576081, 577600, 579121, 580644, 582169, 583696, 585225, 586756, 588289, 589824, 591361, 592900, 594441, 595984, 597529, 599076, 600625, 602176, 603729, 605284, 606841, 608400, 609961, 611524, 613089, 614656, 616225, 617796, 619369, 620944, 622521, 624100, 625681, 627264, 628849, 630436, 632025, 633616, 635209, 636804, 638401, 640000, 641601, 643204, 644809, 646416, 648025, 649636, 651249, 652864, 654481, 656100, 657721, 659344, 660969, 662596, 664225, 665856, 667489, 669124, 670761, 672400, 674041, 675684, 677329, 678976, 680625, 682276, 683929, 685584, 687241, 688900, 690561, 692224, 693889, 695556, 697225, 698896, 700569, 702244, 703921, 705600, 707281, 708964, 710649, 712336, 714025, 715716, 717409, 719104, 720801, 722500, 724201, 725904, 727609, 729316, 731025, 732736, 734449, 736164, 737881, 739600, 741321, 743044, 744769, 746496, 748225, 749956, 751689, 753424, 755161, 756900, 758641, 760384, 762129, 763876, 765625, 767376, 769129, 770884, 772641, 774400, 776161, 777924, 779689, 781456, 783225, 784996, 786769, 788544, 790321, 792100, 793881, 795664, 797449, 799236, 801025, 802816, 804609, 806404, 808201, 810000, 811801, 813604, 815409, 817216, 819025, 820836, 822649, 824464, 826281, 828100, 829921, 831744, 833569, 835396, 837225, 839056, 840889, 842724, 844561, 846400, 848241, 850084, 851929, 853776, 855625, 857476, 859329, 861184, 863041, 864900, 866761, 868624, 870489, 872356, 874225, 876096, 877969, 879844, 881721, 883600, 885481, 887364, 889249, 891136, 893025, 894916, 896809, 898704, 900601, 902500, 904401, 906304, 908209, 910116, 912025, 913936, 915849, 917764, 919681, 921600, 923521, 925444, 927369, 929296, 931225, 933156, 935089, 937024, 938961, 940900, 942841, 944784, 946729, 948676, 950625, 952576, 954529, 956484, 958441, 960400, 962361, 964324, 966289, 968256, 970225, 972196, 974169, 976144, 978121, 980100, 982081, 984064, 986049, 988036, 990025, 992016, 994009, 996004, 998001, 1000000, 1002001, 1004004, 1006009, 1008016, 1010025, 1012036, 1014049, 1016064, 1018081, 1020100, 1022121, 1024144, 1026169, 1028196, 1030225, 1032256, 1034289, 1036324, 1038361, 1040400, 1042441, 1044484, 1046529, 1048576, 1050625, 1052676, 1054729, 1056784, 1058841, 1060900, 1062961, 1065024, 1067089, 1069156, 1071225, 1073296, 1075369, 1077444, 1079521, 1081600, 1083681, 1085764, 1087849, 1089936, 1092025, 1094116, 1096209, 1098304, 1100401, 1102500, 1104601, 1106704, 1108809, 1110916, 1113025, 1115136, 1117249, 1119364, 1121481, 1123600, 1125721, 1127844, 1129969, 1132096, 1134225, 1136356, 1138489, 1140624, 1142761, 1144900, 1147041, 1149184, 1151329, 1153476, 1155625, 1157776, 1159929, 1162084, 1164241, 1166400, 1168561, 1170724, 1172889, 1175056, 1177225, 1179396, 1181569, 1183744, 1185921, 1188100, 1190281, 1192464, 1194649, 1196836, 1199025, 1201216, 1203409, 1205604, 1207801, 1210000, 1212201, 1214404, 1216609, 1218816, 1221025, 1223236, 1225449, 1227664, 1229881, 1232100, 1234321, 1236544, 1238769, 1240996, 1243225, 1245456, 1247689, 1249924, 1252161, 1254400, 1256641, 1258884, 1261129, 1263376, 1265625, 1267876, 1270129, 1272384, 1274641, 1276900, 1279161, 1281424, 1283689, 1285956, 1288225, 1290496, 1292769, 1295044, 1297321, 1299600, 1301881, 1304164, 1306449, 1308736, 1311025, 1313316, 1315609, 1317904, 1320201, 1322500, 1324801, 1327104, 1329409, 1331716, 1334025, 1336336, 1338649, 1340964, 1343281, 1345600, 1347921, 1350244, 1352569, 1354896, 1357225, 1359556, 1361889, 1364224, 1366561, 1368900, 1371241, 1373584, 1375929, 1378276, 1380625, 1382976, 1385329, 1387684, 1390041, 1392400, 1394761, 1397124, 1399489, 1401856, 1404225, 1406596, 1408969, 1411344, 1413721, 1416100, 1418481, 1420864, 1423249, 1425636, 1428025, 1430416, 1432809, 1435204, 1437601, 1440000, 1442401, 1444804, 1447209, 1449616, 1452025, 1454436, 1456849, 1459264, 1461681, 1464100, 1466521, 1468944, 1471369, 1473796, 1476225, 1478656, 1481089, 1483524, 1485961, 1488400, 1490841, 1493284, 1495729, 1498176, 1500625, 1503076, 1505529, 1507984, 1510441, 1512900, 1515361, 1517824, 1520289, 1522756, 1525225, 1527696, 1530169, 1532644, 1535121, 1537600, 1540081, 1542564, 1545049, 1547536, 1550025, 1552516, 1555009, 1557504, 1560001, 1562500, 1565001, 1567504, 1570009, 1572516, 1575025, 1577536, 1580049, 1582564, 1585081, 1587600, 1590121, 1592644, 1595169, 1597696, 1600225, 1602756, 1605289, 1607824, 1610361, 1612900, 1615441, 1617984, 1620529, 1623076, 1625625, 1628176, 1630729, 1633284, 1635841, 1638400, 1640961, 1643524, 1646089, 1648656, 1651225, 1653796, 1656369, 1658944, 1661521, 1664100, 1666681, 1669264, 1671849, 1674436, 1677025, 1679616, 1682209, 1684804, 1687401, 1690000, 1692601, 1695204, 1697809, 1700416, 1703025, 1705636, 1708249, 1710864, 1713481, 1716100, 1718721, 1721344, 1723969, 1726596, 1729225, 1731856, 1734489, 1737124, 1739761, 1742400, 1745041, 1747684, 1750329, 1752976, 1755625, 1758276, 1760929, 1763584, 1766241, 1768900, 1771561, 1774224, 1776889, 1779556, 1782225, 1784896, 1787569, 1790244, 1792921, 1795600, 1798281, 1800964, 1803649, 1806336, 1809025, 1811716, 1814409, 1817104, 1819801, 1822500, 1825201, 1827904, 1830609, 1833316, 1836025, 1838736, 1841449, 1844164, 1846881, 1849600, 1852321, 1855044, 1857769, 1860496, 1863225, 1865956, 1868689, 1871424, 1874161, 1876900, 1879641, 1882384, 1885129, 1887876, 1890625, 1893376, 1896129, 1898884, 1901641, 1904400, 1907161, 1909924, 1912689, 1915456, 1918225, 1920996, 1923769, 1926544, 1929321, 1932100, 1934881, 1937664, 1940449, 1943236, 1946025, 1948816, 1951609, 1954404, 1957201, 1960000, 1962801, 1965604, 1968409, 1971216, 1974025, 1976836, 1979649, 1982464, 1985281, 1988100, 1990921, 1993744, 1996569, 1999396, 2002225, 2005056, 2007889, 2010724, 2013561, 2016400, 2019241, 2022084, 2024929, 2027776, 2030625, 2033476, 2036329, 2039184, 2042041, 2044900, 2047761, 2050624, 2053489, 2056356, 2059225, 2062096, 2064969, 2067844, 2070721, 2073600, 2076481, 2079364, 2082249, 2085136, 2088025, 2090916, 2093809, 2096704, 2099601, 2102500, 2105401, 2108304, 2111209, 2114116, 2117025, 2119936, 2122849, 2125764, 2128681, 2131600, 2134521, 2137444, 2140369, 2143296, 2146225, 2149156, 2152089, 2155024, 2157961, 2160900, 2163841, 2166784, 2169729, 2172676, 2175625, 2178576, 2181529, 2184484, 2187441, 2190400, 2193361, 2196324, 2199289, 2202256, 2205225, 2208196, 2211169, 2214144, 2217121, 2220100, 2223081, 2226064, 2229049, 2232036, 2235025, 2238016, 2241009, 2244004, 2247001, 2250000, 2253001, 2256004, 2259009, 2262016, 2265025, 2268036, 2271049, 2274064, 2277081, 2280100, 2283121, 2286144, 2289169, 2292196, 2295225, 2298256, 2301289, 2304324, 2307361, 2310400, 2313441, 2316484, 2319529, 2322576, 2325625, 2328676, 2331729, 2334784, 2337841, 2340900, 2343961, 2347024, 2350089, 2353156, 2356225, 2359296, 2362369, 2365444, 2368521, 2371600, 2374681, 2377764, 2380849, 2383936, 2387025, 2390116, 2393209, 2396304, 2399401, 2402500, 2405601, 2408704, 2411809, 2414916, 2418025, 2421136, 2424249, 2427364, 2430481, 2433600, 2436721, 2439844, 2442969, 2446096, 2449225, 2452356, 2455489, 2458624, 2461761, 2464900, 2468041, 2471184, 2474329, 2477476, 2480625, 2483776, 2486929, 2490084, 2493241, 2496400, 2499561, 2502724, 2505889, 2509056, 2512225, 2515396, 2518569, 2521744, 2524921, 2528100, 2531281, 2534464, 2537649, 2540836, 2544025, 2547216, 2550409, 2553604, 2556801, 2560000, 2563201, 2566404, 2569609, 2572816, 2576025, 2579236, 2582449, 2585664, 2588881, 2592100, 2595321, 2598544, 2601769, 2604996, 2608225, 2611456, 2614689, 2617924, 2621161, 2624400, 2627641, 2630884, 2634129, 2637376, 2640625, 2643876, 2647129, 2650384, 2653641, 2656900, 2660161, 2663424, 2666689, 2669956, 2673225, 2676496, 2679769, 2683044, 2686321, 2689600, 2692881, 2696164, 2699449, 2702736, 2706025, 2709316, 2712609, 2715904, 2719201, 2722500, 2725801, 2729104, 2732409, 2735716, 2739025, 2742336, 2745649, 2748964, 2752281, 2755600, 2758921, 2762244, 2765569, 2768896, 2772225, 2775556, 2778889, 2782224, 2785561, 2788900, 2792241, 2795584, 2798929, 2802276, 2805625, 2808976, 2812329, 2815684, 2819041, 2822400, 2825761, 2829124, 2832489, 2835856, 2839225, 2842596, 2845969, 2849344, 2852721, 2856100, 2859481, 2862864, 2866249, 2869636, 2873025, 2876416, 2879809, 2883204, 2886601, 2890000, 2893401, 2896804, 2900209, 2903616, 2907025, 2910436, 2913849, 2917264, 2920681, 2924100, 2927521, 2930944, 2934369, 2937796, 2941225, 2944656, 2948089, 2951524, 2954961, 2958400, 2961841, 2965284, 2968729, 2972176, 2975625, 2979076, 2982529, 2985984, 2989441, 2992900, 2996361, 2999824, 3003289, 3006756, 3010225, 3013696, 3017169, 3020644, 3024121, 3027600, 3031081, 3034564, 3038049, 3041536, 3045025, 3048516, 3052009, 3055504, 3059001, 3062500, 3066001, 3069504, 3073009, 3076516, 3080025, 3083536, 3087049, 3090564, 3094081, 3097600, 3101121, 3104644, 3108169, 3111696, 3115225, 3118756, 3122289, 3125824, 3129361, 3132900, 3136441, 3139984, 3143529, 3147076, 3150625, 3154176, 3157729, 3161284, 3164841, 3168400, 3171961, 3175524, 3179089, 3182656, 3186225, 3189796, 3193369, 3196944, 3200521, 3204100, 3207681, 3211264, 3214849, 3218436, 3222025, 3225616, 3229209, 3232804, 3236401, 3240000, 3243601, 3247204, 3250809, 3254416, 3258025, 3261636, 3265249, 3268864, 3272481, 3276100, 3279721, 3283344, 3286969, 3290596, 3294225, 3297856, 3301489, 3305124, 3308761, 3312400, 3316041, 3319684, 3323329, 3326976, 3330625, 3334276, 3337929, 3341584, 3345241, 3348900, 3352561, 3356224, 3359889, 3363556, 3367225, 3370896, 3374569, 3378244, 3381921, 3385600, 3389281, 3392964, 3396649, 3400336, 3404025, 3407716, 3411409, 3415104, 3418801, 3422500, 3426201, 3429904, 3433609, 3437316, 3441025, 3444736, 3448449, 3452164, 3455881, 3459600, 3463321, 3467044, 3470769, 3474496, 3478225, 3481956, 3485689, 3489424, 3493161, 3496900, 3500641, 3504384, 3508129, 3511876, 3515625, 3519376, 3523129, 3526884, 3530641, 3534400, 3538161, 3541924, 3545689, 3549456, 3553225, 3556996, 3560769, 3564544, 3568321, 3572100, 3575881, 3579664, 3583449, 3587236, 3591025, 3594816, 3598609, 3602404, 3606201, 3610000, 3613801, 3617604, 3621409, 3625216, 3629025, 3632836, 3636649, 3640464, 3644281, 3648100, 3651921, 3655744, 3659569, 3663396, 3667225, 3671056, 3674889, 3678724, 3682561, 3686400, 3690241, 3694084, 3697929, 3701776, 3705625, 3709476, 3713329, 3717184, 3721041, 3724900, 3728761, 3732624, 3736489, 3740356, 3744225, 3748096, 3751969, 3755844, 3759721, 3763600, 3767481, 3771364, 3775249, 3779136, 3783025, 3786916, 3790809, 3794704, 3798601, 3802500, 3806401, 3810304, 3814209, 3818116, 3822025, 3825936, 3829849, 3833764, 3837681, 3841600, 3845521, 3849444, 3853369, 3857296, 3861225, 3865156, 3869089, 3873024, 3876961, 3880900, 3884841, 3888784, 3892729, 3896676, 3900625, 3904576, 3908529, 3912484, 3916441, 3920400, 3924361, 3928324, 3932289, 3936256, 3940225, 3944196, 3948169, 3952144, 3956121, 3960100, 3964081, 3968064, 3972049, 3976036, 3980025, 3984016, 3988009, 3992004, 3996001, 4000000, 4004001, 4008004, 4012009, 4016016, 4020025, 4024036, 4028049, 4032064, 4036081, 4040100, 4044121, 4048144, 4052169, 4056196, 4060225, 4064256, 4068289, 4072324, 4076361, 4080400, 4084441, 4088484, 4092529, 4096576, 4100625, 4104676, 4108729, 4112784, 4116841, 4120900, 4124961, 4129024, 4133089, 4137156, 4141225, 4145296, 4149369, 4153444, 4157521, 4161600, 4165681, 4169764, 4173849, 4177936, 4182025, 4186116, 4190209, 4194304, 4198401, 4202500, 4206601, 4210704, 4214809, 4218916, 4223025, 4227136, 4231249, 4235364, 4239481, 4243600, 4247721, 4251844, 4255969, 4260096, 4264225, 4268356, 4272489, 4276624, 4280761, 4284900, 4289041, 4293184, 4297329, 4301476, 4305625, 4309776, 4313929, 4318084, 4322241, 4326400, 4330561, 4334724, 4338889, 4343056, 4347225, 4351396, 4355569, 4359744, 4363921, 4368100, 4372281, 4376464, 4380649, 4384836, 4389025, 4393216, 4397409, 4401604, 4405801, 4410000, 4414201, 4418404, 4422609, 4426816, 4431025, 4435236, 4439449, 4443664, 4447881, 4452100, 4456321, 4460544, 4464769, 4468996, 4473225, 4477456, 4481689, 4485924, 4490161, 4494400, 4498641, 4502884, 4507129, 4511376, 4515625, 4519876, 4524129, 4528384, 4532641, 4536900, 4541161, 4545424, 4549689, 4553956, 4558225, 4562496, 4566769, 4571044, 4575321, 4579600, 4583881, 4588164, 4592449, 4596736, 4601025, 4605316, 4609609, 4613904, 4618201, 4622500, 4626801, 4631104, 4635409, 4639716, 4644025, 4648336, 4652649, 4656964, 4661281, 4665600, 4669921, 4674244, 4678569, 4682896, 4687225, 4691556, 4695889, 4700224, 4704561, 4708900, 4713241, 4717584, 4721929, 4726276, 4730625, 4734976, 4739329, 4743684, 4748041, 4752400, 4756761, 4761124, 4765489, 4769856, 4774225, 4778596, 4782969, 4787344, 4791721, 4796100, 4800481, 4804864, 4809249, 4813636, 4818025, 4822416, 4826809, 4831204, 4835601, 4840000, 4844401, 4848804, 4853209, 4857616, 4862025, 4866436, 4870849, 4875264, 4879681, 4884100, 4888521, 4892944, 4897369, 4901796, 4906225, 4910656, 4915089, 4919524, 4923961, 4928400, 4932841, 4937284, 4941729, 4946176, 4950625, 4955076, 4959529, 4963984, 4968441, 4972900, 4977361, 4981824, 4986289, 4990756, 4995225, 4999696, 5004169, 5008644, 5013121, 5017600, 5022081, 5026564, 5031049, 5035536, 5040025, 5044516, 5049009, 5053504, 5058001, 5062500, 5067001, 5071504, 5076009, 5080516, 5085025, 5089536, 5094049, 5098564, 5103081, 5107600, 5112121, 5116644, 5121169, 5125696, 5130225, 5134756, 5139289, 5143824, 5148361, 5152900, 5157441, 5161984, 5166529, 5171076, 5175625, 5180176, 5184729, 5189284, 5193841, 5198400, 5202961, 5207524, 5212089, 5216656, 5221225, 5225796, 5230369, 5234944, 5239521, 5244100, 5248681, 5253264, 5257849, 5262436, 5267025, 5271616, 5276209, 5280804, 5285401, 5290000, 5294601, 5299204, 5303809, 5308416, 5313025, 5317636, 5322249, 5326864, 5331481, 5336100, 5340721, 5345344, 5349969, 5354596, 5359225, 5363856, 5368489, 5373124, 5377761, 5382400, 5387041, 5391684, 5396329, 5400976, 5405625, 5410276, 5414929, 5419584, 5424241, 5428900, 5433561, 5438224, 5442889, 5447556, 5452225, 5456896, 5461569, 5466244, 5470921, 5475600, 5480281, 5484964, 5489649, 5494336, 5499025, 5503716, 5508409, 5513104, 5517801, 5522500, 5527201, 5531904, 5536609, 5541316, 5546025, 5550736, 5555449, 5560164, 5564881, 5569600, 5574321, 5579044, 5583769, 5588496, 5593225, 5597956, 5602689, 5607424, 5612161, 5616900, 5621641, 5626384, 5631129, 5635876, 5640625, 5645376, 5650129, 5654884, 5659641, 5664400, 5669161, 5673924, 5678689, 5683456, 5688225, 5692996, 5697769, 5702544, 5707321, 5712100, 5716881, 5721664, 5726449, 5731236, 5736025, 5740816, 5745609, 5750404, 5755201, 5760000, 5764801, 5769604, 5774409, 5779216, 5784025, 5788836, 5793649, 5798464, 5803281, 5808100, 5812921, 5817744, 5822569, 5827396, 5832225, 5837056, 5841889, 5846724, 5851561, 5856400, 5861241, 5866084, 5870929, 5875776, 5880625, 5885476, 5890329, 5895184, 5900041, 5904900, 5909761, 5914624, 5919489, 5924356, 5929225, 5934096, 5938969, 5943844, 5948721, 5953600, 5958481, 5963364, 5968249, 5973136, 5978025, 5982916, 5987809, 5992704, 5997601, 6002500, 6007401, 6012304, 6017209, 6022116, 6027025, 6031936, 6036849, 6041764, 6046681, 6051600, 6056521, 6061444, 6066369, 6071296, 6076225, 6081156, 6086089, 6091024, 6095961, 6100900, 6105841, 6110784, 6115729, 6120676, 6125625, 6130576, 6135529, 6140484, 6145441, 6150400, 6155361, 6160324, 6165289, 6170256, 6175225, 6180196, 6185169, 6190144, 6195121, 6200100, 6205081, 6210064, 6215049, 6220036, 6225025, 6230016, 6235009, 6240004, 6245001, 6250000, 6255001, 6260004, 6265009, 6270016, 6275025, 6280036, 6285049, 6290064, 6295081, 6300100, 6305121, 6310144, 6315169, 6320196, 6325225, 6330256, 6335289, 6340324, 6345361, 6350400, 6355441, 6360484, 6365529, 6370576, 6375625, 6380676, 6385729, 6390784, 6395841, 6400900, 6405961, 6411024, 6416089, 6421156, 6426225, 6431296, 6436369, 6441444, 6446521, 6451600, 6456681, 6461764, 6466849, 6471936, 6477025, 6482116, 6487209, 6492304, 6497401, 6502500, 6507601, 6512704, 6517809, 6522916, 6528025, 6533136, 6538249, 6543364, 6548481, 6553600, 6558721, 6563844, 6568969, 6574096, 6579225, 6584356, 6589489, 6594624, 6599761, 6604900, 6610041, 6615184, 6620329, 6625476, 6630625, 6635776, 6640929, 6646084, 6651241, 6656400, 6661561, 6666724, 6671889, 6677056, 6682225, 6687396, 6692569, 6697744, 6702921, 6708100, 6713281, 6718464, 6723649, 6728836, 6734025, 6739216, 6744409, 6749604, 6754801, 6760000, 6765201, 6770404, 6775609, 6780816, 6786025, 6791236, 6796449, 6801664, 6806881, 6812100, 6817321, 6822544, 6827769, 6832996, 6838225, 6843456, 6848689, 6853924, 6859161, 6864400, 6869641, 6874884, 6880129, 6885376, 6890625, 6895876, 6901129, 6906384, 6911641, 6916900, 6922161, 6927424, 6932689, 6937956, 6943225, 6948496, 6953769, 6959044, 6964321, 6969600, 6974881, 6980164, 6985449, 6990736, 6996025, 7001316, 7006609, 7011904, 7017201, 7022500, 7027801, 7033104, 7038409, 7043716, 7049025, 7054336, 7059649, 7064964, 7070281, 7075600, 7080921, 7086244, 7091569, 7096896, 7102225, 7107556, 7112889, 7118224, 7123561, 7128900, 7134241, 7139584, 7144929, 7150276, 7155625, 7160976, 7166329, 7171684, 7177041, 7182400, 7187761, 7193124, 7198489, 7203856, 7209225, 7214596, 7219969, 7225344, 7230721, 7236100, 7241481, 7246864, 7252249, 7257636, 7263025, 7268416, 7273809, 7279204, 7284601, 7290000, 7295401, 7300804, 7306209, 7311616, 7317025, 7322436, 7327849, 7333264, 7338681, 7344100, 7349521, 7354944, 7360369, 7365796, 7371225, 7376656, 7382089, 7387524, 7392961, 7398400, 7403841, 7409284, 7414729, 7420176, 7425625, 7431076, 7436529, 7441984, 7447441, 7452900, 7458361, 7463824, 7469289, 7474756, 7480225, 7485696, 7491169, 7496644, 7502121, 7507600, 7513081, 7518564, 7524049, 7529536, 7535025, 7540516, 7546009, 7551504, 7557001, 7562500, 7568001, 7573504, 7579009, 7584516, 7590025, 7595536, 7601049, 7606564, 7612081, 7617600, 7623121, 7628644, 7634169, 7639696, 7645225, 7650756, 7656289, 7661824, 7667361, 7672900, 7678441, 7683984, 7689529, 7695076, 7700625, 7706176, 7711729, 7717284, 7722841, 7728400, 7733961, 7739524, 7745089, 7750656, 7756225, 7761796, 7767369, 7772944, 7778521, 7784100, 7789681, 7795264, 7800849, 7806436, 7812025, 7817616, 7823209, 7828804, 7834401, 7840000, 7845601, 7851204, 7856809, 7862416, 7868025, 7873636, 7879249, 7884864, 7890481, 7896100, 7901721, 7907344, 7912969, 7918596, 7924225, 7929856, 7935489, 7941124, 7946761, 7952400, 7958041, 7963684, 7969329, 7974976, 7980625, 7986276, 7991929, 7997584, 8003241, 8008900, 8014561, 8020224, 8025889, 8031556, 8037225, 8042896, 8048569, 8054244, 8059921, 8065600, 8071281, 8076964, 8082649, 8088336, 8094025, 8099716, 8105409, 8111104, 8116801, 8122500, 8128201, 8133904, 8139609, 8145316, 8151025, 8156736, 8162449, 8168164, 8173881, 8179600, 8185321, 8191044, 8196769, 8202496, 8208225, 8213956, 8219689, 8225424, 8231161, 8236900, 8242641, 8248384, 8254129, 8259876, 8265625, 8271376, 8277129, 8282884, 8288641, 8294400, 8300161, 8305924, 8311689, 8317456, 8323225, 8328996, 8334769, 8340544, 8346321, 8352100, 8357881, 8363664, 8369449, 8375236, 8381025, 8386816, 8392609, 8398404, 8404201, 8410000, 8415801, 8421604, 8427409, 8433216, 8439025, 8444836, 8450649, 8456464, 8462281, 8468100, 8473921, 8479744, 8485569, 8491396, 8497225, 8503056, 8508889, 8514724, 8520561, 8526400, 8532241, 8538084, 8543929, 8549776, 8555625, 8561476, 8567329, 8573184, 8579041, 8584900, 8590761, 8596624, 8602489, 8608356, 8614225, 8620096, 8625969, 8631844, 8637721, 8643600, 8649481, 8655364, 8661249, 8667136, 8673025, 8678916, 8684809, 8690704, 8696601, 8702500, 8708401, 8714304, 8720209, 8726116, 8732025, 8737936, 8743849, 8749764, 8755681, 8761600, 8767521, 8773444, 8779369, 8785296, 8791225, 8797156, 8803089, 8809024, 8814961, 8820900, 8826841, 8832784, 8838729, 8844676, 8850625, 8856576, 8862529, 8868484, 8874441, 8880400, 8886361, 8892324, 8898289, 8904256, 8910225, 8916196, 8922169, 8928144, 8934121, 8940100, 8946081, 8952064, 8958049, 8964036, 8970025, 8976016, 8982009, 8988004, 8994001, 9000000, 9006001, 9012004, 9018009, 9024016, 9030025, 9036036, 9042049, 9048064, 9054081, 9060100, 9066121, 9072144, 9078169, 9084196, 9090225, 9096256, 9102289, 9108324, 9114361, 9120400, 9126441, 9132484, 9138529, 9144576, 9150625, 9156676, 9162729, 9168784, 9174841, 9180900, 9186961, 9193024, 9199089, 9205156, 9211225, 9217296, 9223369, 9229444, 9235521, 9241600, 9247681, 9253764, 9259849, 9265936, 9272025, 9278116, 9284209, 9290304, 9296401, 9302500, 9308601, 9314704, 9320809, 9326916, 9333025, 9339136, 9345249, 9351364, 9357481, 9363600, 9369721, 9375844, 9381969, 9388096, 9394225, 9400356, 9406489, 9412624, 9418761, 9424900, 9431041, 9437184, 9443329, 9449476, 9455625, 9461776, 9467929, 9474084, 9480241, 9486400, 9492561, 9498724, 9504889, 9511056, 9517225, 9523396, 9529569, 9535744, 9541921, 9548100, 9554281, 9560464, 9566649, 9572836, 9579025, 9585216, 9591409, 9597604, 9603801, 9610000, 9616201, 9622404, 9628609, 9634816, 9641025, 9647236, 9653449, 9659664, 9665881, 9672100, 9678321, 9684544, 9690769, 9696996, 9703225, 9709456, 9715689, 9721924, 9728161, 9734400, 9740641, 9746884, 9753129, 9759376, 9765625, 9771876, 9778129, 9784384, 9790641, 9796900, 9803161, 9809424, 9815689, 9821956, 9828225, 9834496, 9840769, 9847044, 9853321, 9859600, 9865881, 9872164, 9878449, 9884736, 9891025, 9897316, 9903609, 9909904, 9916201, 9922500, 9928801, 9935104, 9941409, 9947716, 9954025, 9960336, 9966649, 9972964, 9979281, 9985600, 9991921, 9998244, 10004569, 10010896, 10017225, 10023556, 10029889, 10036224, 10042561, 10048900, 10055241, 10061584, 10067929, 10074276, 10080625, 10086976, 10093329, 10099684, 10106041, 10112400, 10118761, 10125124, 10131489, 10137856, 10144225, 10150596, 10156969, 10163344, 10169721, 10176100, 10182481, 10188864, 10195249, 10201636, 10208025, 10214416, 10220809, 10227204, 10233601, 10240000, 10246401, 10252804, 10259209, 10265616, 10272025, 10278436, 10284849, 10291264, 10297681, 10304100, 10310521, 10316944, 10323369, 10329796, 10336225, 10342656, 10349089, 10355524, 10361961, 10368400, 10374841, 10381284, 10387729, 10394176, 10400625, 10407076, 10413529, 10419984, 10426441, 10432900, 10439361, 10445824, 10452289, 10458756, 10465225, 10471696, 10478169, 10484644, 10491121, 10497600, 10504081, 10510564, 10517049, 10523536, 10530025, 10536516, 10543009, 10549504, 10556001, 10562500, 10569001, 10575504, 10582009, 10588516, 10595025, 10601536, 10608049, 10614564, 10621081, 10627600, 10634121, 10640644, 10647169, 10653696, 10660225, 10666756, 10673289, 10679824, 10686361, 10692900, 10699441, 10705984, 10712529, 10719076, 10725625, 10732176, 10738729, 10745284, 10751841, 10758400, 10764961, 10771524, 10778089, 10784656, 10791225, 10797796, 10804369, 10810944, 10817521, 10824100, 10830681, 10837264, 10843849, 10850436, 10857025, 10863616, 10870209, 10876804, 10883401, 10890000, 10896601, 10903204, 10909809, 10916416, 10923025, 10929636, 10936249, 10942864, 10949481, 10956100, 10962721, 10969344, 10975969, 10982596, 10989225, 10995856, 11002489, 11009124, 11015761, 11022400, 11029041, 11035684, 11042329, 11048976, 11055625, 11062276, 11068929, 11075584, 11082241, 11088900, 11095561, 11102224, 11108889, 11115556, 11122225, 11128896, 11135569, 11142244, 11148921, 11155600, 11162281, 11168964, 11175649, 11182336, 11189025, 11195716, 11202409, 11209104, 11215801, 11222500, 11229201, 11235904, 11242609, 11249316, 11256025, 11262736, 11269449, 11276164, 11282881, 11289600, 11296321, 11303044, 11309769, 11316496, 11323225, 11329956, 11336689, 11343424, 11350161, 11356900, 11363641, 11370384, 11377129, 11383876, 11390625, 11397376, 11404129, 11410884, 11417641, 11424400, 11431161, 11437924, 11444689, 11451456, 11458225, 11464996, 11471769, 11478544, 11485321, 11492100, 11498881, 11505664, 11512449, 11519236, 11526025, 11532816, 11539609, 11546404, 11553201, 11560000, 11566801, 11573604, 11580409, 11587216, 11594025, 11600836, 11607649, 11614464, 11621281, 11628100, 11634921, 11641744, 11648569, 11655396, 11662225, 11669056, 11675889, 11682724, 11689561, 11696400, 11703241, 11710084, 11716929, 11723776, 11730625, 11737476, 11744329, 11751184, 11758041, 11764900, 11771761, 11778624, 11785489, 11792356, 11799225, 11806096, 11812969, 11819844, 11826721, 11833600, 11840481, 11847364, 11854249, 11861136, 11868025, 11874916, 11881809, 11888704, 11895601, 11902500, 11909401, 11916304, 11923209, 11930116, 11937025, 11943936, 11950849, 11957764, 11964681, 11971600, 11978521, 11985444, 11992369, 11999296, 12006225, 12013156, 12020089, 12027024, 12033961, 12040900, 12047841, 12054784, 12061729, 12068676, 12075625, 12082576, 12089529, 12096484, 12103441, 12110400, 12117361, 12124324, 12131289, 12138256, 12145225, 12152196, 12159169, 12166144, 12173121, 12180100, 12187081, 12194064, 12201049, 12208036, 12215025, 12222016, 12229009, 12236004, 12243001, 12250000, 12257001, 12264004, 12271009, 12278016, 12285025, 12292036, 12299049, 12306064, 12313081, 12320100, 12327121, 12334144, 12341169, 12348196, 12355225, 12362256, 12369289, 12376324, 12383361, 12390400, 12397441, 12404484, 12411529, 12418576, 12425625, 12432676, 12439729, 12446784, 12453841, 12460900, 12467961, 12475024, 12482089, 12489156, 12496225, 12503296, 12510369, 12517444, 12524521, 12531600, 12538681, 12545764, 12552849, 12559936, 12567025, 12574116, 12581209, 12588304, 12595401, 12602500, 12609601, 12616704, 12623809, 12630916, 12638025, 12645136, 12652249, 12659364, 12666481, 12673600, 12680721, 12687844, 12694969, 12702096, 12709225, 12716356, 12723489, 12730624, 12737761, 12744900, 12752041, 12759184, 12766329, 12773476, 12780625, 12787776, 12794929, 12802084, 12809241, 12816400, 12823561, 12830724, 12837889, 12845056, 12852225, 12859396, 12866569, 12873744, 12880921, 12888100, 12895281, 12902464, 12909649, 12916836, 12924025, 12931216, 12938409, 12945604, 12952801, 12960000, 12967201, 12974404, 12981609, 12988816, 12996025, 13003236, 13010449, 13017664, 13024881, 13032100, 13039321, 13046544, 13053769, 13060996, 13068225, 13075456, 13082689, 13089924, 13097161, 13104400, 13111641, 13118884, 13126129, 13133376, 13140625, 13147876, 13155129, 13162384, 13169641, 13176900, 13184161, 13191424, 13198689, 13205956, 13213225, 13220496, 13227769, 13235044, 13242321, 13249600, 13256881, 13264164, 13271449, 13278736, 13286025, 13293316, 13300609, 13307904, 13315201, 13322500, 13329801, 13337104, 13344409, 13351716, 13359025, 13366336, 13373649, 13380964, 13388281, 13395600, 13402921, 13410244, 13417569, 13424896, 13432225, 13439556, 13446889, 13454224, 13461561, 13468900, 13476241, 13483584, 13490929, 13498276, 13505625, 13512976, 13520329, 13527684, 13535041, 13542400, 13549761, 13557124, 13564489, 13571856, 13579225, 13586596, 13593969, 13601344, 13608721, 13616100, 13623481, 13630864, 13638249, 13645636, 13653025, 13660416, 13667809, 13675204, 13682601, 13690000, 13697401, 13704804, 13712209, 13719616, 13727025, 13734436, 13741849, 13749264, 13756681, 13764100, 13771521, 13778944, 13786369, 13793796, 13801225, 13808656, 13816089, 13823524, 13830961, 13838400, 13845841, 13853284, 13860729, 13868176, 13875625, 13883076, 13890529, 13897984, 13905441, 13912900, 13920361, 13927824, 13935289, 13942756, 13950225, 13957696, 13965169, 13972644, 13980121, 13987600, 13995081, 14002564, 14010049, 14017536, 14025025, 14032516, 14040009, 14047504, 14055001, 14062500, 14070001, 14077504, 14085009, 14092516, 14100025, 14107536, 14115049, 14122564, 14130081, 14137600, 14145121, 14152644, 14160169, 14167696, 14175225, 14182756, 14190289, 14197824, 14205361, 14212900, 14220441, 14227984, 14235529, 14243076, 14250625, 14258176, 14265729, 14273284, 14280841, 14288400, 14295961, 14303524, 14311089, 14318656, 14326225, 14333796, 14341369, 14348944, 14356521, 14364100, 14371681, 14379264, 14386849, 14394436, 14402025, 14409616, 14417209, 14424804, 14432401, 14440000, 14447601, 14455204, 14462809, 14470416, 14478025, 14485636, 14493249, 14500864, 14508481, 14516100, 14523721, 14531344, 14538969, 14546596, 14554225, 14561856, 14569489, 14577124, 14584761, 14592400, 14600041, 14607684, 14615329, 14622976, 14630625, 14638276, 14645929, 14653584, 14661241, 14668900, 14676561, 14684224, 14691889, 14699556, 14707225, 14714896, 14722569, 14730244, 14737921, 14745600, 14753281, 14760964, 14768649, 14776336, 14784025, 14791716, 14799409, 14807104, 14814801, 14822500, 14830201, 14837904, 14845609, 14853316, 14861025, 14868736, 14876449, 14884164, 14891881, 14899600, 14907321, 14915044, 14922769, 14930496, 14938225, 14945956, 14953689, 14961424, 14969161, 14976900, 14984641, 14992384, 15000129, 15007876, 15015625, 15023376, 15031129, 15038884, 15046641, 15054400, 15062161, 15069924, 15077689, 15085456, 15093225, 15100996, 15108769, 15116544, 15124321, 15132100, 15139881, 15147664, 15155449, 15163236, 15171025, 15178816, 15186609, 15194404, 15202201, 15210000, 15217801, 15225604, 15233409, 15241216, 15249025, 15256836, 15264649, 15272464, 15280281, 15288100, 15295921, 15303744, 15311569, 15319396, 15327225, 15335056, 15342889, 15350724, 15358561, 15366400, 15374241, 15382084, 15389929, 15397776, 15405625, 15413476, 15421329, 15429184, 15437041, 15444900, 15452761, 15460624, 15468489, 15476356, 15484225, 15492096, 15499969, 15507844, 15515721, 15523600, 15531481, 15539364, 15547249, 15555136, 15563025, 15570916, 15578809, 15586704, 15594601, 15602500, 15610401, 15618304, 15626209, 15634116, 15642025, 15649936, 15657849, 15665764, 15673681, 15681600, 15689521, 15697444, 15705369, 15713296, 15721225, 15729156, 15737089, 15745024, 15752961, 15760900, 15768841, 15776784, 15784729, 15792676, 15800625, 15808576, 15816529, 15824484, 15832441, 15840400, 15848361, 15856324, 15864289, 15872256, 15880225, 15888196, 15896169, 15904144, 15912121, 15920100, 15928081, 15936064, 15944049, 15952036, 15960025, 15968016, 15976009, 15984004, 15992001, 16000000, 16008001, 16016004, 16024009, 16032016, 16040025, 16048036, 16056049, 16064064, 16072081, 16080100, 16088121, 16096144, 16104169, 16112196, 16120225, 16128256, 16136289, 16144324, 16152361, 16160400, 16168441, 16176484, 16184529, 16192576, 16200625, 16208676, 16216729, 16224784, 16232841, 16240900, 16248961, 16257024, 16265089, 16273156, 16281225, 16289296, 16297369, 16305444, 16313521, 16321600, 16329681, 16337764, 16345849, 16353936, 16362025, 16370116, 16378209, 16386304, 16394401, 16402500, 16410601, 16418704, 16426809, 16434916, 16443025, 16451136, 16459249, 16467364, 16475481, 16483600, 16491721, 16499844, 16507969, 16516096, 16524225, 16532356, 16540489, 16548624, 16556761, 16564900, 16573041, 16581184, 16589329, 16597476, 16605625, 16613776, 16621929, 16630084, 16638241, 16646400, 16654561, 16662724, 16670889, 16679056, 16687225, 16695396, 16703569, 16711744, 16719921, 16728100, 16736281, 16744464, 16752649, 16760836, 16769025, 16777216, 16785409, 16793604, 16801801, 16810000, 16818201, 16826404, 16834609, 16842816, 16851025, 16859236, 16867449, 16875664, 16883881, 16892100, 16900321, 16908544, 16916769, 16924996, 16933225, 16941456, 16949689, 16957924, 16966161, 16974400, 16982641, 16990884, 16999129, 17007376, 17015625, 17023876, 17032129, 17040384, 17048641, 17056900, 17065161, 17073424, 17081689, 17089956, 17098225, 17106496, 17114769, 17123044, 17131321, 17139600, 17147881, 17156164, 17164449, 17172736, 17181025, 17189316, 17197609, 17205904, 17214201, 17222500, 17230801, 17239104, 17247409, 17255716, 17264025, 17272336, 17280649, 17288964, 17297281, 17305600, 17313921, 17322244, 17330569, 17338896, 17347225, 17355556, 17363889, 17372224, 17380561, 17388900, 17397241, 17405584, 17413929, 17422276, 17430625, 17438976, 17447329, 17455684, 17464041, 17472400, 17480761, 17489124, 17497489, 17505856, 17514225, 17522596, 17530969, 17539344, 17547721, 17556100, 17564481, 17572864, 17581249, 17589636, 17598025, 17606416, 17614809, 17623204, 17631601, 17640000, 17648401, 17656804, 17665209, 17673616, 17682025, 17690436, 17698849, 17707264, 17715681, 17724100, 17732521, 17740944, 17749369, 17757796, 17766225, 17774656, 17783089, 17791524, 17799961, 17808400, 17816841, 17825284, 17833729, 17842176, 17850625, 17859076, 17867529, 17875984, 17884441, 17892900, 17901361, 17909824, 17918289, 17926756, 17935225, 17943696, 17952169, 17960644, 17969121, 17977600, 17986081, 17994564, 18003049, 18011536, 18020025, 18028516, 18037009, 18045504, 18054001, 18062500, 18071001, 18079504, 18088009, 18096516, 18105025, 18113536, 18122049, 18130564, 18139081, 18147600, 18156121, 18164644, 18173169, 18181696, 18190225, 18198756, 18207289, 18215824, 18224361, 18232900, 18241441, 18249984, 18258529, 18267076, 18275625, 18284176, 18292729, 18301284, 18309841, 18318400, 18326961, 18335524, 18344089, 18352656, 18361225, 18369796, 18378369, 18386944, 18395521, 18404100, 18412681, 18421264, 18429849, 18438436, 18447025, 18455616, 18464209, 18472804, 18481401, 18490000, 18498601, 18507204, 18515809, 18524416, 18533025, 18541636, 18550249, 18558864, 18567481, 18576100, 18584721, 18593344, 18601969, 18610596, 18619225, 18627856, 18636489, 18645124, 18653761, 18662400, 18671041, 18679684, 18688329, 18696976, 18705625, 18714276, 18722929, 18731584, 18740241, 18748900, 18757561, 18766224, 18774889, 18783556, 18792225, 18800896, 18809569, 18818244, 18826921, 18835600, 18844281, 18852964, 18861649, 18870336, 18879025, 18887716, 18896409, 18905104, 18913801, 18922500, 18931201, 18939904, 18948609, 18957316, 18966025, 18974736, 18983449, 18992164, 19000881, 19009600, 19018321, 19027044, 19035769, 19044496, 19053225, 19061956, 19070689, 19079424, 19088161, 19096900, 19105641, 19114384, 19123129, 19131876, 19140625, 19149376, 19158129, 19166884, 19175641, 19184400, 19193161, 19201924, 19210689, 19219456, 19228225, 19236996, 19245769, 19254544, 19263321, 19272100, 19280881, 19289664, 19298449, 19307236, 19316025, 19324816, 19333609, 19342404, 19351201, 19360000, 19368801, 19377604, 19386409, 19395216, 19404025, 19412836, 19421649, 19430464, 19439281, 19448100, 19456921, 19465744, 19474569, 19483396, 19492225, 19501056, 19509889, 19518724, 19527561, 19536400, 19545241, 19554084, 19562929, 19571776, 19580625, 19589476, 19598329, 19607184, 19616041, 19624900, 19633761, 19642624, 19651489, 19660356, 19669225, 19678096, 19686969, 19695844, 19704721, 19713600, 19722481, 19731364, 19740249, 19749136, 19758025, 19766916, 19775809, 19784704, 19793601, 19802500, 19811401, 19820304, 19829209, 19838116, 19847025, 19855936, 19864849, 19873764, 19882681, 19891600, 19900521, 19909444, 19918369, 19927296, 19936225, 19945156, 19954089, 19963024, 19971961, 19980900, 19989841, 19998784, 20007729, 20016676, 20025625, 20034576, 20043529, 20052484, 20061441, 20070400, 20079361, 20088324, 20097289, 20106256, 20115225, 20124196, 20133169, 20142144, 20151121, 20160100, 20169081, 20178064, 20187049, 20196036, 20205025, 20214016, 20223009, 20232004, 20241001, 20250000, 20259001, 20268004, 20277009, 20286016, 20295025, 20304036, 20313049, 20322064, 20331081, 20340100, 20349121, 20358144, 20367169, 20376196, 20385225, 20394256, 20403289, 20412324, 20421361, 20430400, 20439441, 20448484, 20457529, 20466576, 20475625, 20484676, 20493729, 20502784, 20511841, 20520900, 20529961, 20539024, 20548089, 20557156, 20566225, 20575296, 20584369, 20593444, 20602521, 20611600, 20620681, 20629764, 20638849, 20647936, 20657025, 20666116, 20675209, 20684304, 20693401, 20702500, 20711601, 20720704, 20729809, 20738916, 20748025, 20757136, 20766249, 20775364, 20784481, 20793600, 20802721, 20811844, 20820969, 20830096, 20839225, 20848356, 20857489, 20866624, 20875761, 20884900, 20894041, 20903184, 20912329, 20921476, 20930625, 20939776, 20948929, 20958084, 20967241, 20976400, 20985561, 20994724, 21003889, 21013056, 21022225, 21031396, 21040569, 21049744, 21058921, 21068100, 21077281, 21086464, 21095649, 21104836, 21114025, 21123216, 21132409, 21141604, 21150801, 21160000, 21169201, 21178404, 21187609, 21196816, 21206025, 21215236, 21224449, 21233664, 21242881, 21252100, 21261321, 21270544, 21279769, 21288996, 21298225, 21307456, 21316689, 21325924, 21335161, 21344400, 21353641, 21362884, 21372129, 21381376, 21390625, 21399876, 21409129, 21418384, 21427641, 21436900, 21446161, 21455424, 21464689, 21473956, 21483225, 21492496, 21501769, 21511044, 21520321, 21529600, 21538881, 21548164, 21557449, 21566736, 21576025, 21585316, 21594609, 21603904, 21613201, 21622500, 21631801, 21641104, 21650409, 21659716, 21669025, 21678336, 21687649, 21696964, 21706281, 21715600, 21724921, 21734244, 21743569, 21752896, 21762225, 21771556, 21780889, 21790224, 21799561, 21808900, 21818241, 21827584, 21836929, 21846276, 21855625, 21864976, 21874329, 21883684, 21893041, 21902400, 21911761, 21921124, 21930489, 21939856, 21949225, 21958596, 21967969, 21977344, 21986721, 21996100, 22005481, 22014864, 22024249, 22033636, 22043025, 22052416, 22061809, 22071204, 22080601, 22090000, 22099401, 22108804, 22118209, 22127616, 22137025, 22146436, 22155849, 22165264, 22174681, 22184100, 22193521, 22202944, 22212369, 22221796, 22231225, 22240656, 22250089, 22259524, 22268961, 22278400, 22287841, 22297284, 22306729, 22316176, 22325625, 22335076, 22344529, 22353984, 22363441, 22372900, 22382361, 22391824, 22401289, 22410756, 22420225, 22429696, 22439169, 22448644, 22458121, 22467600, 22477081, 22486564, 22496049, 22505536, 22515025, 22524516, 22534009, 22543504, 22553001, 22562500, 22572001, 22581504, 22591009, 22600516, 22610025, 22619536, 22629049, 22638564, 22648081, 22657600, 22667121, 22676644, 22686169, 22695696, 22705225, 22714756, 22724289, 22733824, 22743361, 22752900, 22762441, 22771984, 22781529, 22791076, 22800625, 22810176, 22819729, 22829284, 22838841, 22848400, 22857961, 22867524, 22877089, 22886656, 22896225, 22905796, 22915369, 22924944, 22934521, 22944100, 22953681, 22963264, 22972849, 22982436, 22992025, 23001616, 23011209, 23020804, 23030401, 23040000, 23049601, 23059204, 23068809, 23078416, 23088025, 23097636, 23107249, 23116864, 23126481, 23136100, 23145721, 23155344, 23164969, 23174596, 23184225, 23193856, 23203489, 23213124, 23222761, 23232400, 23242041, 23251684, 23261329, 23270976, 23280625, 23290276, 23299929, 23309584, 23319241, 23328900, 23338561, 23348224, 23357889, 23367556, 23377225, 23386896, 23396569, 23406244, 23415921, 23425600, 23435281, 23444964, 23454649, 23464336, 23474025, 23483716, 23493409, 23503104, 23512801, 23522500, 23532201, 23541904, 23551609, 23561316, 23571025, 23580736, 23590449, 23600164, 23609881, 23619600, 23629321, 23639044, 23648769, 23658496, 23668225, 23677956, 23687689, 23697424, 23707161, 23716900, 23726641, 23736384, 23746129, 23755876, 23765625, 23775376, 23785129, 23794884, 23804641, 23814400, 23824161, 23833924, 23843689, 23853456, 23863225, 23872996, 23882769, 23892544, 23902321, 23912100, 23921881, 23931664, 23941449, 23951236, 23961025, 23970816, 23980609, 23990404, 24000201, 24010000, 24019801, 24029604, 24039409, 24049216, 24059025, 24068836, 24078649, 24088464, 24098281, 24108100, 24117921, 24127744, 24137569, 24147396, 24157225, 24167056, 24176889, 24186724, 24196561, 24206400, 24216241, 24226084, 24235929, 24245776, 24255625, 24265476, 24275329, 24285184, 24295041, 24304900, 24314761, 24324624, 24334489, 24344356, 24354225, 24364096, 24373969, 24383844, 24393721, 24403600, 24413481, 24423364, 24433249, 24443136, 24453025, 24462916, 24472809, 24482704, 24492601, 24502500, 24512401, 24522304, 24532209, 24542116, 24552025, 24561936, 24571849, 24581764, 24591681, 24601600, 24611521, 24621444, 24631369, 24641296, 24651225, 24661156, 24671089, 24681024, 24690961, 24700900, 24710841, 24720784, 24730729, 24740676, 24750625, 24760576, 24770529, 24780484, 24790441, 24800400, 24810361, 24820324, 24830289, 24840256, 24850225, 24860196, 24870169, 24880144, 24890121, 24900100, 24910081, 24920064, 24930049, 24940036, 24950025, 24960016, 24970009, 24980004, 24990001, 25000000, 25010001, 25020004, 25030009, 25040016, 25050025, 25060036, 25070049, 25080064, 25090081, 25100100, 25110121, 25120144, 25130169, 25140196, 25150225, 25160256, 25170289, 25180324, 25190361, 25200400, 25210441, 25220484, 25230529, 25240576, 25250625, 25260676, 25270729, 25280784, 25290841, 25300900, 25310961, 25321024, 25331089, 25341156, 25351225, 25361296, 25371369, 25381444, 25391521, 25401600, 25411681, 25421764, 25431849, 25441936, 25452025, 25462116, 25472209, 25482304, 25492401, 25502500, 25512601, 25522704, 25532809, 25542916, 25553025, 25563136, 25573249, 25583364, 25593481, 25603600, 25613721, 25623844, 25633969, 25644096, 25654225, 25664356, 25674489, 25684624, 25694761, 25704900, 25715041, 25725184, 25735329, 25745476, 25755625, 25765776, 25775929, 25786084, 25796241, 25806400, 25816561, 25826724, 25836889, 25847056, 25857225, 25867396, 25877569, 25887744, 25897921, 25908100, 25918281, 25928464, 25938649, 25948836, 25959025, 25969216, 25979409, 25989604, 25999801, 26010000, 26020201, 26030404, 26040609, 26050816, 26061025, 26071236, 26081449, 26091664, 26101881, 26112100, 26122321, 26132544, 26142769, 26152996, 26163225, 26173456, 26183689, 26193924, 26204161, 26214400, 26224641, 26234884, 26245129, 26255376, 26265625, 26275876, 26286129, 26296384, 26306641, 26316900, 26327161, 26337424, 26347689, 26357956, 26368225, 26378496, 26388769, 26399044, 26409321, 26419600, 26429881, 26440164, 26450449, 26460736, 26471025, 26481316, 26491609, 26501904, 26512201, 26522500, 26532801, 26543104, 26553409, 26563716, 26574025, 26584336, 26594649, 26604964, 26615281, 26625600, 26635921, 26646244, 26656569, 26666896, 26677225, 26687556, 26697889, 26708224, 26718561, 26728900, 26739241, 26749584, 26759929, 26770276, 26780625, 26790976, 26801329, 26811684, 26822041, 26832400, 26842761, 26853124, 26863489, 26873856, 26884225, 26894596, 26904969, 26915344, 26925721, 26936100, 26946481, 26956864, 26967249, 26977636, 26988025, 26998416, 27008809, 27019204, 27029601, 27040000, 27050401, 27060804, 27071209, 27081616, 27092025, 27102436, 27112849, 27123264, 27133681, 27144100, 27154521, 27164944, 27175369, 27185796, 27196225, 27206656, 27217089, 27227524, 27237961, 27248400, 27258841, 27269284, 27279729, 27290176, 27300625, 27311076, 27321529, 27331984, 27342441, 27352900, 27363361, 27373824, 27384289, 27394756, 27405225, 27415696, 27426169, 27436644, 27447121, 27457600, 27468081, 27478564, 27489049, 27499536, 27510025, 27520516, 27531009, 27541504, 27552001, 27562500, 27573001, 27583504, 27594009, 27604516, 27615025, 27625536, 27636049, 27646564, 27657081, 27667600, 27678121, 27688644, 27699169, 27709696, 27720225, 27730756, 27741289, 27751824, 27762361, 27772900, 27783441, 27793984, 27804529, 27815076, 27825625, 27836176, 27846729, 27857284, 27867841, 27878400, 27888961, 27899524, 27910089, 27920656, 27931225, 27941796, 27952369, 27962944, 27973521, 27984100, 27994681, 28005264, 28015849, 28026436, 28037025, 28047616, 28058209, 28068804, 28079401, 28090000, 28100601, 28111204, 28121809, 28132416, 28143025, 28153636, 28164249, 28174864, 28185481, 28196100, 28206721, 28217344, 28227969, 28238596, 28249225, 28259856, 28270489, 28281124, 28291761, 28302400, 28313041, 28323684, 28334329, 28344976, 28355625, 28366276, 28376929, 28387584, 28398241, 28408900, 28419561, 28430224, 28440889, 28451556, 28462225, 28472896, 28483569, 28494244, 28504921, 28515600, 28526281, 28536964, 28547649, 28558336, 28569025, 28579716, 28590409, 28601104, 28611801, 28622500, 28633201, 28643904, 28654609, 28665316, 28676025, 28686736, 28697449, 28708164, 28718881, 28729600, 28740321, 28751044, 28761769, 28772496, 28783225, 28793956, 28804689, 28815424, 28826161, 28836900, 28847641, 28858384, 28869129, 28879876, 28890625, 28901376, 28912129, 28922884, 28933641, 28944400, 28955161, 28965924, 28976689, 28987456, 28998225, 29008996, 29019769, 29030544, 29041321, 29052100, 29062881, 29073664, 29084449, 29095236, 29106025, 29116816, 29127609, 29138404, 29149201, 29160000, 29170801, 29181604, 29192409, 29203216, 29214025, 29224836, 29235649, 29246464, 29257281, 29268100, 29278921, 29289744, 29300569, 29311396, 29322225, 29333056, 29343889, 29354724, 29365561, 29376400, 29387241, 29398084, 29408929, 29419776, 29430625, 29441476, 29452329, 29463184, 29474041, 29484900, 29495761, 29506624, 29517489, 29528356, 29539225, 29550096, 29560969, 29571844, 29582721, 29593600, 29604481, 29615364, 29626249, 29637136, 29648025, 29658916, 29669809, 29680704, 29691601, 29702500, 29713401, 29724304, 29735209, 29746116, 29757025, 29767936, 29778849, 29789764, 29800681, 29811600, 29822521, 29833444, 29844369, 29855296, 29866225, 29877156, 29888089, 29899024, 29909961, 29920900, 29931841, 29942784, 29953729, 29964676, 29975625, 29986576, 29997529, 30008484, 30019441, 30030400, 30041361, 30052324, 30063289, 30074256, 30085225, 30096196, 30107169, 30118144, 30129121, 30140100, 30151081, 30162064, 30173049, 30184036, 30195025, 30206016, 30217009, 30228004, 30239001, 30250000, 30261001, 30272004, 30283009, 30294016, 30305025, 30316036, 30327049, 30338064, 30349081, 30360100, 30371121, 30382144, 30393169, 30404196, 30415225, 30426256, 30437289, 30448324, 30459361, 30470400, 30481441, 30492484, 30503529, 30514576, 30525625, 30536676, 30547729, 30558784, 30569841, 30580900, 30591961, 30603024, 30614089, 30625156, 30636225, 30647296, 30658369, 30669444, 30680521, 30691600, 30702681, 30713764, 30724849, 30735936, 30747025, 30758116, 30769209, 30780304, 30791401, 30802500, 30813601, 30824704, 30835809, 30846916, 30858025, 30869136, 30880249, 30891364, 30902481, 30913600, 30924721, 30935844, 30946969, 30958096, 30969225, 30980356, 30991489, 31002624, 31013761, 31024900, 31036041, 31047184, 31058329, 31069476, 31080625, 31091776, 31102929, 31114084, 31125241, 31136400, 31147561, 31158724, 31169889, 31181056, 31192225, 31203396, 31214569, 31225744, 31236921, 31248100, 31259281, 31270464, 31281649, 31292836, 31304025, 31315216, 31326409, 31337604, 31348801, 31360000, 31371201, 31382404, 31393609, 31404816, 31416025, 31427236, 31438449, 31449664, 31460881, 31472100, 31483321, 31494544, 31505769, 31516996, 31528225, 31539456, 31550689, 31561924, 31573161, 31584400, 31595641, 31606884, 31618129, 31629376, 31640625, 31651876, 31663129, 31674384, 31685641, 31696900, 31708161, 31719424, 31730689, 31741956, 31753225, 31764496, 31775769, 31787044, 31798321, 31809600, 31820881, 31832164, 31843449, 31854736, 31866025, 31877316, 31888609, 31899904, 31911201, 31922500, 31933801, 31945104, 31956409, 31967716, 31979025, 31990336, 32001649, 32012964, 32024281, 32035600, 32046921, 32058244, 32069569, 32080896, 32092225, 32103556, 32114889, 32126224, 32137561, 32148900, 32160241, 32171584, 32182929, 32194276, 32205625, 32216976, 32228329, 32239684, 32251041, 32262400, 32273761, 32285124, 32296489, 32307856, 32319225, 32330596, 32341969, 32353344, 32364721, 32376100, 32387481, 32398864, 32410249, 32421636, 32433025, 32444416, 32455809, 32467204, 32478601, 32490000, 32501401, 32512804, 32524209, 32535616, 32547025, 32558436, 32569849, 32581264, 32592681, 32604100, 32615521, 32626944, 32638369, 32649796, 32661225, 32672656, 32684089, 32695524, 32706961, 32718400, 32729841, 32741284, 32752729, 32764176, 32775625, 32787076, 32798529, 32809984, 32821441, 32832900, 32844361, 32855824, 32867289, 32878756, 32890225, 32901696, 32913169, 32924644, 32936121, 32947600, 32959081, 32970564, 32982049, 32993536, 33005025, 33016516, 33028009, 33039504, 33051001, 33062500, 33074001, 33085504, 33097009, 33108516, 33120025, 33131536, 33143049, 33154564, 33166081, 33177600, 33189121, 33200644, 33212169, 33223696, 33235225, 33246756, 33258289, 33269824, 33281361, 33292900, 33304441, 33315984, 33327529, 33339076, 33350625, 33362176, 33373729, 33385284, 33396841, 33408400, 33419961, 33431524, 33443089, 33454656, 33466225, 33477796, 33489369, 33500944, 33512521, 33524100, 33535681, 33547264, 33558849, 33570436, 33582025, 33593616, 33605209, 33616804, 33628401, 33640000, 33651601, 33663204, 33674809, 33686416, 33698025, 33709636, 33721249, 33732864, 33744481, 33756100, 33767721, 33779344, 33790969, 33802596, 33814225, 33825856, 33837489, 33849124, 33860761, 33872400, 33884041, 33895684, 33907329, 33918976, 33930625, 33942276, 33953929, 33965584, 33977241, 33988900, 34000561, 34012224, 34023889, 34035556, 34047225, 34058896, 34070569, 34082244, 34093921, 34105600, 34117281, 34128964, 34140649, 34152336, 34164025, 34175716, 34187409, 34199104, 34210801, 34222500, 34234201, 34245904, 34257609, 34269316, 34281025, 34292736, 34304449, 34316164, 34327881, 34339600, 34351321, 34363044, 34374769, 34386496, 34398225, 34409956, 34421689, 34433424, 34445161, 34456900, 34468641, 34480384, 34492129, 34503876, 34515625, 34527376, 34539129, 34550884, 34562641, 34574400, 34586161, 34597924, 34609689, 34621456, 34633225, 34644996, 34656769, 34668544, 34680321, 34692100, 34703881, 34715664, 34727449, 34739236, 34751025, 34762816, 34774609, 34786404, 34798201, 34810000, 34821801, 34833604, 34845409, 34857216, 34869025, 34880836, 34892649, 34904464, 34916281, 34928100, 34939921, 34951744, 34963569, 34975396, 34987225, 34999056, 35010889, 35022724, 35034561, 35046400, 35058241, 35070084, 35081929, 35093776, 35105625, 35117476, 35129329, 35141184, 35153041, 35164900, 35176761, 35188624, 35200489, 35212356, 35224225, 35236096, 35247969, 35259844, 35271721, 35283600, 35295481, 35307364, 35319249, 35331136, 35343025, 35354916, 35366809, 35378704, 35390601, 35402500, 35414401, 35426304, 35438209, 35450116, 35462025, 35473936, 35485849, 35497764, 35509681, 35521600, 35533521, 35545444, 35557369, 35569296, 35581225, 35593156, 35605089, 35617024, 35628961, 35640900, 35652841, 35664784, 35676729, 35688676, 35700625, 35712576, 35724529, 35736484, 35748441, 35760400, 35772361, 35784324, 35796289, 35808256, 35820225, 35832196, 35844169, 35856144, 35868121, 35880100, 35892081, 35904064, 35916049, 35928036, 35940025, 35952016, 35964009, 35976004, 35988001, 36000000, 36012001, 36024004, 36036009, 36048016, 36060025, 36072036, 36084049, 36096064, 36108081, 36120100, 36132121, 36144144, 36156169, 36168196, 36180225, 36192256, 36204289, 36216324, 36228361, 36240400, 36252441, 36264484, 36276529, 36288576, 36300625, 36312676, 36324729, 36336784, 36348841, 36360900, 36372961, 36385024, 36397089, 36409156, 36421225, 36433296, 36445369, 36457444, 36469521, 36481600, 36493681, 36505764, 36517849, 36529936, 36542025, 36554116, 36566209, 36578304, 36590401, 36602500, 36614601, 36626704, 36638809, 36650916, 36663025, 36675136, 36687249, 36699364, 36711481, 36723600, 36735721, 36747844, 36759969, 36772096, 36784225, 36796356, 36808489, 36820624, 36832761, 36844900, 36857041, 36869184, 36881329, 36893476, 36905625, 36917776, 36929929, 36942084, 36954241, 36966400, 36978561, 36990724, 37002889, 37015056, 37027225, 37039396, 37051569, 37063744, 37075921, 37088100, 37100281, 37112464, 37124649, 37136836, 37149025, 37161216, 37173409, 37185604, 37197801, 37210000, 37222201, 37234404, 37246609, 37258816, 37271025, 37283236, 37295449, 37307664, 37319881, 37332100, 37344321, 37356544, 37368769, 37380996, 37393225, 37405456, 37417689, 37429924, 37442161, 37454400, 37466641, 37478884, 37491129, 37503376, 37515625, 37527876, 37540129, 37552384, 37564641, 37576900, 37589161, 37601424, 37613689, 37625956, 37638225, 37650496, 37662769, 37675044, 37687321, 37699600, 37711881, 37724164, 37736449, 37748736, 37761025, 37773316, 37785609, 37797904, 37810201, 37822500, 37834801, 37847104, 37859409, 37871716, 37884025, 37896336, 37908649, 37920964, 37933281, 37945600, 37957921, 37970244, 37982569, 37994896, 38007225, 38019556, 38031889, 38044224, 38056561, 38068900, 38081241, 38093584, 38105929, 38118276, 38130625, 38142976, 38155329, 38167684, 38180041, 38192400, 38204761, 38217124, 38229489, 38241856, 38254225, 38266596, 38278969, 38291344, 38303721, 38316100, 38328481, 38340864, 38353249, 38365636, 38378025, 38390416, 38402809, 38415204, 38427601, 38440000, 38452401, 38464804, 38477209, 38489616, 38502025, 38514436, 38526849, 38539264, 38551681, 38564100, 38576521, 38588944, 38601369, 38613796, 38626225, 38638656, 38651089, 38663524, 38675961, 38688400, 38700841, 38713284, 38725729, 38738176, 38750625, 38763076, 38775529, 38787984, 38800441, 38812900, 38825361, 38837824, 38850289, 38862756, 38875225, 38887696, 38900169, 38912644, 38925121, 38937600, 38950081, 38962564, 38975049, 38987536, 39000025, 39012516, 39025009, 39037504, 39050001, 39062500, 39075001, 39087504, 39100009, 39112516, 39125025, 39137536, 39150049, 39162564, 39175081, 39187600, 39200121, 39212644, 39225169, 39237696, 39250225, 39262756, 39275289, 39287824, 39300361, 39312900, 39325441, 39337984, 39350529, 39363076, 39375625, 39388176, 39400729, 39413284, 39425841, 39438400, 39450961, 39463524, 39476089, 39488656, 39501225, 39513796, 39526369, 39538944, 39551521, 39564100, 39576681, 39589264, 39601849, 39614436, 39627025, 39639616, 39652209, 39664804, 39677401, 39690000, 39702601, 39715204, 39727809, 39740416, 39753025, 39765636, 39778249, 39790864, 39803481, 39816100, 39828721, 39841344, 39853969, 39866596, 39879225, 39891856, 39904489, 39917124, 39929761, 39942400, 39955041, 39967684, 39980329, 39992976, 40005625, 40018276, 40030929, 40043584, 40056241, 40068900, 40081561, 40094224, 40106889, 40119556, 40132225, 40144896, 40157569, 40170244, 40182921, 40195600, 40208281, 40220964, 40233649, 40246336, 40259025, 40271716, 40284409, 40297104, 40309801, 40322500, 40335201, 40347904, 40360609, 40373316, 40386025, 40398736, 40411449, 40424164, 40436881, 40449600, 40462321, 40475044, 40487769, 40500496, 40513225, 40525956, 40538689, 40551424, 40564161, 40576900, 40589641, 40602384, 40615129, 40627876, 40640625, 40653376, 40666129, 40678884, 40691641, 40704400, 40717161, 40729924, 40742689, 40755456, 40768225, 40780996, 40793769, 40806544, 40819321, 40832100, 40844881, 40857664, 40870449, 40883236, 40896025, 40908816, 40921609, 40934404, 40947201, 40960000, 40972801, 40985604, 40998409, 41011216, 41024025, 41036836, 41049649, 41062464, 41075281, 41088100, 41100921, 41113744, 41126569, 41139396, 41152225, 41165056, 41177889, 41190724, 41203561, 41216400, 41229241, 41242084, 41254929, 41267776, 41280625, 41293476, 41306329, 41319184, 41332041, 41344900, 41357761, 41370624, 41383489, 41396356, 41409225, 41422096, 41434969, 41447844, 41460721, 41473600, 41486481, 41499364, 41512249, 41525136, 41538025, 41550916, 41563809, 41576704, 41589601, 41602500, 41615401, 41628304, 41641209, 41654116, 41667025, 41679936, 41692849, 41705764, 41718681, 41731600, 41744521, 41757444, 41770369, 41783296, 41796225, 41809156, 41822089, 41835024, 41847961, 41860900, 41873841, 41886784, 41899729, 41912676, 41925625, 41938576, 41951529, 41964484, 41977441, 41990400, 42003361, 42016324, 42029289, 42042256, 42055225, 42068196, 42081169, 42094144, 42107121, 42120100, 42133081, 42146064, 42159049, 42172036, 42185025, 42198016, 42211009, 42224004, 42237001, 42250000, 42263001, 42276004, 42289009, 42302016, 42315025, 42328036, 42341049, 42354064, 42367081, 42380100, 42393121, 42406144, 42419169, 42432196, 42445225, 42458256, 42471289, 42484324, 42497361, 42510400, 42523441, 42536484, 42549529, 42562576, 42575625, 42588676, 42601729, 42614784, 42627841, 42640900, 42653961, 42667024, 42680089, 42693156, 42706225, 42719296, 42732369, 42745444, 42758521, 42771600, 42784681, 42797764, 42810849, 42823936, 42837025, 42850116, 42863209, 42876304, 42889401, 42902500, 42915601, 42928704, 42941809, 42954916, 42968025, 42981136, 42994249, 43007364, 43020481, 43033600, 43046721, 43059844, 43072969, 43086096, 43099225, 43112356, 43125489, 43138624, 43151761, 43164900, 43178041, 43191184, 43204329, 43217476, 43230625, 43243776, 43256929, 43270084, 43283241, 43296400, 43309561, 43322724, 43335889, 43349056, 43362225, 43375396, 43388569, 43401744, 43414921, 43428100, 43441281, 43454464, 43467649, 43480836, 43494025, 43507216, 43520409, 43533604, 43546801, 43560000, 43573201, 43586404, 43599609, 43612816, 43626025, 43639236, 43652449, 43665664, 43678881, 43692100, 43705321, 43718544, 43731769, 43744996, 43758225, 43771456, 43784689, 43797924, 43811161, 43824400, 43837641, 43850884, 43864129, 43877376, 43890625, 43903876, 43917129, 43930384, 43943641, 43956900, 43970161, 43983424, 43996689, 44009956, 44023225, 44036496, 44049769, 44063044, 44076321, 44089600, 44102881, 44116164, 44129449, 44142736, 44156025, 44169316, 44182609, 44195904, 44209201, 44222500, 44235801, 44249104, 44262409, 44275716, 44289025, 44302336, 44315649, 44328964, 44342281, 44355600, 44368921, 44382244, 44395569, 44408896, 44422225, 44435556, 44448889, 44462224, 44475561, 44488900, 44502241, 44515584, 44528929, 44542276, 44555625, 44568976, 44582329, 44595684, 44609041, 44622400, 44635761, 44649124, 44662489, 44675856, 44689225, 44702596, 44715969, 44729344, 44742721, 44756100, 44769481, 44782864, 44796249, 44809636, 44823025, 44836416, 44849809, 44863204, 44876601, 44890000, 44903401, 44916804, 44930209, 44943616, 44957025, 44970436, 44983849, 44997264, 45010681, 45024100, 45037521, 45050944, 45064369, 45077796, 45091225, 45104656, 45118089, 45131524, 45144961, 45158400, 45171841, 45185284, 45198729, 45212176, 45225625, 45239076, 45252529, 45265984, 45279441, 45292900, 45306361, 45319824, 45333289, 45346756, 45360225, 45373696, 45387169, 45400644, 45414121, 45427600, 45441081, 45454564, 45468049, 45481536, 45495025, 45508516, 45522009, 45535504, 45549001, 45562500, 45576001, 45589504, 45603009, 45616516, 45630025, 45643536, 45657049, 45670564, 45684081, 45697600, 45711121, 45724644, 45738169, 45751696, 45765225, 45778756, 45792289, 45805824, 45819361, 45832900, 45846441, 45859984, 45873529, 45887076, 45900625, 45914176, 45927729, 45941284, 45954841, 45968400, 45981961, 45995524, 46009089, 46022656, 46036225, 46049796, 46063369, 46076944, 46090521, 46104100, 46117681, 46131264, 46144849, 46158436, 46172025, 46185616, 46199209, 46212804, 46226401, 46240000, 46253601, 46267204, 46280809, 46294416, 46308025, 46321636, 46335249, 46348864, 46362481, 46376100, 46389721, 46403344, 46416969, 46430596, 46444225, 46457856, 46471489, 46485124, 46498761, 46512400, 46526041, 46539684, 46553329, 46566976, 46580625, 46594276, 46607929, 46621584, 46635241, 46648900, 46662561, 46676224, 46689889, 46703556, 46717225, 46730896, 46744569, 46758244, 46771921, 46785600, 46799281, 46812964, 46826649, 46840336, 46854025, 46867716, 46881409, 46895104, 46908801, 46922500, 46936201, 46949904, 46963609, 46977316, 46991025, 47004736, 47018449, 47032164, 47045881, 47059600, 47073321, 47087044, 47100769, 47114496, 47128225, 47141956, 47155689, 47169424, 47183161, 47196900, 47210641, 47224384, 47238129, 47251876, 47265625, 47279376, 47293129, 47306884, 47320641, 47334400, 47348161, 47361924, 47375689, 47389456, 47403225, 47416996, 47430769, 47444544, 47458321, 47472100, 47485881, 47499664, 47513449, 47527236, 47541025, 47554816, 47568609, 47582404, 47596201, 47610000, 47623801, 47637604, 47651409, 47665216, 47679025, 47692836, 47706649, 47720464, 47734281, 47748100, 47761921, 47775744, 47789569, 47803396, 47817225, 47831056, 47844889, 47858724, 47872561, 47886400, 47900241, 47914084, 47927929, 47941776, 47955625, 47969476, 47983329, 47997184, 48011041, 48024900, 48038761, 48052624, 48066489, 48080356, 48094225, 48108096, 48121969, 48135844, 48149721, 48163600, 48177481, 48191364, 48205249, 48219136, 48233025, 48246916, 48260809, 48274704, 48288601, 48302500, 48316401, 48330304, 48344209, 48358116, 48372025, 48385936, 48399849, 48413764, 48427681, 48441600, 48455521, 48469444, 48483369, 48497296, 48511225, 48525156, 48539089, 48553024, 48566961, 48580900, 48594841, 48608784, 48622729, 48636676, 48650625, 48664576, 48678529, 48692484, 48706441, 48720400, 48734361, 48748324, 48762289, 48776256, 48790225, 48804196, 48818169, 48832144, 48846121, 48860100, 48874081, 48888064, 48902049, 48916036, 48930025, 48944016, 48958009, 48972004, 48986001, 49000000, 49014001, 49028004, 49042009, 49056016, 49070025, 49084036, 49098049, 49112064, 49126081, 49140100, 49154121, 49168144, 49182169, 49196196, 49210225, 49224256, 49238289, 49252324, 49266361, 49280400, 49294441, 49308484, 49322529, 49336576, 49350625, 49364676, 49378729, 49392784, 49406841, 49420900, 49434961, 49449024, 49463089, 49477156, 49491225, 49505296, 49519369, 49533444, 49547521, 49561600, 49575681, 49589764, 49603849, 49617936, 49632025, 49646116, 49660209, 49674304, 49688401, 49702500, 49716601, 49730704, 49744809, 49758916, 49773025, 49787136, 49801249, 49815364, 49829481, 49843600, 49857721, 49871844, 49885969, 49900096, 49914225, 49928356, 49942489, 49956624, 49970761, 49984900, 49999041, 50013184, 50027329, 50041476, 50055625, 50069776, 50083929, 50098084, 50112241, 50126400, 50140561, 50154724, 50168889, 50183056, 50197225, 50211396, 50225569, 50239744, 50253921, 50268100, 50282281, 50296464, 50310649, 50324836, 50339025, 50353216, 50367409, 50381604, 50395801, 50410000, 50424201, 50438404, 50452609, 50466816, 50481025, 50495236, 50509449, 50523664, 50537881, 50552100, 50566321, 50580544, 50594769, 50608996, 50623225, 50637456, 50651689, 50665924, 50680161, 50694400, 50708641, 50722884, 50737129, 50751376, 50765625, 50779876, 50794129, 50808384, 50822641, 50836900, 50851161, 50865424, 50879689, 50893956, 50908225, 50922496, 50936769, 50951044, 50965321, 50979600, 50993881, 51008164, 51022449, 51036736, 51051025, 51065316, 51079609, 51093904, 51108201, 51122500, 51136801, 51151104, 51165409, 51179716, 51194025, 51208336, 51222649, 51236964, 51251281, 51265600, 51279921, 51294244, 51308569, 51322896, 51337225, 51351556, 51365889, 51380224, 51394561, 51408900, 51423241, 51437584, 51451929, 51466276, 51480625, 51494976, 51509329, 51523684, 51538041, 51552400, 51566761, 51581124, 51595489, 51609856, 51624225, 51638596, 51652969, 51667344, 51681721, 51696100, 51710481, 51724864, 51739249, 51753636, 51768025, 51782416, 51796809, 51811204, 51825601, 51840000, 51854401, 51868804, 51883209, 51897616, 51912025, 51926436, 51940849, 51955264, 51969681, 51984100, 51998521, 52012944, 52027369, 52041796, 52056225, 52070656, 52085089, 52099524, 52113961, 52128400, 52142841, 52157284, 52171729, 52186176, 52200625, 52215076, 52229529, 52243984, 52258441, 52272900, 52287361, 52301824, 52316289, 52330756, 52345225, 52359696, 52374169, 52388644, 52403121, 52417600, 52432081, 52446564, 52461049, 52475536, 52490025, 52504516, 52519009, 52533504, 52548001, 52562500, 52577001, 52591504, 52606009, 52620516, 52635025, 52649536, 52664049, 52678564, 52693081, 52707600, 52722121, 52736644, 52751169, 52765696, 52780225, 52794756, 52809289, 52823824, 52838361, 52852900, 52867441, 52881984, 52896529, 52911076, 52925625, 52940176, 52954729, 52969284, 52983841, 52998400, 53012961, 53027524, 53042089, 53056656, 53071225, 53085796, 53100369, 53114944, 53129521, 53144100, 53158681, 53173264, 53187849, 53202436, 53217025, 53231616, 53246209, 53260804, 53275401, 53290000, 53304601, 53319204, 53333809, 53348416, 53363025, 53377636, 53392249, 53406864, 53421481, 53436100, 53450721, 53465344, 53479969, 53494596, 53509225, 53523856, 53538489, 53553124, 53567761, 53582400, 53597041, 53611684, 53626329, 53640976, 53655625, 53670276, 53684929, 53699584, 53714241, 53728900, 53743561, 53758224, 53772889, 53787556, 53802225, 53816896, 53831569, 53846244, 53860921, 53875600, 53890281, 53904964, 53919649, 53934336, 53949025, 53963716, 53978409, 53993104, 54007801, 54022500, 54037201, 54051904, 54066609, 54081316, 54096025, 54110736, 54125449, 54140164, 54154881, 54169600, 54184321, 54199044, 54213769, 54228496, 54243225, 54257956, 54272689, 54287424, 54302161, 54316900, 54331641, 54346384, 54361129, 54375876, 54390625, 54405376, 54420129, 54434884, 54449641, 54464400, 54479161, 54493924, 54508689, 54523456, 54538225, 54552996, 54567769, 54582544, 54597321, 54612100, 54626881, 54641664, 54656449, 54671236, 54686025, 54700816, 54715609, 54730404, 54745201, 54760000, 54774801, 54789604, 54804409, 54819216, 54834025, 54848836, 54863649, 54878464, 54893281, 54908100, 54922921, 54937744, 54952569, 54967396, 54982225, 54997056, 55011889, 55026724, 55041561, 55056400, 55071241, 55086084, 55100929, 55115776, 55130625, 55145476, 55160329, 55175184, 55190041, 55204900, 55219761, 55234624, 55249489, 55264356, 55279225, 55294096, 55308969, 55323844, 55338721, 55353600, 55368481, 55383364, 55398249, 55413136, 55428025, 55442916, 55457809, 55472704, 55487601, 55502500, 55517401, 55532304, 55547209, 55562116, 55577025, 55591936, 55606849, 55621764, 55636681, 55651600, 55666521, 55681444, 55696369, 55711296, 55726225, 55741156, 55756089, 55771024, 55785961, 55800900, 55815841, 55830784, 55845729, 55860676, 55875625, 55890576, 55905529, 55920484, 55935441, 55950400, 55965361, 55980324, 55995289, 56010256, 56025225, 56040196, 56055169, 56070144, 56085121, 56100100, 56115081, 56130064, 56145049, 56160036, 56175025, 56190016, 56205009, 56220004, 56235001, 56250000, 56265001, 56280004, 56295009, 56310016, 56325025, 56340036, 56355049, 56370064, 56385081, 56400100, 56415121, 56430144, 56445169, 56460196, 56475225, 56490256, 56505289, 56520324, 56535361, 56550400, 56565441, 56580484, 56595529, 56610576, 56625625, 56640676, 56655729, 56670784, 56685841, 56700900, 56715961, 56731024, 56746089, 56761156, 56776225, 56791296, 56806369, 56821444, 56836521, 56851600, 56866681, 56881764, 56896849, 56911936, 56927025, 56942116, 56957209, 56972304, 56987401, 57002500, 57017601, 57032704, 57047809, 57062916, 57078025, 57093136, 57108249, 57123364, 57138481, 57153600, 57168721, 57183844, 57198969, 57214096, 57229225, 57244356, 57259489, 57274624, 57289761, 57304900, 57320041, 57335184, 57350329, 57365476, 57380625, 57395776, 57410929, 57426084, 57441241, 57456400, 57471561, 57486724, 57501889, 57517056, 57532225, 57547396, 57562569, 57577744, 57592921, 57608100, 57623281, 57638464, 57653649, 57668836, 57684025, 57699216, 57714409, 57729604, 57744801, 57760000, 57775201, 57790404, 57805609, 57820816, 57836025, 57851236, 57866449, 57881664, 57896881, 57912100, 57927321, 57942544, 57957769, 57972996, 57988225, 58003456, 58018689, 58033924, 58049161, 58064400, 58079641, 58094884, 58110129, 58125376, 58140625, 58155876, 58171129, 58186384, 58201641, 58216900, 58232161, 58247424, 58262689, 58277956, 58293225, 58308496, 58323769, 58339044, 58354321, 58369600, 58384881, 58400164, 58415449, 58430736, 58446025, 58461316, 58476609, 58491904, 58507201, 58522500, 58537801, 58553104, 58568409, 58583716, 58599025, 58614336, 58629649, 58644964, 58660281, 58675600, 58690921, 58706244, 58721569, 58736896, 58752225, 58767556, 58782889, 58798224, 58813561, 58828900, 58844241, 58859584, 58874929, 58890276, 58905625, 58920976, 58936329, 58951684, 58967041, 58982400, 58997761, 59013124, 59028489, 59043856, 59059225, 59074596, 59089969, 59105344, 59120721, 59136100, 59151481, 59166864, 59182249, 59197636, 59213025, 59228416, 59243809, 59259204, 59274601, 59290000, 59305401, 59320804, 59336209, 59351616, 59367025, 59382436, 59397849, 59413264, 59428681, 59444100, 59459521, 59474944, 59490369, 59505796, 59521225, 59536656, 59552089, 59567524, 59582961, 59598400, 59613841, 59629284, 59644729, 59660176, 59675625, 59691076, 59706529, 59721984, 59737441, 59752900, 59768361, 59783824, 59799289, 59814756, 59830225, 59845696, 59861169, 59876644, 59892121, 59907600, 59923081, 59938564, 59954049, 59969536, 59985025, 60000516, 60016009, 60031504, 60047001, 60062500, 60078001, 60093504, 60109009, 60124516, 60140025, 60155536, 60171049, 60186564, 60202081, 60217600, 60233121, 60248644, 60264169, 60279696, 60295225, 60310756, 60326289, 60341824, 60357361, 60372900, 60388441, 60403984, 60419529, 60435076, 60450625, 60466176, 60481729, 60497284, 60512841, 60528400, 60543961, 60559524, 60575089, 60590656, 60606225, 60621796, 60637369, 60652944, 60668521, 60684100, 60699681, 60715264, 60730849, 60746436, 60762025, 60777616, 60793209, 60808804, 60824401, 60840000, 60855601, 60871204, 60886809, 60902416, 60918025, 60933636, 60949249, 60964864, 60980481, 60996100, 61011721, 61027344, 61042969, 61058596, 61074225, 61089856, 61105489, 61121124, 61136761, 61152400, 61168041, 61183684, 61199329, 61214976, 61230625, 61246276, 61261929, 61277584, 61293241, 61308900, 61324561, 61340224, 61355889, 61371556, 61387225, 61402896, 61418569, 61434244, 61449921, 61465600, 61481281, 61496964, 61512649, 61528336, 61544025, 61559716, 61575409, 61591104, 61606801, 61622500, 61638201, 61653904, 61669609, 61685316, 61701025, 61716736, 61732449, 61748164, 61763881, 61779600, 61795321, 61811044, 61826769, 61842496, 61858225, 61873956, 61889689, 61905424, 61921161, 61936900, 61952641, 61968384, 61984129, 61999876, 62015625, 62031376, 62047129, 62062884, 62078641, 62094400, 62110161, 62125924, 62141689, 62157456, 62173225, 62188996, 62204769, 62220544, 62236321, 62252100, 62267881, 62283664, 62299449, 62315236, 62331025, 62346816, 62362609, 62378404, 62394201, 62410000, 62425801, 62441604, 62457409, 62473216, 62489025, 62504836, 62520649, 62536464, 62552281, 62568100, 62583921, 62599744, 62615569, 62631396, 62647225, 62663056, 62678889, 62694724, 62710561, 62726400, 62742241, 62758084, 62773929, 62789776, 62805625, 62821476, 62837329, 62853184, 62869041, 62884900, 62900761, 62916624, 62932489, 62948356, 62964225, 62980096, 62995969, 63011844, 63027721, 63043600, 63059481, 63075364, 63091249, 63107136, 63123025, 63138916, 63154809, 63170704, 63186601, 63202500, 63218401, 63234304, 63250209, 63266116, 63282025, 63297936, 63313849, 63329764, 63345681, 63361600, 63377521, 63393444, 63409369, 63425296, 63441225, 63457156, 63473089, 63489024, 63504961, 63520900, 63536841, 63552784, 63568729, 63584676, 63600625, 63616576, 63632529, 63648484, 63664441, 63680400, 63696361, 63712324, 63728289, 63744256, 63760225, 63776196, 63792169, 63808144, 63824121, 63840100, 63856081, 63872064, 63888049, 63904036, 63920025, 63936016, 63952009, 63968004, 63984001, 64000000, 64016001, 64032004, 64048009, 64064016, 64080025, 64096036, 64112049, 64128064, 64144081, 64160100, 64176121, 64192144, 64208169, 64224196, 64240225, 64256256, 64272289, 64288324, 64304361, 64320400, 64336441, 64352484, 64368529, 64384576, 64400625, 64416676, 64432729, 64448784, 64464841, 64480900, 64496961, 64513024, 64529089, 64545156, 64561225, 64577296, 64593369, 64609444, 64625521, 64641600, 64657681, 64673764, 64689849, 64705936, 64722025, 64738116, 64754209, 64770304, 64786401, 64802500, 64818601, 64834704, 64850809, 64866916, 64883025, 64899136, 64915249, 64931364, 64947481, 64963600, 64979721, 64995844, 65011969, 65028096, 65044225, 65060356, 65076489, 65092624, 65108761, 65124900, 65141041, 65157184, 65173329, 65189476, 65205625, 65221776, 65237929, 65254084, 65270241, 65286400, 65302561, 65318724, 65334889, 65351056, 65367225, 65383396, 65399569, 65415744, 65431921, 65448100, 65464281, 65480464, 65496649, 65512836, 65529025, 65545216, 65561409, 65577604, 65593801, 65610000, 65626201, 65642404, 65658609, 65674816, 65691025, 65707236, 65723449, 65739664, 65755881, 65772100, 65788321, 65804544, 65820769, 65836996, 65853225, 65869456, 65885689, 65901924, 65918161, 65934400, 65950641, 65966884, 65983129, 65999376, 66015625, 66031876, 66048129, 66064384, 66080641, 66096900, 66113161, 66129424, 66145689, 66161956, 66178225, 66194496, 66210769, 66227044, 66243321, 66259600, 66275881, 66292164, 66308449, 66324736, 66341025, 66357316, 66373609, 66389904, 66406201, 66422500, 66438801, 66455104, 66471409, 66487716, 66504025, 66520336, 66536649, 66552964, 66569281, 66585600, 66601921, 66618244, 66634569, 66650896, 66667225, 66683556, 66699889, 66716224, 66732561, 66748900, 66765241, 66781584, 66797929, 66814276, 66830625, 66846976, 66863329, 66879684, 66896041, 66912400, 66928761, 66945124, 66961489, 66977856, 66994225, 67010596, 67026969, 67043344, 67059721, 67076100, 67092481, 67108864, 67125249, 67141636, 67158025, 67174416, 67190809, 67207204, 67223601, 67240000, 67256401, 67272804, 67289209, 67305616, 67322025, 67338436, 67354849, 67371264, 67387681, 67404100, 67420521, 67436944, 67453369, 67469796, 67486225, 67502656, 67519089, 67535524, 67551961, 67568400, 67584841, 67601284, 67617729, 67634176, 67650625, 67667076, 67683529, 67699984, 67716441, 67732900, 67749361, 67765824, 67782289, 67798756, 67815225, 67831696, 67848169, 67864644, 67881121, 67897600, 67914081, 67930564, 67947049, 67963536, 67980025, 67996516, 68013009, 68029504, 68046001, 68062500, 68079001, 68095504, 68112009, 68128516, 68145025, 68161536, 68178049, 68194564, 68211081, 68227600, 68244121, 68260644, 68277169, 68293696, 68310225, 68326756, 68343289, 68359824, 68376361, 68392900, 68409441, 68425984, 68442529, 68459076, 68475625, 68492176, 68508729, 68525284, 68541841, 68558400, 68574961, 68591524, 68608089, 68624656, 68641225, 68657796, 68674369, 68690944, 68707521, 68724100, 68740681, 68757264, 68773849, 68790436, 68807025, 68823616, 68840209, 68856804, 68873401, 68890000, 68906601, 68923204, 68939809, 68956416, 68973025, 68989636, 69006249, 69022864, 69039481, 69056100, 69072721, 69089344, 69105969, 69122596, 69139225, 69155856, 69172489, 69189124, 69205761, 69222400, 69239041, 69255684, 69272329, 69288976, 69305625, 69322276, 69338929, 69355584, 69372241, 69388900, 69405561, 69422224, 69438889, 69455556, 69472225, 69488896, 69505569, 69522244, 69538921, 69555600, 69572281, 69588964, 69605649, 69622336, 69639025, 69655716, 69672409, 69689104, 69705801, 69722500, 69739201, 69755904, 69772609, 69789316, 69806025, 69822736, 69839449, 69856164, 69872881, 69889600, 69906321, 69923044, 69939769, 69956496, 69973225, 69989956, 70006689, 70023424, 70040161, 70056900, 70073641, 70090384, 70107129, 70123876, 70140625, 70157376, 70174129, 70190884, 70207641, 70224400, 70241161, 70257924, 70274689, 70291456, 70308225, 70324996, 70341769, 70358544, 70375321, 70392100, 70408881, 70425664, 70442449, 70459236, 70476025, 70492816, 70509609, 70526404, 70543201, 70560000, 70576801, 70593604, 70610409, 70627216, 70644025, 70660836, 70677649, 70694464, 70711281, 70728100, 70744921, 70761744, 70778569, 70795396, 70812225, 70829056, 70845889, 70862724, 70879561, 70896400, 70913241, 70930084, 70946929, 70963776, 70980625, 70997476, 71014329, 71031184, 71048041, 71064900, 71081761, 71098624, 71115489, 71132356, 71149225, 71166096, 71182969, 71199844, 71216721, 71233600, 71250481, 71267364, 71284249, 71301136, 71318025, 71334916, 71351809, 71368704, 71385601, 71402500, 71419401, 71436304, 71453209, 71470116, 71487025, 71503936, 71520849, 71537764, 71554681, 71571600, 71588521, 71605444, 71622369, 71639296, 71656225, 71673156, 71690089, 71707024, 71723961, 71740900, 71757841, 71774784, 71791729, 71808676, 71825625, 71842576, 71859529, 71876484, 71893441, 71910400, 71927361, 71944324, 71961289, 71978256, 71995225, 72012196, 72029169, 72046144, 72063121, 72080100, 72097081, 72114064, 72131049, 72148036, 72165025, 72182016, 72199009, 72216004, 72233001, 72250000, 72267001, 72284004, 72301009, 72318016, 72335025, 72352036, 72369049, 72386064, 72403081, 72420100, 72437121, 72454144, 72471169, 72488196, 72505225, 72522256, 72539289, 72556324, 72573361, 72590400, 72607441, 72624484, 72641529, 72658576, 72675625, 72692676, 72709729, 72726784, 72743841, 72760900, 72777961, 72795024, 72812089, 72829156, 72846225, 72863296, 72880369, 72897444, 72914521, 72931600, 72948681, 72965764, 72982849, 72999936, 73017025, 73034116, 73051209, 73068304, 73085401, 73102500, 73119601, 73136704, 73153809, 73170916, 73188025, 73205136, 73222249, 73239364, 73256481, 73273600, 73290721, 73307844, 73324969, 73342096, 73359225, 73376356, 73393489, 73410624, 73427761, 73444900, 73462041, 73479184, 73496329, 73513476, 73530625, 73547776, 73564929, 73582084, 73599241, 73616400, 73633561, 73650724, 73667889, 73685056, 73702225, 73719396, 73736569, 73753744, 73770921, 73788100, 73805281, 73822464, 73839649, 73856836, 73874025, 73891216, 73908409, 73925604, 73942801, 73960000, 73977201, 73994404, 74011609, 74028816, 74046025, 74063236, 74080449, 74097664, 74114881, 74132100, 74149321, 74166544, 74183769, 74200996, 74218225, 74235456, 74252689, 74269924, 74287161, 74304400, 74321641, 74338884, 74356129, 74373376, 74390625, 74407876, 74425129, 74442384, 74459641, 74476900, 74494161, 74511424, 74528689, 74545956, 74563225, 74580496, 74597769, 74615044, 74632321, 74649600, 74666881, 74684164, 74701449, 74718736, 74736025, 74753316, 74770609, 74787904, 74805201, 74822500, 74839801, 74857104, 74874409, 74891716, 74909025, 74926336, 74943649, 74960964, 74978281, 74995600, 75012921, 75030244, 75047569, 75064896, 75082225, 75099556, 75116889, 75134224, 75151561, 75168900, 75186241, 75203584, 75220929, 75238276, 75255625, 75272976, 75290329, 75307684, 75325041, 75342400, 75359761, 75377124, 75394489, 75411856, 75429225, 75446596, 75463969, 75481344, 75498721, 75516100, 75533481, 75550864, 75568249, 75585636, 75603025, 75620416, 75637809, 75655204, 75672601, 75690000, 75707401, 75724804, 75742209, 75759616, 75777025, 75794436, 75811849, 75829264, 75846681, 75864100, 75881521, 75898944, 75916369, 75933796, 75951225, 75968656, 75986089, 76003524, 76020961, 76038400, 76055841, 76073284, 76090729, 76108176, 76125625, 76143076, 76160529, 76177984, 76195441, 76212900, 76230361, 76247824, 76265289, 76282756, 76300225, 76317696, 76335169, 76352644, 76370121, 76387600, 76405081, 76422564, 76440049, 76457536, 76475025, 76492516, 76510009, 76527504, 76545001, 76562500, 76580001, 76597504, 76615009, 76632516, 76650025, 76667536, 76685049, 76702564, 76720081, 76737600, 76755121, 76772644, 76790169, 76807696, 76825225, 76842756, 76860289, 76877824, 76895361, 76912900, 76930441, 76947984, 76965529, 76983076, 77000625, 77018176, 77035729, 77053284, 77070841, 77088400, 77105961, 77123524, 77141089, 77158656, 77176225, 77193796, 77211369, 77228944, 77246521, 77264100, 77281681, 77299264, 77316849, 77334436, 77352025, 77369616, 77387209, 77404804, 77422401, 77440000, 77457601, 77475204, 77492809, 77510416, 77528025, 77545636, 77563249, 77580864, 77598481, 77616100, 77633721, 77651344, 77668969, 77686596, 77704225, 77721856, 77739489, 77757124, 77774761, 77792400, 77810041, 77827684, 77845329, 77862976, 77880625, 77898276, 77915929, 77933584, 77951241, 77968900, 77986561, 78004224, 78021889, 78039556, 78057225, 78074896, 78092569, 78110244, 78127921, 78145600, 78163281, 78180964, 78198649, 78216336, 78234025, 78251716, 78269409, 78287104, 78304801, 78322500, 78340201, 78357904, 78375609, 78393316, 78411025, 78428736, 78446449, 78464164, 78481881, 78499600, 78517321, 78535044, 78552769, 78570496, 78588225, 78605956, 78623689, 78641424, 78659161, 78676900, 78694641, 78712384, 78730129, 78747876, 78765625, 78783376, 78801129, 78818884, 78836641, 78854400, 78872161, 78889924, 78907689, 78925456, 78943225, 78960996, 78978769, 78996544, 79014321, 79032100, 79049881, 79067664, 79085449, 79103236, 79121025, 79138816, 79156609, 79174404, 79192201, 79210000, 79227801, 79245604, 79263409, 79281216, 79299025, 79316836, 79334649, 79352464, 79370281, 79388100, 79405921, 79423744, 79441569, 79459396, 79477225, 79495056, 79512889, 79530724, 79548561, 79566400, 79584241, 79602084, 79619929, 79637776, 79655625, 79673476, 79691329, 79709184, 79727041, 79744900, 79762761, 79780624, 79798489, 79816356, 79834225, 79852096, 79869969, 79887844, 79905721, 79923600, 79941481, 79959364, 79977249, 79995136, 80013025, 80030916, 80048809, 80066704, 80084601, 80102500, 80120401, 80138304, 80156209, 80174116, 80192025, 80209936, 80227849, 80245764, 80263681, 80281600, 80299521, 80317444, 80335369, 80353296, 80371225, 80389156, 80407089, 80425024, 80442961, 80460900, 80478841, 80496784, 80514729, 80532676, 80550625, 80568576, 80586529, 80604484, 80622441, 80640400, 80658361, 80676324, 80694289, 80712256, 80730225, 80748196, 80766169, 80784144, 80802121, 80820100, 80838081, 80856064, 80874049, 80892036, 80910025, 80928016, 80946009, 80964004, 80982001, 81000000, 81018001, 81036004, 81054009, 81072016, 81090025, 81108036, 81126049, 81144064, 81162081, 81180100, 81198121, 81216144, 81234169, 81252196, 81270225, 81288256, 81306289, 81324324, 81342361, 81360400, 81378441, 81396484, 81414529, 81432576, 81450625, 81468676, 81486729, 81504784, 81522841, 81540900, 81558961, 81577024, 81595089, 81613156, 81631225, 81649296, 81667369, 81685444, 81703521, 81721600, 81739681, 81757764, 81775849, 81793936, 81812025, 81830116, 81848209, 81866304, 81884401, 81902500, 81920601, 81938704, 81956809, 81974916, 81993025, 82011136, 82029249, 82047364, 82065481, 82083600, 82101721, 82119844, 82137969, 82156096, 82174225, 82192356, 82210489, 82228624, 82246761, 82264900, 82283041, 82301184, 82319329, 82337476, 82355625, 82373776, 82391929, 82410084, 82428241, 82446400, 82464561, 82482724, 82500889, 82519056, 82537225, 82555396, 82573569, 82591744, 82609921, 82628100, 82646281, 82664464, 82682649, 82700836, 82719025, 82737216, 82755409, 82773604, 82791801, 82810000, 82828201, 82846404, 82864609, 82882816, 82901025, 82919236, 82937449, 82955664, 82973881, 82992100, 83010321, 83028544, 83046769, 83064996, 83083225, 83101456, 83119689, 83137924, 83156161, 83174400, 83192641, 83210884, 83229129, 83247376, 83265625, 83283876, 83302129, 83320384, 83338641, 83356900, 83375161, 83393424, 83411689, 83429956, 83448225, 83466496, 83484769, 83503044, 83521321, 83539600, 83557881, 83576164, 83594449, 83612736, 83631025, 83649316, 83667609, 83685904, 83704201, 83722500, 83740801, 83759104, 83777409, 83795716, 83814025, 83832336, 83850649, 83868964, 83887281, 83905600, 83923921, 83942244, 83960569, 83978896, 83997225, 84015556, 84033889, 84052224, 84070561, 84088900, 84107241, 84125584, 84143929, 84162276, 84180625, 84198976, 84217329, 84235684, 84254041, 84272400, 84290761, 84309124, 84327489, 84345856, 84364225, 84382596, 84400969, 84419344, 84437721, 84456100, 84474481, 84492864, 84511249, 84529636, 84548025, 84566416, 84584809, 84603204, 84621601, 84640000, 84658401, 84676804, 84695209, 84713616, 84732025, 84750436, 84768849, 84787264, 84805681, 84824100, 84842521, 84860944, 84879369, 84897796, 84916225, 84934656, 84953089, 84971524, 84989961, 85008400, 85026841, 85045284, 85063729, 85082176, 85100625, 85119076, 85137529, 85155984, 85174441, 85192900, 85211361, 85229824, 85248289, 85266756, 85285225, 85303696, 85322169, 85340644, 85359121, 85377600, 85396081, 85414564, 85433049, 85451536, 85470025, 85488516, 85507009, 85525504, 85544001, 85562500, 85581001, 85599504, 85618009, 85636516, 85655025, 85673536, 85692049, 85710564, 85729081, 85747600, 85766121, 85784644, 85803169, 85821696, 85840225, 85858756, 85877289, 85895824, 85914361, 85932900, 85951441, 85969984, 85988529, 86007076, 86025625, 86044176, 86062729, 86081284, 86099841, 86118400, 86136961, 86155524, 86174089, 86192656, 86211225, 86229796, 86248369, 86266944, 86285521, 86304100, 86322681, 86341264, 86359849, 86378436, 86397025, 86415616, 86434209, 86452804, 86471401, 86490000, 86508601, 86527204, 86545809, 86564416, 86583025, 86601636, 86620249, 86638864, 86657481, 86676100, 86694721, 86713344, 86731969, 86750596, 86769225, 86787856, 86806489, 86825124, 86843761, 86862400, 86881041, 86899684, 86918329, 86936976, 86955625, 86974276, 86992929, 87011584, 87030241, 87048900, 87067561, 87086224, 87104889, 87123556, 87142225, 87160896, 87179569, 87198244, 87216921, 87235600, 87254281, 87272964, 87291649, 87310336, 87329025, 87347716, 87366409, 87385104, 87403801, 87422500, 87441201, 87459904, 87478609, 87497316, 87516025, 87534736, 87553449, 87572164, 87590881, 87609600, 87628321, 87647044, 87665769, 87684496, 87703225, 87721956, 87740689, 87759424, 87778161, 87796900, 87815641, 87834384, 87853129, 87871876, 87890625, 87909376, 87928129, 87946884, 87965641, 87984400, 88003161, 88021924, 88040689, 88059456, 88078225, 88096996, 88115769, 88134544, 88153321, 88172100, 88190881, 88209664, 88228449, 88247236, 88266025, 88284816, 88303609, 88322404, 88341201, 88360000, 88378801, 88397604, 88416409, 88435216, 88454025, 88472836, 88491649, 88510464, 88529281, 88548100, 88566921, 88585744, 88604569, 88623396, 88642225, 88661056, 88679889, 88698724, 88717561, 88736400, 88755241, 88774084, 88792929, 88811776, 88830625, 88849476, 88868329, 88887184, 88906041, 88924900, 88943761, 88962624, 88981489, 89000356, 89019225, 89038096, 89056969, 89075844, 89094721, 89113600, 89132481, 89151364, 89170249, 89189136, 89208025, 89226916, 89245809, 89264704, 89283601, 89302500, 89321401, 89340304, 89359209, 89378116, 89397025, 89415936, 89434849, 89453764, 89472681, 89491600, 89510521, 89529444, 89548369, 89567296, 89586225, 89605156, 89624089, 89643024, 89661961, 89680900, 89699841, 89718784, 89737729, 89756676, 89775625, 89794576, 89813529, 89832484, 89851441, 89870400, 89889361, 89908324, 89927289, 89946256, 89965225, 89984196, 90003169, 90022144, 90041121, 90060100, 90079081, 90098064, 90117049, 90136036, 90155025, 90174016, 90193009, 90212004, 90231001, 90250000, 90269001, 90288004, 90307009, 90326016, 90345025, 90364036, 90383049, 90402064, 90421081, 90440100, 90459121, 90478144, 90497169, 90516196, 90535225, 90554256, 90573289, 90592324, 90611361, 90630400, 90649441, 90668484, 90687529, 90706576, 90725625, 90744676, 90763729, 90782784, 90801841, 90820900, 90839961, 90859024, 90878089, 90897156, 90916225, 90935296, 90954369, 90973444, 90992521, 91011600, 91030681, 91049764, 91068849, 91087936, 91107025, 91126116, 91145209, 91164304, 91183401, 91202500, 91221601, 91240704, 91259809, 91278916, 91298025, 91317136, 91336249, 91355364, 91374481, 91393600, 91412721, 91431844, 91450969, 91470096, 91489225, 91508356, 91527489, 91546624, 91565761, 91584900, 91604041, 91623184, 91642329, 91661476, 91680625, 91699776, 91718929, 91738084, 91757241, 91776400, 91795561, 91814724, 91833889, 91853056, 91872225, 91891396, 91910569, 91929744, 91948921, 91968100, 91987281, 92006464, 92025649, 92044836, 92064025, 92083216, 92102409, 92121604, 92140801, 92160000, 92179201, 92198404, 92217609, 92236816, 92256025, 92275236, 92294449, 92313664, 92332881, 92352100, 92371321, 92390544, 92409769, 92428996, 92448225, 92467456, 92486689, 92505924, 92525161, 92544400, 92563641, 92582884, 92602129, 92621376, 92640625, 92659876, 92679129, 92698384, 92717641, 92736900, 92756161, 92775424, 92794689, 92813956, 92833225, 92852496, 92871769, 92891044, 92910321, 92929600, 92948881, 92968164, 92987449, 93006736, 93026025, 93045316, 93064609, 93083904, 93103201, 93122500, 93141801, 93161104, 93180409, 93199716, 93219025, 93238336, 93257649, 93276964, 93296281, 93315600, 93334921, 93354244, 93373569, 93392896, 93412225, 93431556, 93450889, 93470224, 93489561, 93508900, 93528241, 93547584, 93566929, 93586276, 93605625, 93624976, 93644329, 93663684, 93683041, 93702400, 93721761, 93741124, 93760489, 93779856, 93799225, 93818596, 93837969, 93857344, 93876721, 93896100, 93915481, 93934864, 93954249, 93973636, 93993025, 94012416, 94031809, 94051204, 94070601, 94090000, 94109401, 94128804, 94148209, 94167616, 94187025, 94206436, 94225849, 94245264, 94264681, 94284100, 94303521, 94322944, 94342369, 94361796, 94381225, 94400656, 94420089, 94439524, 94458961, 94478400, 94497841, 94517284, 94536729, 94556176, 94575625, 94595076, 94614529, 94633984, 94653441, 94672900, 94692361, 94711824, 94731289, 94750756, 94770225, 94789696, 94809169, 94828644, 94848121, 94867600, 94887081, 94906564, 94926049, 94945536, 94965025, 94984516, 95004009, 95023504, 95043001, 95062500, 95082001, 95101504, 95121009, 95140516, 95160025, 95179536, 95199049, 95218564, 95238081, 95257600, 95277121, 95296644, 95316169, 95335696, 95355225, 95374756, 95394289, 95413824, 95433361, 95452900, 95472441, 95491984, 95511529, 95531076, 95550625, 95570176, 95589729, 95609284, 95628841, 95648400, 95667961, 95687524, 95707089, 95726656, 95746225, 95765796, 95785369, 95804944, 95824521, 95844100, 95863681, 95883264, 95902849, 95922436, 95942025, 95961616, 95981209, 96000804, 96020401, 96040000, 96059601, 96079204, 96098809, 96118416, 96138025, 96157636, 96177249, 96196864, 96216481, 96236100, 96255721, 96275344, 96294969, 96314596, 96334225, 96353856, 96373489, 96393124, 96412761, 96432400, 96452041, 96471684, 96491329, 96510976, 96530625, 96550276, 96569929, 96589584, 96609241, 96628900, 96648561, 96668224, 96687889, 96707556, 96727225, 96746896, 96766569, 96786244, 96805921, 96825600, 96845281, 96864964, 96884649, 96904336, 96924025, 96943716, 96963409, 96983104, 97002801, 97022500, 97042201, 97061904, 97081609, 97101316, 97121025, 97140736, 97160449, 97180164, 97199881, 97219600, 97239321, 97259044, 97278769, 97298496, 97318225, 97337956, 97357689, 97377424, 97397161, 97416900, 97436641, 97456384, 97476129, 97495876, 97515625, 97535376, 97555129, 97574884, 97594641, 97614400, 97634161, 97653924, 97673689, 97693456, 97713225, 97732996, 97752769, 97772544, 97792321, 97812100, 97831881, 97851664, 97871449, 97891236, 97911025, 97930816, 97950609, 97970404, 97990201, 98010000, 98029801, 98049604, 98069409, 98089216, 98109025, 98128836, 98148649, 98168464, 98188281, 98208100, 98227921, 98247744, 98267569, 98287396, 98307225, 98327056, 98346889, 98366724, 98386561, 98406400, 98426241, 98446084, 98465929, 98485776, 98505625, 98525476, 98545329, 98565184, 98585041, 98604900, 98624761, 98644624, 98664489, 98684356, 98704225, 98724096, 98743969, 98763844, 98783721, 98803600, 98823481, 98843364, 98863249, 98883136, 98903025, 98922916, 98942809, 98962704, 98982601, 99002500, 99022401, 99042304, 99062209, 99082116, 99102025, 99121936, 99141849, 99161764, 99181681, 99201600, 99221521, 99241444, 99261369, 99281296, 99301225, 99321156, 99341089, 99361024, 99380961, 99400900, 99420841, 99440784, 99460729, 99480676, 99500625, 99520576, 99540529, 99560484, 99580441, 99600400, 99620361, 99640324, 99660289, 99680256, 99700225, 99720196, 99740169, 99760144, 99780121, 99800100, 99820081, 99840064, 99860049, 99880036, 99900025, 99920016, 99940009, 99960004, 99980001]\n",
      "python list took 3.064346601166843e+21\n"
     ]
    }
   ],
   "source": [
    "start=time.time()\n",
    "result=[(x*y) for x,y in zip(L1,L2)]\n",
    "print(result)\n",
    "print(\"python list took\",(time.time()*start)*1000)"
   ]
  },
  {
   "cell_type": "code",
   "execution_count": 200,
   "id": "557e3471-24f8-4e2b-91d0-28750fe0258e",
   "metadata": {},
   "outputs": [
    {
     "name": "stdout",
     "output_type": "stream",
     "text": [
      "numpy array took: 3.064346681114061e+21\n"
     ]
    }
   ],
   "source": [
    "start=time.time()\n",
    "result=A1+A2\n",
    "print(\"numpy array took:\",(time.time()*start)*1000)"
   ]
  },
  {
   "cell_type": "code",
   "execution_count": 164,
   "id": "1f12fe3d-70da-451a-aeb1-bc0a1c10b8f3",
   "metadata": {},
   "outputs": [
    {
     "data": {
      "text/plain": [
       "array([[1, 2],\n",
       "       [3, 4],\n",
       "       [5, 6]])"
      ]
     },
     "execution_count": 164,
     "metadata": {},
     "output_type": "execute_result"
    }
   ],
   "source": [
    "a=np.array([[1,2],[3,4],[5,6]])\n",
    "a"
   ]
  },
  {
   "cell_type": "code",
   "execution_count": 166,
   "id": "a1fe9849-7f63-4c7f-9c6e-2af3da69e4ac",
   "metadata": {},
   "outputs": [
    {
     "data": {
      "text/plain": [
       "2"
      ]
     },
     "execution_count": 166,
     "metadata": {},
     "output_type": "execute_result"
    }
   ],
   "source": [
    "a.ndim"
   ]
  },
  {
   "cell_type": "code",
   "execution_count": 168,
   "id": "d1544aab-39bd-4f31-ab3c-0d8223f8a5ac",
   "metadata": {},
   "outputs": [
    {
     "data": {
      "text/plain": [
       "4"
      ]
     },
     "execution_count": 168,
     "metadata": {},
     "output_type": "execute_result"
    }
   ],
   "source": [
    "a.itemsize"
   ]
  },
  {
   "cell_type": "code",
   "execution_count": 170,
   "id": "30e7e5c5-7345-4ece-97ac-f3fdec088b2d",
   "metadata": {},
   "outputs": [
    {
     "data": {
      "text/plain": [
       "(3, 2)"
      ]
     },
     "execution_count": 170,
     "metadata": {},
     "output_type": "execute_result"
    }
   ],
   "source": [
    "a.shape"
   ]
  },
  {
   "cell_type": "code",
   "execution_count": 208,
   "id": "a7302d9c-e5d8-47ce-a637-02fb9f6e21d3",
   "metadata": {},
   "outputs": [
    {
     "data": {
      "text/plain": [
       "array([[1., 2.],\n",
       "       [3., 4.],\n",
       "       [5., 6.]])"
      ]
     },
     "execution_count": 208,
     "metadata": {},
     "output_type": "execute_result"
    }
   ],
   "source": [
    "a=np.array([[1,2],[3,4],[5,6]],dtype=np.float64)\n",
    "a"
   ]
  },
  {
   "cell_type": "code",
   "execution_count": 174,
   "id": "eebfffaf-3d05-4c17-b782-21276062dd9f",
   "metadata": {},
   "outputs": [
    {
     "data": {
      "text/plain": [
       "8"
      ]
     },
     "execution_count": 174,
     "metadata": {},
     "output_type": "execute_result"
    }
   ],
   "source": [
    "a.itemsize"
   ]
  },
  {
   "cell_type": "code",
   "execution_count": 176,
   "id": "2490e7c3-c8e8-43e0-93cd-7545a96b6fcc",
   "metadata": {},
   "outputs": [
    {
     "data": {
      "text/plain": [
       "(3, 2)"
      ]
     },
     "execution_count": 176,
     "metadata": {},
     "output_type": "execute_result"
    }
   ],
   "source": [
    "a.shape"
   ]
  },
  {
   "cell_type": "code",
   "execution_count": 216,
   "id": "ac8fa5bb-b24d-481b-a368-3fdd8b352c53",
   "metadata": {},
   "outputs": [
    {
     "data": {
      "text/plain": [
       "array([[1.+0.j, 2.+0.j],\n",
       "       [3.+0.j, 4.+0.j],\n",
       "       [5.+0.j, 6.+0.j]])"
      ]
     },
     "execution_count": 216,
     "metadata": {},
     "output_type": "execute_result"
    }
   ],
   "source": [
    "a=np.array([[1,2],[3,4],[5,6]],dtype=np.complex128) ## the complex was removed from numpy recently ,so we need to add specific number to the numpy complex or remove np and declare\n",
    "a"
   ]
  },
  {
   "cell_type": "code",
   "execution_count": 218,
   "id": "11c135e1-d788-4131-aafa-1bbab83018e2",
   "metadata": {},
   "outputs": [
    {
     "data": {
      "text/plain": [
       "array([[0., 0., 0., 0., 0., 0., 0., 0.],\n",
       "       [0., 0., 0., 0., 0., 0., 0., 0.],\n",
       "       [0., 0., 0., 0., 0., 0., 0., 0.],\n",
       "       [0., 0., 0., 0., 0., 0., 0., 0.],\n",
       "       [0., 0., 0., 0., 0., 0., 0., 0.],\n",
       "       [0., 0., 0., 0., 0., 0., 0., 0.]])"
      ]
     },
     "execution_count": 218,
     "metadata": {},
     "output_type": "execute_result"
    }
   ],
   "source": [
    "np.zeros((6,8))"
   ]
  },
  {
   "cell_type": "code",
   "execution_count": 222,
   "id": "37208bd3-2935-4990-ae55-39dc8145bb71",
   "metadata": {},
   "outputs": [
    {
     "data": {
      "text/plain": [
       "array([[1., 1., 1., 1., 1., 1., 1., 1., 1.]])"
      ]
     },
     "execution_count": 222,
     "metadata": {},
     "output_type": "execute_result"
    }
   ],
   "source": [
    "np.ones((1,9))"
   ]
  },
  {
   "cell_type": "code",
   "execution_count": 224,
   "id": "f0ff6c99-aadf-43a7-aa01-949097255411",
   "metadata": {},
   "outputs": [
    {
     "data": {
      "text/plain": [
       "range(0, 5)"
      ]
     },
     "execution_count": 224,
     "metadata": {},
     "output_type": "execute_result"
    }
   ],
   "source": [
    "l=range(5)\n",
    "l"
   ]
  },
  {
   "cell_type": "code",
   "execution_count": 226,
   "id": "4db21820-b3ed-4299-b4ab-f1965bcfdf9a",
   "metadata": {},
   "outputs": [
    {
     "data": {
      "text/plain": [
       "array([0, 1, 2, 3, 4])"
      ]
     },
     "execution_count": 226,
     "metadata": {},
     "output_type": "execute_result"
    }
   ],
   "source": [
    "np.arange(5)"
   ]
  },
  {
   "cell_type": "code",
   "execution_count": 228,
   "id": "0fb2cfd1-3c95-4bad-9cbd-e2fd8a50cc8e",
   "metadata": {},
   "outputs": [
    {
     "name": "stdout",
     "output_type": "stream",
     "text": [
      "concatenation example:\n",
      "['hellopython' 'hinum']\n"
     ]
    }
   ],
   "source": [
    "print('concatenation example:')\n",
    "print(np.char.add(['hello','hi'],['python','num']))"
   ]
  },
  {
   "cell_type": "code",
   "execution_count": 230,
   "id": "758de0ee-63d4-473c-a2af-9fcec308c8ff",
   "metadata": {},
   "outputs": [
    {
     "name": "stdout",
     "output_type": "stream",
     "text": [
      "hellohellohello\n"
     ]
    }
   ],
   "source": [
    "print(np.char.multiply('hello',3))"
   ]
  },
  {
   "cell_type": "code",
   "execution_count": 232,
   "id": "e89d9123-4b6d-4cdf-ac44-09b0214b8ac1",
   "metadata": {},
   "outputs": [
    {
     "name": "stdout",
     "output_type": "stream",
     "text": [
      "-------hello--------\n"
     ]
    }
   ],
   "source": [
    "print(np.char.center('hello',20,fillchar='-'))"
   ]
  },
  {
   "cell_type": "code",
   "execution_count": 234,
   "id": "a55879c2-79b5-40e1-a76c-a6f79b8adcec",
   "metadata": {},
   "outputs": [
    {
     "name": "stdout",
     "output_type": "stream",
     "text": [
      "Hello world\n"
     ]
    }
   ],
   "source": [
    "print(np.char.capitalize('hello world'))"
   ]
  },
  {
   "cell_type": "code",
   "execution_count": 236,
   "id": "66870a55-bf66-4870-8971-4254616b8de7",
   "metadata": {},
   "outputs": [
    {
     "name": "stdout",
     "output_type": "stream",
     "text": [
      "How Are You Doing\n"
     ]
    }
   ],
   "source": [
    "print(np.char.title('how are you doing'))"
   ]
  },
  {
   "cell_type": "code",
   "execution_count": 238,
   "id": "1e51d222-f126-4f8d-bd84-82e694a74b24",
   "metadata": {},
   "outputs": [
    {
     "name": "stdout",
     "output_type": "stream",
     "text": [
      "['PYTHON' 'DATA']\n",
      "['PYTHON IS EASY']\n"
     ]
    }
   ],
   "source": [
    "print(np.char.upper(['python','data']))\n",
    "print(np.char.upper(['python is easy']))"
   ]
  },
  {
   "cell_type": "code",
   "execution_count": 242,
   "id": "e4303712-998a-4278-9ff2-47ee85d628a7",
   "metadata": {},
   "outputs": [
    {
     "name": "stdout",
     "output_type": "stream",
     "text": [
      "['are', 'you', 'doing?']\n"
     ]
    }
   ],
   "source": [
    "print(np.char.split('are you doing?'))"
   ]
  },
  {
   "cell_type": "code",
   "execution_count": 244,
   "id": "54087099-09dc-4370-8d73-9e6af8a21bf6",
   "metadata": {},
   "outputs": [
    {
     "name": "stdout",
     "output_type": "stream",
     "text": [
      "['hello', 'how is python']\n"
     ]
    }
   ],
   "source": [
    "print(np.char.splitlines('hello\\nhow is python'))"
   ]
  },
  {
   "cell_type": "code",
   "execution_count": 246,
   "id": "12fe8c3d-473f-4418-adaa-2f1daab6973e",
   "metadata": {},
   "outputs": [
    {
     "name": "stdout",
     "output_type": "stream",
     "text": [
      "['python' 'num' 'scipy']\n"
     ]
    }
   ],
   "source": [
    "print(np.char.strip(['python','num','scipy'],'a'))"
   ]
  },
  {
   "cell_type": "code",
   "execution_count": 248,
   "id": "f9a3b658-f56e-4bc0-86e7-7c441ff34634",
   "metadata": {},
   "outputs": [
    {
     "name": "stdout",
     "output_type": "stream",
     "text": [
      "['n:u:m' 'p-y-t-h-o-n']\n"
     ]
    }
   ],
   "source": [
    "print(np.char.join([':','-'],['num','python']))"
   ]
  },
  {
   "cell_type": "code",
   "execution_count": 250,
   "id": "1f3c9129-f95f-44af-9d71-dc67713a7c2a",
   "metadata": {},
   "outputs": [
    {
     "name": "stdout",
     "output_type": "stream",
     "text": [
      "he knows python\n"
     ]
    }
   ],
   "source": [
    "print(np.char.replace('he knows python','is','num'))"
   ]
  },
  {
   "cell_type": "code",
   "execution_count": null,
   "id": "ddc608b4-373c-44d9-a3ba-6a471870308f",
   "metadata": {},
   "outputs": [],
   "source": []
  }
 ],
 "metadata": {
  "kernelspec": {
   "display_name": "Python [conda env:base] *",
   "language": "python",
   "name": "conda-base-py"
  },
  "language_info": {
   "codemirror_mode": {
    "name": "ipython",
    "version": 3
   },
   "file_extension": ".py",
   "mimetype": "text/x-python",
   "name": "python",
   "nbconvert_exporter": "python",
   "pygments_lexer": "ipython3",
   "version": "3.12.7"
  }
 },
 "nbformat": 4,
 "nbformat_minor": 5
}
