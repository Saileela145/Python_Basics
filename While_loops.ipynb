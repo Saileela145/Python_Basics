{
 "cells": [
  {
   "cell_type": "code",
   "execution_count": 3,
   "id": "265ebb5a-8b82-4ad3-815c-e54e7b20bd05",
   "metadata": {},
   "outputs": [
    {
     "name": "stdout",
     "output_type": "stream",
     "text": [
      "1 3 2 python\n"
     ]
    }
   ],
   "source": [
    "x=[1,3,7,2,\"python\"]\n",
    "print(x[0],x[1],x[3],x[4])"
   ]
  },
  {
   "cell_type": "code",
   "execution_count": 5,
   "id": "5ef8d173-5e96-4a26-b11a-1ea9192e7db7",
   "metadata": {},
   "outputs": [
    {
     "name": "stdout",
     "output_type": "stream",
     "text": [
      "1\n",
      "4.4\n",
      "python\n"
     ]
    }
   ],
   "source": [
    "x=[1,4.4,\"python\"]\n",
    "for i in x:\n",
    "    print(i)"
   ]
  },
  {
   "cell_type": "code",
   "execution_count": 7,
   "id": "7042caa5-b24d-4657-9e60-6a28af1f3386",
   "metadata": {},
   "outputs": [
    {
     "name": "stdout",
     "output_type": "stream",
     "text": [
      "p\n",
      "y\n",
      "t\n",
      "h\n",
      "o\n",
      "n\n"
     ]
    }
   ],
   "source": [
    "x=\"python\"\n",
    "for i in x:\n",
    "    print(i)"
   ]
  },
  {
   "cell_type": "code",
   "execution_count": 9,
   "id": "99960513-60f3-49f5-aa24-459e810b9ca7",
   "metadata": {},
   "outputs": [
    {
     "name": "stdout",
     "output_type": "stream",
     "text": [
      "python"
     ]
    }
   ],
   "source": [
    "x=\"python\"\n",
    "for i in x:\n",
    "    print(i,end=\"\")"
   ]
  },
  {
   "cell_type": "code",
   "execution_count": 17,
   "id": "c01c88f6-5e35-4a0e-a28c-34276dd0b3a3",
   "metadata": {},
   "outputs": [
    {
     "name": "stdout",
     "output_type": "stream",
     "text": [
      "0\n",
      "1\n",
      "2\n",
      "3\n",
      "4\n",
      "5\n",
      "6\n",
      "7\n",
      "8\n",
      "9\n",
      "10\n",
      "11\n",
      "12\n",
      "13\n",
      "14\n",
      "15\n",
      "16\n",
      "17\n",
      "18\n",
      "19\n"
     ]
    }
   ],
   "source": [
    "for i in range(0,20):\n",
    "    print(i)"
   ]
  },
  {
   "cell_type": "code",
   "execution_count": 19,
   "id": "b1a3b27b-aae3-4420-8a06-1a075e58450b",
   "metadata": {},
   "outputs": [
    {
     "name": "stdout",
     "output_type": "stream",
     "text": [
      "0\n",
      "2\n",
      "4\n",
      "6\n",
      "8\n",
      "10\n",
      "12\n",
      "14\n",
      "16\n",
      "18\n"
     ]
    }
   ],
   "source": [
    "for i in range(0,20,2):\n",
    "    print(i)"
   ]
  },
  {
   "cell_type": "code",
   "execution_count": 33,
   "id": "f69221ce-b004-495c-81aa-8b4a9a0aa550",
   "metadata": {},
   "outputs": [
    {
     "name": "stdout",
     "output_type": "stream",
     "text": [
      "132\n"
     ]
    }
   ],
   "source": [
    "sum=0\n",
    "for i in range(0,24):\n",
    "    if i%2==0:\n",
    "        sum=sum+i\n",
    "print(sum)        "
   ]
  },
  {
   "cell_type": "code",
   "execution_count": 71,
   "id": "505bf7b2-9fbf-4ade-bbc8-4950361197b3",
   "metadata": {
    "scrolled": true
   },
   "outputs": [
    {
     "name": "stdin",
     "output_type": "stream",
     "text": [
      "enter the number: 30\n"
     ]
    },
    {
     "name": "stdout",
     "output_type": "stream",
     "text": [
      "1\n",
      "12\n",
      "123\n",
      "1234\n",
      "12345\n",
      "123456\n",
      "1234567\n",
      "12345678\n",
      "123456789\n",
      "12345678910\n",
      "1234567891011\n",
      "123456789101112\n",
      "12345678910111213\n",
      "1234567891011121314\n",
      "123456789101112131415\n",
      "12345678910111213141516\n",
      "1234567891011121314151617\n",
      "123456789101112131415161718\n",
      "12345678910111213141516171819\n",
      "1234567891011121314151617181920\n",
      "123456789101112131415161718192021\n",
      "12345678910111213141516171819202122\n",
      "1234567891011121314151617181920212223\n",
      "123456789101112131415161718192021222324\n",
      "12345678910111213141516171819202122232425\n",
      "1234567891011121314151617181920212223242526\n",
      "123456789101112131415161718192021222324252627\n",
      "12345678910111213141516171819202122232425262728\n",
      "1234567891011121314151617181920212223242526272829\n",
      "123456789101112131415161718192021222324252627282930\n"
     ]
    }
   ],
   "source": [
    "n=int(input(\"enter the number:\"))\n",
    "for i in range(1,n+1):\n",
    "    for j in range(1,i+1):\n",
    "        print(j,end=\"\")\n",
    "    print()\n",
    "    "
   ]
  },
  {
   "cell_type": "code",
   "execution_count": 1,
   "id": "07a370a2-51a3-4125-af33-5a6ede84d21d",
   "metadata": {},
   "outputs": [
    {
     "name": "stdin",
     "output_type": "stream",
     "text": [
      "enter number of rows 2\n",
      "enter number of rows 2\n",
      "enter the 0* 0 element 1\n",
      "enter the 0* 1 element 2\n",
      "enter the 1* 0 element 3\n",
      "enter the 1* 1 element 1\n",
      "enter the 0 *0 element 2\n",
      "enter the 0 *1 element 3\n",
      "enter the 1 *0 element 4\n",
      "enter the 1 *1 element 1\n",
      "enter the 0*0 element 2\n",
      "enter the 0*1 element 3\n",
      "enter the 1*0 element 4\n",
      "enter the 1*1 element 5\n"
     ]
    },
    {
     "name": "stdout",
     "output_type": "stream",
     "text": [
      "[[5, 8], [11, 7]]\n"
     ]
    }
   ],
   "source": [
    "r=int(input(\"enter number of rows\"))\n",
    "c=int(input(\"enter number of rows\"))\n",
    "x=[]\n",
    "val=[]\n",
    "for i in range(0,r):\n",
    "    for j in range(0,c):\n",
    "        val.insert(j,int(input(\"enter the %d* %d element\"%(i,j))))\n",
    "    x.insert(i,val)\n",
    "    val=[]\n",
    "y=[]\n",
    "for i in range(0,r):\n",
    "    for j in range(0,c):\n",
    "        val.insert(j,int(input(\"enter the %d *%d element\"%(i,j))))\n",
    "    y.insert(i,val)\n",
    "    val=[]\n",
    "z=[]\n",
    "for i in range(0,r):\n",
    "    for j in range(0,c):\n",
    "        val.insert(j,int(input(\"enter the %d*%d element\" %(i,j))))\n",
    "    z.insert(i,val)\n",
    "    val=[]\n",
    "sum=[]\n",
    "for i in range(0,r):\n",
    "    for j in range(0,c):\n",
    "        val.insert(j,x[i][j]+y[i][j]+z[i][j]\n",
    "                  )\n",
    "    sum.insert(i,val)\n",
    "    val=[]\n",
    "print(sum)    "
   ]
  },
  {
   "cell_type": "code",
   "execution_count": 3,
   "id": "2c7dfaa7-e1ff-416d-8c9c-329943a8fedc",
   "metadata": {},
   "outputs": [
    {
     "name": "stdout",
     "output_type": "stream",
     "text": [
      "python\n",
      "python\n",
      "python\n",
      "python\n",
      "python\n",
      "python\n",
      "python\n",
      "python\n",
      "python\n",
      "python\n"
     ]
    }
   ],
   "source": [
    "i=1\n",
    "while i<=10:\n",
    "    print(\"python\")\n",
    "    i+=1"
   ]
  },
  {
   "cell_type": "code",
   "execution_count": 1,
   "id": "0e4d5c04-b459-41b3-9409-78a2919dd4a1",
   "metadata": {},
   "outputs": [
    {
     "name": "stdout",
     "output_type": "stream",
     "text": [
      "python\n",
      "python\n",
      "python\n",
      "python\n",
      "python\n",
      "python\n",
      "python\n",
      "python\n",
      "python\n",
      "python\n"
     ]
    }
   ],
   "source": [
    "i=10\n",
    "while i>=1:\n",
    "    print(\"python\")\n",
    "    i-=1"
   ]
  },
  {
   "cell_type": "code",
   "execution_count": 7,
   "id": "cc2c5f0f-3155-48bc-b2f3-0f8dd47b6807",
   "metadata": {},
   "outputs": [
    {
     "name": "stdout",
     "output_type": "stream",
     "text": [
      "55\n"
     ]
    }
   ],
   "source": [
    "i=1\n",
    "sum=0\n",
    "while i<=10:\n",
    "    sum=sum+i\n",
    "    i=i+1\n",
    "print(sum)    "
   ]
  },
  {
   "cell_type": "code",
   "execution_count": 9,
   "id": "5493dd15-0c39-476f-935b-e1b8f5494347",
   "metadata": {},
   "outputs": [
    {
     "name": "stdout",
     "output_type": "stream",
     "text": [
      "30\n"
     ]
    }
   ],
   "source": [
    "i=1\n",
    "sum=0\n",
    "while i<=10:\n",
    "    if i%2==0:\n",
    "        sum=sum+i\n",
    "    i=i+1\n",
    "print(sum)    "
   ]
  },
  {
   "cell_type": "code",
   "execution_count": 3,
   "id": "0ade9ede-285b-41f2-a6b2-172a64dfb28d",
   "metadata": {},
   "outputs": [
    {
     "name": "stdin",
     "output_type": "stream",
     "text": [
      "enter a number 1234\n"
     ]
    },
    {
     "name": "stdout",
     "output_type": "stream",
     "text": [
      "4321\n"
     ]
    }
   ],
   "source": [
    "n=int(input(\"enter a number\"))\n",
    "q=0\n",
    "while n%10!=0:\n",
    "    c=n%10\n",
    "    q=q*10+c\n",
    "    n=n//10\n",
    "print(q)"
   ]
  },
  {
   "cell_type": "code",
   "execution_count": 15,
   "id": "2b6cef48-1393-4c18-b932-609ee9594236",
   "metadata": {},
   "outputs": [
    {
     "name": "stdout",
     "output_type": "stream",
     "text": [
      "4\n"
     ]
    }
   ],
   "source": [
    "n=[1,2,3,\"python\"]\n",
    "length=0\n",
    "i=0\n",
    "try:\n",
    "    while n[i]:\n",
    "        length+=1\n",
    "        i+=1\n",
    "except IndexError:\n",
    "    print(length)"
   ]
  },
  {
   "cell_type": "code",
   "execution_count": 3,
   "id": "aaaec398-5dcd-4319-8a48-f53a7557e01c",
   "metadata": {},
   "outputs": [
    {
     "name": "stdin",
     "output_type": "stream",
     "text": [
      "ENTER THE NUMBER: 5\n"
     ]
    },
    {
     "name": "stdout",
     "output_type": "stream",
     "text": [
      "1\n",
      "22\n",
      "333\n",
      "4444\n",
      "55555\n"
     ]
    }
   ],
   "source": [
    "n=int(input(\"ENTER THE NUMBER:\"))\n",
    "i=1\n",
    "while i<=n:\n",
    "    j=1\n",
    "    while j<=i:\n",
    "        print(i,end=\"\")\n",
    "        j+=1\n",
    "    i+=1        \n",
    "    print()    "
   ]
  },
  {
   "cell_type": "code",
   "execution_count": 23,
   "id": "5307fff9-b43f-4036-9918-fd90a0528308",
   "metadata": {},
   "outputs": [
    {
     "name": "stdout",
     "output_type": "stream",
     "text": [
      "9278\n"
     ]
    },
    {
     "name": "stdin",
     "output_type": "stream",
     "text": [
      "enter the number 7685\n"
     ]
    },
    {
     "name": "stdout",
     "output_type": "stream",
     "text": [
      "0 digits were guessed right\n"
     ]
    },
    {
     "name": "stdin",
     "output_type": "stream",
     "text": [
      "enter a 4 digits number 8768\n"
     ]
    },
    {
     "name": "stdout",
     "output_type": "stream",
     "text": [
      "1 digits were guessed right\n"
     ]
    },
    {
     "name": "stdin",
     "output_type": "stream",
     "text": [
      "enter a 4 digits number 8765\n"
     ]
    },
    {
     "name": "stdout",
     "output_type": "stream",
     "text": [
      "0 digits were guessed right\n"
     ]
    },
    {
     "name": "stdin",
     "output_type": "stream",
     "text": [
      "enter a 4 digits number 9271\n"
     ]
    },
    {
     "name": "stdout",
     "output_type": "stream",
     "text": [
      "3 digits were guessed right\n"
     ]
    },
    {
     "name": "stdin",
     "output_type": "stream",
     "text": [
      "enter a 4 digits number 9278\n"
     ]
    },
    {
     "name": "stdout",
     "output_type": "stream",
     "text": [
      "congrats!you guessed right\n"
     ]
    }
   ],
   "source": [
    "import random\n",
    "nump= random.randint(1000,9999)\n",
    "print(nump)\n",
    "n=int(input(\"enter the number\"))\n",
    "while n!=10:\n",
    "    num=nump\n",
    "    correct=0\n",
    "    while num%10:\n",
    "        numc=num%10\n",
    "        nc=n%10\n",
    "        num=num//10\n",
    "        n=n//10\n",
    "        if numc==nc:\n",
    "            correct=correct+1\n",
    "    if correct==4:\n",
    "        print(\"congrats!you guessed right\")\n",
    "        break\n",
    "    else:\n",
    "        print(\"%d digits were guessed right\"%correct)\n",
    "        n=int(input(\"enter a 4 digits number\"))\n",
    "else:\n",
    "    print(\"quit game\")      "
   ]
  },
  {
   "cell_type": "code",
   "execution_count": null,
   "id": "d23f3935-9537-47fd-ab0e-ba241414b20e",
   "metadata": {},
   "outputs": [],
   "source": []
  }
 ],
 "metadata": {
  "kernelspec": {
   "display_name": "Python [conda env:base] *",
   "language": "python",
   "name": "conda-base-py"
  },
  "language_info": {
   "codemirror_mode": {
    "name": "ipython",
    "version": 3
   },
   "file_extension": ".py",
   "mimetype": "text/x-python",
   "name": "python",
   "nbconvert_exporter": "python",
   "pygments_lexer": "ipython3",
   "version": "3.12.7"
  }
 },
 "nbformat": 4,
 "nbformat_minor": 5
}
