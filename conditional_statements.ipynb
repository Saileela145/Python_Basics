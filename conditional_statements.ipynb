{
 "cells": [
  {
   "cell_type": "markdown",
   "id": "909f429f-7d94-4bc5-a137-f75d072cb44b",
   "metadata": {},
   "source": [
    "### If Statement"
   ]
  },
  {
   "cell_type": "markdown",
   "id": "ff27cd5c-10e1-48de-b978-750460da32fa",
   "metadata": {},
   "source": [
    "#### Syntax: \n",
    "     if condition\n",
    "       ##Statement to execute if\n",
    "       ##Condition is true"
   ]
  },
  {
   "cell_type": "code",
   "execution_count": 10,
   "id": "25b532cb-71b3-44e6-a741-d17b9f15a686",
   "metadata": {},
   "outputs": [
    {
     "name": "stdout",
     "output_type": "stream",
     "text": [
      "this is true\n",
      "this is outside block\n"
     ]
    }
   ],
   "source": [
    "a=60\n",
    "if a>50:\n",
    "    print(\"this is true\")\n",
    "print(\"this is outside block\")"
   ]
  },
  {
   "cell_type": "markdown",
   "id": "e85bd410-8948-4672-9b66-7f67b3887ece",
   "metadata": {},
   "source": [
    "### If Else Statement"
   ]
  },
  {
   "cell_type": "code",
   "execution_count": 32,
   "id": "87457121-51d8-49ac-8531-0fc7287434da",
   "metadata": {},
   "outputs": [],
   "source": [
    "#### Syntax\n",
    "     # if(condition):\n",
    "          # Executes this block if\n",
    "          # Condition is true\n",
    "     # else:\n",
    "          # Executes this block if\n",
    "          # Condition is false"
   ]
  },
  {
   "cell_type": "code",
   "execution_count": 38,
   "id": "ba950472-cdbc-4a84-a80f-e65dd82159e2",
   "metadata": {},
   "outputs": [
    {
     "name": "stdout",
     "output_type": "stream",
     "text": [
      "this is the else block\n",
      "i is an odd number\n"
     ]
    }
   ],
   "source": [
    "i=50\n",
    "if i%2==0:\n",
    "    print(\"this is the if block\")\n",
    "    print(\"i is an even number\")\n",
    "else:\n",
    "    print(\"this is the else block\")\n",
    "    print(\"i is an odd number\")"
   ]
  },
  {
   "cell_type": "markdown",
   "id": "c7d0f32a-a1f8-4a2c-ab4c-4419a2ed15ec",
   "metadata": {},
   "source": [
    "#### Nested if Statement"
   ]
  },
  {
   "cell_type": "code",
   "execution_count": null,
   "id": "061a9afc-79e1-40b0-9843-3e2e20f620ec",
   "metadata": {},
   "outputs": [],
   "source": [
    "#### Syntax-\n",
    "        # if(condition1):\n",
    "             # Executes if condition1 is true\n",
    "           # if(condition2):\n",
    "                 # Executes if condition2 is true\n",
    "              # condition2 ends here   \n",
    "          # condition1 ends here       "
   ]
  },
  {
   "cell_type": "code",
   "execution_count": 49,
   "id": "ad47d2ae-f02c-45e9-8642-2fb0a5b38d60",
   "metadata": {},
   "outputs": [
    {
     "name": "stdout",
     "output_type": "stream",
     "text": [
      "15 it is an odd number less than 25\n"
     ]
    }
   ],
   "source": [
    "a=15\n",
    "if a<25:\n",
    "    if a%2==0:\n",
    "        print(a,\"it is an even number less than 25\")\n",
    "    else:\n",
    "        print(a,\"it is an odd number less than 25\")\n",
    "else:\n",
    "    print(a,\"it is greater than 25\")"
   ]
  },
  {
   "cell_type": "markdown",
   "id": "e62ef927-9e0f-437c-83c6-7a2b3356f052",
   "metadata": {},
   "source": [
    "#### If-Elif-Else Statement"
   ]
  },
  {
   "cell_type": "code",
   "execution_count": null,
   "id": "8ab3e4ee-3716-4498-ad2d-063414c1bb02",
   "metadata": {},
   "outputs": [],
   "source": [
    "#### Syntax-\n",
    "        # if(condition):\n",
    "             statement\n",
    "        # elif(condition):\n",
    "             statement\n",
    "        # else:\n",
    "             statement"
   ]
  },
  {
   "cell_type": "code",
   "execution_count": 52,
   "id": "d994f804-3b90-430f-a4f5-2bd613c6ffe4",
   "metadata": {},
   "outputs": [
    {
     "name": "stdout",
     "output_type": "stream",
     "text": [
      "j this is consonant\n"
     ]
    }
   ],
   "source": [
    "var=\"j\"\n",
    "if var==\"a\":\n",
    "    print(\"this is vowel a\")\n",
    "elif var==\"e\":\n",
    "    print(\"this is vowel e\")\n",
    "elif var==\"i\":\n",
    "    print(\"this is vowel i\")    \n",
    "elif var==\"o\":\n",
    "    print(\"this is vowel o\")    \n",
    "elif var==\"u\":\n",
    "    print(\"this is vowel u\")\n",
    "else:\n",
    "    print(var,\"this is consonant\")"
   ]
  },
  {
   "cell_type": "markdown",
   "id": "24212339-5661-4e4d-bde0-c76f855e65e3",
   "metadata": {},
   "source": [
    "### Loops"
   ]
  },
  {
   "cell_type": "markdown",
   "id": "28b4f86e-0dc4-43eb-b7d4-0f48abcc44ef",
   "metadata": {},
   "source": [
    "##### A loop is an instruction that repeats mutiple times as along as some condition is met\n",
    "##### ->while loop\n",
    "##### ->for loop\n",
    "##### ->nested loop\n"
   ]
  },
  {
   "cell_type": "markdown",
   "id": "d51ec083-f68a-4743-ba4c-0e654503d6bf",
   "metadata": {},
   "source": [
    "###### WHILE LOOP:It is used to repeat a section of code an unknown number of times until a specific condition is met"
   ]
  },
  {
   "cell_type": "code",
   "execution_count": 108,
   "id": "24d1ef98-95d5-4af6-a385-ca58f26b9737",
   "metadata": {},
   "outputs": [
    {
     "name": "stdin",
     "output_type": "stream",
     "text": [
      "enter the number multiple of 9 87\n",
      "enter the number correct multiple of 9 7\n",
      "enter the number correct multiple of 9 34\n",
      "enter the number correct multiple of 9 23\n",
      "enter the number correct multiple of 9 9808\n",
      "enter the number correct multiple of 9 90\n"
     ]
    },
    {
     "name": "stdout",
     "output_type": "stream",
     "text": [
      "is the number multiple of 9 90\n"
     ]
    }
   ],
   "source": [
    "num=int(input(\"enter the number multiple of 9\"))\n",
    "while num%9!=0:\n",
    "    num=int(input(\"enter the number correct multiple of 9\"))\n",
    "else:    \n",
    "    print(\"is the number multiple of 9\" ,num)    "
   ]
  },
  {
   "cell_type": "markdown",
   "id": "1caeb5b3-f0c5-4923-8b73-2e123f9646d7",
   "metadata": {},
   "source": [
    "##### FOR LOOP:It is used to iterate over a sequence,which could be a list,tuple,array or a string"
   ]
  },
  {
   "cell_type": "code",
   "execution_count": 111,
   "id": "1a168d18-13c8-46b3-9d95-d8cccae42e03",
   "metadata": {},
   "outputs": [
    {
     "name": "stdout",
     "output_type": "stream",
     "text": [
      "1\n",
      "6\n",
      "python\n"
     ]
    }
   ],
   "source": [
    "x=[1,6,\"python\"]\n",
    "for i in x:\n",
    "    print(i)\n"
   ]
  },
  {
   "cell_type": "markdown",
   "id": "85c3327e-f27f-4b2a-b276-617473a670c2",
   "metadata": {},
   "source": [
    "##### NESTED LOOPS:Python allows loops to be nested in loops.Nested loops could be:\n",
    "   ##### 🗝️for in for\n",
    "   ##### 🗝️while in while\n",
    "   ##### 🗝️for in while\n",
    "   ##### 🗝️while in for"
   ]
  },
  {
   "cell_type": "code",
   "execution_count": 121,
   "id": "4a478d64-2f04-4f50-91b0-92834359761e",
   "metadata": {},
   "outputs": [
    {
     "name": "stdout",
     "output_type": "stream",
     "text": [
      "123\n",
      "abc\n"
     ]
    }
   ],
   "source": [
    "x=[[1,2,3],[\"a\",\"b\",\"c\"]]\n",
    "for i in x:\n",
    "    for j in i:\n",
    "        print(j,end=\"\")\n",
    "    print()   \n"
   ]
  },
  {
   "cell_type": "markdown",
   "id": "42781ce0-d243-425f-a81c-71ce76fe1569",
   "metadata": {},
   "source": [
    "### Loop control Statements"
   ]
  },
  {
   "cell_type": "markdown",
   "id": "be4c6fc5-5eb9-4a98-a213-7d43e1ad1b0c",
   "metadata": {},
   "source": [
    "#### Loop control statement alter the regular flow of a loop.\n",
    "#### BREAK:    Transfers control to the statement right after the loop\n",
    "#### CONTINUE: Skips the statements following it and returns control to the beginning of                 the loops"
   ]
  },
  {
   "cell_type": "code",
   "execution_count": 134,
   "id": "354f24af-ec4c-4191-9bb3-39c64b54d440",
   "metadata": {},
   "outputs": [
    {
     "name": "stdout",
     "output_type": "stream",
     "text": [
      "this is python."
     ]
    }
   ],
   "source": [
    "x=\"this is python.\"\n",
    "for i in x:\n",
    "    if i==\" .\":\n",
    "        break\n",
    "    print(i,end=\"\")    "
   ]
  },
  {
   "cell_type": "code",
   "execution_count": 143,
   "id": "69eeb1d2-7bf3-4d04-acdc-f50ceb843cb6",
   "metadata": {},
   "outputs": [
    {
     "name": "stdout",
     "output_type": "stream",
     "text": [
      "1\n",
      "4\n",
      "6\n"
     ]
    }
   ],
   "source": [
    "for i in[1,13,56,4,6]:\n",
    "    if i>10:\n",
    "        continue\n",
    "    print(i)\n",
    "    "
   ]
  }
 ],
 "metadata": {
  "kernelspec": {
   "display_name": "Python [conda env:base] *",
   "language": "python",
   "name": "conda-base-py"
  },
  "language_info": {
   "codemirror_mode": {
    "name": "ipython",
    "version": 3
   },
   "file_extension": ".py",
   "mimetype": "text/x-python",
   "name": "python",
   "nbconvert_exporter": "python",
   "pygments_lexer": "ipython3",
   "version": "3.12.7"
  }
 },
 "nbformat": 4,
 "nbformat_minor": 5
}
