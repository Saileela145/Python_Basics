{
 "cells": [
  {
   "cell_type": "markdown",
   "id": "e8d5b935-0678-4e04-8cef-393b7d5c42a8",
   "metadata": {},
   "source": [
    "#### 📍Dictionary is an unordered collection of data stored as a pair of key and value\n",
    "#### Syntax: variable_name={key1:value1,key2:value2,...}"
   ]
  },
  {
   "cell_type": "code",
   "execution_count": 5,
   "id": "2b270c56-2473-4f71-99a4-419705cfbf75",
   "metadata": {},
   "outputs": [
    {
     "name": "stdout",
     "output_type": "stream",
     "text": [
      "{}\n",
      "<class 'dict'>\n"
     ]
    }
   ],
   "source": [
    "d1={}\n",
    "print(d1)\n",
    "print(type(d1))"
   ]
  },
  {
   "cell_type": "code",
   "execution_count": 9,
   "id": "ada95955-7d22-4e57-837f-8b87f376e24d",
   "metadata": {},
   "outputs": [
    {
     "name": "stdout",
     "output_type": "stream",
     "text": [
      "{1: 'hi', 2: 'this', 3: 'is', 4: 'python'}\n"
     ]
    }
   ],
   "source": [
    "dt={1:\"hi\",2:\"this\",3:\"is\",4:\"python\"}\n",
    "print(dt)"
   ]
  },
  {
   "cell_type": "code",
   "execution_count": 15,
   "id": "5602adf7-e791-479c-8115-6f038d17be5d",
   "metadata": {},
   "outputs": [
    {
     "name": "stdout",
     "output_type": "stream",
     "text": [
      "{'name': 'python', 'age': 'idk', 'work': 'coding'}\n"
     ]
    }
   ],
   "source": [
    "dn={\"name\":\"python\",\"age\":\"idk\",\"work\":\"coding\"}\n",
    "print(dn)"
   ]
  },
  {
   "cell_type": "code",
   "execution_count": 17,
   "id": "bda21a02-7bd5-441f-90c1-3d33265d6319",
   "metadata": {},
   "outputs": [
    {
     "name": "stdout",
     "output_type": "stream",
     "text": [
      "{1: 'hi', 2: 'this', 3: 'is', 4: 'python'}\n"
     ]
    }
   ],
   "source": [
    "dt=dict({1:\"hi\",2:\"this\",3:\"is\",4:\"python\"})\n",
    "print(dt)"
   ]
  },
  {
   "cell_type": "code",
   "execution_count": 19,
   "id": "3ad725c8-cd8b-4793-b630-95b92f284b02",
   "metadata": {},
   "outputs": [
    {
     "name": "stdout",
     "output_type": "stream",
     "text": [
      "{1: 'hi', 2: 'this', 3: 'is', 4: 'python'}\n"
     ]
    }
   ],
   "source": [
    "data=dict([(1,\"hi\"),(2,\"this\"),(3,\"is\"),(4,\"python\")])\n",
    "print(data)"
   ]
  },
  {
   "cell_type": "code",
   "execution_count": 21,
   "id": "220e8fa2-3f56-4f5b-8be1-867248f7ffc1",
   "metadata": {},
   "outputs": [
    {
     "name": "stdout",
     "output_type": "stream",
     "text": [
      "{'name': {'first': 'python', 'last': 'language'}, 'age': 90}\n"
     ]
    }
   ],
   "source": [
    "qt={\"name\":{\"first\":\"python\",\"last\":\"language\"},\"age\":90}\n",
    "print(qt)"
   ]
  },
  {
   "cell_type": "markdown",
   "id": "e462224e-b5fb-409a-bab2-a7d024c60094",
   "metadata": {},
   "source": [
    "### Adding elements"
   ]
  },
  {
   "cell_type": "code",
   "execution_count": 137,
   "id": "bd34805e-0be4-4d2f-87cc-b3a0baa774df",
   "metadata": {},
   "outputs": [
    {
     "name": "stdout",
     "output_type": "stream",
     "text": [
      "{0: 'hi'}\n"
     ]
    }
   ],
   "source": [
    "py={}\n",
    "py[0]=\"hi\"\n",
    "print(py)"
   ]
  },
  {
   "cell_type": "code",
   "execution_count": 139,
   "id": "b6c4cca3-33dc-4c4f-bb58-8654e3747e2c",
   "metadata": {},
   "outputs": [
    {
     "name": "stdout",
     "output_type": "stream",
     "text": [
      "{0: 'hi', 1: ('this', 'makes', 'easy')}\n"
     ]
    }
   ],
   "source": [
    "py[1]=(\"this\",\"makes\",\"easy\")\n",
    "print(py)"
   ]
  },
  {
   "cell_type": "code",
   "execution_count": 141,
   "id": "64919463-f3c8-4d23-bc31-5795287e6aee",
   "metadata": {},
   "outputs": [
    {
     "name": "stdout",
     "output_type": "stream",
     "text": [
      "{0: 'hi', 1: ('this', 'makes', 'easy'), 'name': 'san'}\n"
     ]
    }
   ],
   "source": [
    "py[\"name\"]=\"san\"\n",
    "print(py)"
   ]
  },
  {
   "cell_type": "code",
   "execution_count": 143,
   "id": "553031c5-46c6-424c-b5e6-12a2e22b8955",
   "metadata": {},
   "outputs": [
    {
     "name": "stdout",
     "output_type": "stream",
     "text": [
      "{0: 'hi', 1: ('this', 'makes', 'easy'), 'name': 'san', 'names': 'san'}\n"
     ]
    }
   ],
   "source": [
    "py[\"names\"]=\"san\"\n",
    "print(py)"
   ]
  },
  {
   "cell_type": "code",
   "execution_count": 145,
   "id": "c04b765e-4583-4fae-b760-3599bba11756",
   "metadata": {},
   "outputs": [
    {
     "name": "stdout",
     "output_type": "stream",
     "text": [
      "{0: 'hi', 1: ('this', 'makes', 'easy'), 'name': 'san', 'names': 'san', 'age': 'san'}\n"
     ]
    }
   ],
   "source": [
    "py[\"age\"]=\"san\"\n",
    "print(py)"
   ]
  },
  {
   "cell_type": "code",
   "execution_count": 147,
   "id": "e896194c-5628-4a68-91f8-37218ab352c9",
   "metadata": {},
   "outputs": [
    {
     "name": "stdout",
     "output_type": "stream",
     "text": [
      "{0: 'hi', 1: ('this', 'makes', 'easy'), 'name': 'san', 'names': 'san', 'age': 'san', 'Name': {'first': 'python', 'last': 'language'}}\n"
     ]
    }
   ],
   "source": [
    "py[\"Name\"]={\"first\":\"python\",\"last\":\"language\"}\n",
    "print(py)"
   ]
  },
  {
   "cell_type": "markdown",
   "id": "fbe783df-c517-4746-b467-b40ac7fc0668",
   "metadata": {},
   "source": [
    "#### Accessing elements"
   ]
  },
  {
   "cell_type": "code",
   "execution_count": 149,
   "id": "9cc9e830-c820-421c-a7c6-67fd1fc427cf",
   "metadata": {},
   "outputs": [
    {
     "name": "stdout",
     "output_type": "stream",
     "text": [
      "{0: 'hi', 1: ('this', 'makes', 'easy'), 'name': 'san', 'names': 'san', 'age': 'san', 'Name': {'first': 'python', 'last': 'language'}}\n"
     ]
    }
   ],
   "source": [
    "print(py)"
   ]
  },
  {
   "cell_type": "code",
   "execution_count": 108,
   "id": "6a3bdcee-76c5-47ca-a300-dd0fd22141f1",
   "metadata": {},
   "outputs": [
    {
     "name": "stdout",
     "output_type": "stream",
     "text": [
      "{'first': 'python', 'last': 'language'}\n"
     ]
    }
   ],
   "source": [
    "print(py[\"Name\"])"
   ]
  },
  {
   "cell_type": "code",
   "execution_count": 112,
   "id": "60fb1239-734d-40cc-9a37-57d56fc04063",
   "metadata": {},
   "outputs": [
    {
     "name": "stdout",
     "output_type": "stream",
     "text": [
      "python\n"
     ]
    }
   ],
   "source": [
    "print(py[\"Name\"][\"first\"])"
   ]
  },
  {
   "cell_type": "code",
   "execution_count": 116,
   "id": "4f9f1a6f-165a-44a3-bb9b-5e88322559f2",
   "metadata": {},
   "outputs": [
    {
     "name": "stdout",
     "output_type": "stream",
     "text": [
      "('this', 'makes', 'easy')\n"
     ]
    }
   ],
   "source": [
    "print(py.get(1))"
   ]
  },
  {
   "cell_type": "markdown",
   "id": "b49ac192-e3a8-4d62-99d3-68519d54c474",
   "metadata": {},
   "source": [
    "#### Deleting elements"
   ]
  },
  {
   "cell_type": "code",
   "execution_count": 119,
   "id": "b882a0c7-de11-4688-9cb3-29ba253ef3ad",
   "metadata": {},
   "outputs": [
    {
     "name": "stdout",
     "output_type": "stream",
     "text": [
      "{0: 'hi', 1: ('this', 'makes', 'easy'), 'name': 'san', 'names': 'san', 'age': 'san', 'Name': {'first': 'python', 'last': 'language'}}\n"
     ]
    }
   ],
   "source": [
    "print(py)"
   ]
  },
  {
   "cell_type": "code",
   "execution_count": 121,
   "id": "ed865728-95e9-42db-8f0f-1787d90d908d",
   "metadata": {},
   "outputs": [
    {
     "data": {
      "text/plain": [
       "'hi'"
      ]
     },
     "execution_count": 121,
     "metadata": {},
     "output_type": "execute_result"
    }
   ],
   "source": [
    "py.pop(0)"
   ]
  },
  {
   "cell_type": "code",
   "execution_count": 123,
   "id": "fad13bc8-b236-4ede-8950-cb1b01d1654c",
   "metadata": {},
   "outputs": [
    {
     "name": "stdout",
     "output_type": "stream",
     "text": [
      "{1: ('this', 'makes', 'easy'), 'name': 'san', 'names': 'san', 'age': 'san', 'Name': {'first': 'python', 'last': 'language'}}\n"
     ]
    }
   ],
   "source": [
    "print(py)"
   ]
  },
  {
   "cell_type": "code",
   "execution_count": 125,
   "id": "35872f28-8abd-4608-83c7-a330739bca06",
   "metadata": {},
   "outputs": [
    {
     "data": {
      "text/plain": [
       "('Name', {'first': 'python', 'last': 'language'})"
      ]
     },
     "execution_count": 125,
     "metadata": {},
     "output_type": "execute_result"
    }
   ],
   "source": [
    "py.popitem()"
   ]
  },
  {
   "cell_type": "code",
   "execution_count": 127,
   "id": "63cece5e-3acb-4d01-a8e9-754f72cd97d4",
   "metadata": {},
   "outputs": [
    {
     "name": "stdout",
     "output_type": "stream",
     "text": [
      "{1: ('this', 'makes', 'easy'), 'name': 'san', 'names': 'san', 'age': 'san'}\n"
     ]
    }
   ],
   "source": [
    "print(py)"
   ]
  },
  {
   "cell_type": "code",
   "execution_count": 153,
   "id": "8dbba198-cca5-4a0c-b27b-44c1fba53fb7",
   "metadata": {},
   "outputs": [
    {
     "name": "stdout",
     "output_type": "stream",
     "text": [
      "{0: 'hi', 1: ('this', 'makes', 'easy'), 'name': 'san', 'names': 'san', 'age': 'san', 'Name': {'first': 'python', 'last': 'language'}}\n"
     ]
    }
   ],
   "source": [
    "print(py) #### the output came like this because i went through past compliation again"
   ]
  },
  {
   "cell_type": "markdown",
   "id": "9f382c8e-32a3-481e-bbe5-46306dc009ce",
   "metadata": {},
   "source": [
    "#### Using built in functions"
   ]
  },
  {
   "cell_type": "code",
   "execution_count": 156,
   "id": "e219f3cc-85d6-4090-bd2b-e4acd116e931",
   "metadata": {},
   "outputs": [
    {
     "data": {
      "text/plain": [
       "dict_values(['hi', ('this', 'makes', 'easy'), 'san', 'san', 'san', {'first': 'python', 'last': 'language'}])"
      ]
     },
     "execution_count": 156,
     "metadata": {},
     "output_type": "execute_result"
    }
   ],
   "source": [
    "py.values()"
   ]
  },
  {
   "cell_type": "code",
   "execution_count": 160,
   "id": "0dd4816e-4daa-455b-a967-f46c4b872815",
   "metadata": {},
   "outputs": [
    {
     "data": {
      "text/plain": [
       "{'c': 1, 'b': 1, 'a': 1, 'd': 1}"
      ]
     },
     "execution_count": 160,
     "metadata": {},
     "output_type": "execute_result"
    }
   ],
   "source": [
    "keys={'a','b','c','d'}\n",
    "value=1\n",
    "dict.fromkeys(keys,value)"
   ]
  },
  {
   "cell_type": "code",
   "execution_count": 164,
   "id": "dea9ebed-6a25-4fea-8335-08eb05eaf6e4",
   "metadata": {},
   "outputs": [
    {
     "name": "stdout",
     "output_type": "stream",
     "text": [
      "{}\n"
     ]
    }
   ],
   "source": [
    "py.clear()\n",
    "print(py)"
   ]
  }
 ],
 "metadata": {
  "kernelspec": {
   "display_name": "Python [conda env:base] *",
   "language": "python",
   "name": "conda-base-py"
  },
  "language_info": {
   "codemirror_mode": {
    "name": "ipython",
    "version": 3
   },
   "file_extension": ".py",
   "mimetype": "text/x-python",
   "name": "python",
   "nbconvert_exporter": "python",
   "pygments_lexer": "ipython3",
   "version": "3.12.7"
  }
 },
 "nbformat": 4,
 "nbformat_minor": 5
}
